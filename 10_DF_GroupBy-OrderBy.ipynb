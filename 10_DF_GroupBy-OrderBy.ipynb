{
 "cells": [
  {
   "cell_type": "markdown",
   "id": "adc872e2",
   "metadata": {},
   "source": [
    "## groupBy()"
   ]
  },
  {
   "cell_type": "markdown",
   "id": "d7c02403",
   "metadata": {},
   "source": [
    "- groupBy  : 집계함수를 가지고 있는 GroupData 객체를 반환한다.  \n",
    "\n",
    "- GrouopData객체의 집계함수들을 사용해 grouping 된 데이터들의 집계결과를 저장하고 있는 DataFrame을 반환 받을 수 있다."
   ]
  },
  {
   "cell_type": "code",
   "execution_count": 6,
   "id": "437aec40",
   "metadata": {},
   "outputs": [],
   "source": [
    "from IPython.core.interactiveshell import InteractiveShell\n",
    "InteractiveShell.ast_node_interactivity = \"all\""
   ]
  },
  {
   "cell_type": "code",
   "execution_count": 7,
   "id": "b94b8fc1",
   "metadata": {},
   "outputs": [],
   "source": [
    "from datetime import date, datetime\n",
    "from pyspark.sql import *\n",
    "from pyspark.sql.types import *\n",
    "from pyspark.sql.functions import *\n",
    "from pyspark.sql import functions as F"
   ]
  },
  {
   "cell_type": "code",
   "execution_count": 8,
   "id": "9592eccb-818f-4179-a59a-c2a2f0352016",
   "metadata": {},
   "outputs": [
    {
     "name": "stdout",
     "output_type": "stream",
     "text": [
      "root\n",
      " |-- class_cd: string (nullable = true)\n",
      " |-- school: string (nullable = true)\n",
      " |-- class_std_cnt: string (nullable = true)\n",
      " |-- loc: string (nullable = true)\n",
      " |-- school_type: string (nullable = true)\n",
      " |-- teaching_type: string (nullable = true)\n",
      "\n"
     ]
    }
   ],
   "source": [
    "cdf = spark.read.csv(\"/dataframe/a_class_info.csv\", header=True)\n",
    "cdf.printSchema()"
   ]
  },
  {
   "cell_type": "code",
   "execution_count": 9,
   "id": "6c003818-bf76-4b08-b4f0-0a113b36e016",
   "metadata": {},
   "outputs": [],
   "source": [
    "# 지역별 교육타입별 학생 숫자를 구해보자.\n",
    "# cdf.groupby(cdf.loc, cdf.teaching_type).sum('class_std_cnt').show()\n",
    "# AnalysisException: \"class_std_cnt\" is not a numeric column.\n",
    "# class_std_cnt가 문자열이라 문제가 된다.\n",
    "# 스키마를 적용해서 해결 해보자"
   ]
  },
  {
   "cell_type": "code",
   "execution_count": 10,
   "id": "9eaaa261",
   "metadata": {},
   "outputs": [],
   "source": [
    "# 스키마 설정\n",
    "schema = StructType([\n",
    "    StructField(\"class_cd\", StringType()),\n",
    "    StructField(\"school\", StringType()),\n",
    "    StructField(\"class_std_cnt\", IntegerType()),\n",
    "    StructField(\"loc\", StringType()),\n",
    "    StructField(\"school_type\", StringType()),\n",
    "    StructField(\"teaching_type\", StringType()),\n",
    "])"
   ]
  },
  {
   "cell_type": "code",
   "execution_count": 13,
   "id": "6310c316",
   "metadata": {
    "scrolled": true
   },
   "outputs": [
    {
     "name": "stdout",
     "output_type": "stream",
     "text": [
      "root\n",
      " |-- class_cd: string (nullable = true)\n",
      " |-- school: string (nullable = true)\n",
      " |-- class_std_cnt: integer (nullable = true)\n",
      " |-- loc: string (nullable = true)\n",
      " |-- school_type: string (nullable = true)\n",
      " |-- teaching_type: string (nullable = true)\n",
      "\n"
     ]
    },
    {
     "data": {
      "text/plain": [
       "pyspark.sql.dataframe.DataFrame"
      ]
     },
     "execution_count": 13,
     "metadata": {},
     "output_type": "execute_result"
    }
   ],
   "source": [
    "cdf = spark.read.csv(\"/dataframe/a_class_info.csv\", header=True, schema=schema)\n",
    "cdf.printSchema()\n",
    "type(cdf)"
   ]
  },
  {
   "cell_type": "code",
   "execution_count": 15,
   "id": "be1a5d94-a9bf-491c-8003-06eb011655c5",
   "metadata": {},
   "outputs": [
    {
     "name": "stdout",
     "output_type": "stream",
     "text": [
      "+--------+-------------+------------------+\n",
      "|     loc|teaching_type|sum(class_std_cnt)|\n",
      "+--------+-------------+------------------+\n",
      "|   Rural| Experimental|               211|\n",
      "|    NULL|         NULL|              NULL|\n",
      "|   Urban|     Standard|               631|\n",
      "|Suburban|     Standard|               433|\n",
      "|   Rural|     Standard|               327|\n",
      "|Suburban| Experimental|               284|\n",
      "|   Urban| Experimental|               275|\n",
      "+--------+-------------+------------------+\n",
      "\n"
     ]
    }
   ],
   "source": [
    "# 지역별 교육타입별 학생 숫자를 구해보자.\n",
    "cdf.groupby(cdf.loc, cdf.teaching_type).sum(\"class_std_cnt\").show()"
   ]
  },
  {
   "cell_type": "markdown",
   "id": "b6d700a3-a97e-4070-845a-aa000b076678",
   "metadata": {},
   "source": [
    "- sql.df.where(\"조건문자열\" or 조건 표현식)"
   ]
  },
  {
   "cell_type": "code",
   "execution_count": 24,
   "id": "91e775b5-a721-4516-9e6a-13daea6a6a63",
   "metadata": {},
   "outputs": [
    {
     "name": "stdout",
     "output_type": "stream",
     "text": [
      "지역별 class 숫자를 계산해보자. 단 지역정보가 없는 데이터는 제외한다.\n",
      "+--------+-----+\n",
      "|     loc|count|\n",
      "+--------+-----+\n",
      "|   Urban|   37|\n",
      "|Suburban|   34|\n",
      "|   Rural|   28|\n",
      "+--------+-----+\n",
      "\n",
      "+--------+---------------+\n",
      "|     loc|count(class_cd)|\n",
      "+--------+---------------+\n",
      "|   Urban|             37|\n",
      "|Suburban|             34|\n",
      "|   Rural|             28|\n",
      "+--------+---------------+\n",
      "\n"
     ]
    }
   ],
   "source": [
    "print('지역별 class 숫자를 계산해보자. 단 지역정보가 없는 데이터는 제외한다.')\n",
    "cdf.where(cdf.loc.isNotNull()) \\\n",
    "    .groupby(cdf.loc) \\\n",
    "    .count().show() # count : group dataset 객체 내 집계 합수\n",
    "\n",
    "cdf.where(cdf.loc.isNotNull()) \\\n",
    "    .groupby(cdf.loc) \\\n",
    "    .agg(count(\"class_cd\")).show() # count : sql.function의 count 집계 함수"
   ]
  },
  {
   "cell_type": "code",
   "execution_count": 54,
   "id": "7a6eda3b-9a84-402f-b33e-923ec89fa0d8",
   "metadata": {},
   "outputs": [
    {
     "name": "stdout",
     "output_type": "stream",
     "text": [
      "지역별 교육타입별 학생 숫자와 평균을 구해보자. 단 학생 숫자가 300미만인 데이터는 제외한다.\n",
      "+--------+-------------+------------------+------------------+\n",
      "|     loc|teaching_type|sum(class_std_cnt)|avg(class_std_cnt)|\n",
      "+--------+-------------+------------------+------------------+\n",
      "|   Urban|     Standard|               631| 24.26923076923077|\n",
      "|Suburban|     Standard|               433|             21.65|\n",
      "|   Rural|     Standard|               327|           20.4375|\n",
      "+--------+-------------+------------------+------------------+\n",
      "\n",
      "컬럼명이 sum(class_std_cnt) 이라니 너무 이상하다. 집계함수를 수행하고 별칭을 붙여보자\n",
      "+--------+-------------+------+-----------------+\n",
      "|     loc|teaching_type|최댓값|             평균|\n",
      "+--------+-------------+------+-----------------+\n",
      "|   Urban|     Standard|   631|24.26923076923077|\n",
      "|Suburban|     Standard|   433|            21.65|\n",
      "|   Rural|     Standard|   327|          20.4375|\n",
      "+--------+-------------+------+-----------------+\n",
      "\n"
     ]
    }
   ],
   "source": [
    "print('지역별 교육타입별 학생 숫자와 평균을 구해보자. 단 학생 숫자가 300미만인 데이터는 제외한다.')\n",
    "cdf.groupby(cdf.loc, cdf.teaching_type) \\\n",
    "    .agg(sum(\"class_std_cnt\"), avg(\"class_std_cnt\")) \\\n",
    "    .where(sum(\"class_std_cnt\") >= 300).show()\n",
    "\n",
    "# cdf.groupby(cdf.loc, cdf.teaching_type) \\\n",
    "#     .agg(sum(\"class_std_cnt\"), avg(\"class_std_cnt\")) \\\n",
    "#     .where(col(\"sum(class_std_cnt)\") >= 300).show()\n",
    "\n",
    "print('컬럼명이 sum(class_std_cnt) 이라니 너무 이상하다. 집계함수를 수행하고 별칭을 붙여보자')\n",
    "cdf.groupby(cdf.loc, cdf.teaching_type) \\\n",
    "    .agg(sum(\"class_std_cnt\").alias(\"최댓값\"), \n",
    "         avg(\"class_std_cnt\").alias(\"평균\")) \\\n",
    "         .where(sum(\"class_std_cnt\") >= 300).show()"
   ]
  },
  {
   "cell_type": "code",
   "execution_count": 44,
   "id": "e9c804e4-3176-4891-8f69-3f60f7e6a5ac",
   "metadata": {},
   "outputs": [
    {
     "data": {
      "text/plain": [
       "['class_cd', 'school', 'class_std_cnt', 'loc', 'school_type', 'teaching_type']"
      ]
     },
     "execution_count": 44,
     "metadata": {},
     "output_type": "execute_result"
    }
   ],
   "source": [
    "cdf.columns"
   ]
  },
  {
   "cell_type": "code",
   "execution_count": 72,
   "id": "715766e4",
   "metadata": {},
   "outputs": [
    {
     "name": "stdout",
     "output_type": "stream",
     "text": [
      "+--------+-------------+----+\n",
      "|     loc|count(school)| tot|\n",
      "+--------+-------------+----+\n",
      "|   Urban|           37| 906|\n",
      "|    NULL|            0|NULL|\n",
      "|Suburban|           34| 717|\n",
      "|   Rural|           26| 538|\n",
      "+--------+-------------+----+\n",
      "\n",
      "+-----------+\n",
      "|학생수 차이|\n",
      "+-----------+\n",
      "|        368|\n",
      "+-----------+\n",
      "\n"
     ]
    }
   ],
   "source": [
    "# 학교가 가장 많이 위치한 지역의 학생 수 총합과, 가장 적게 위치한 지역의 학생 수 총 합 간의 차이를 구해보자\n",
    "# cdf.groupby(cdf.loc) \\\n",
    "#     .agg(count(\"school\")).show()\n",
    "cdf.groupby(cdf.loc) \\\n",
    "    .agg(count(\"school\"),\n",
    "        sum(\"class_std_cnt\").alias(\"tot\")).show()\n",
    "\n",
    "cdf.groupby(cdf.loc) \\\n",
    "    .agg(count(\"school\"),\n",
    "        sum(\"class_std_cnt\").alias(\"tot\")) \\\n",
    "    .where(cdf.loc.isNotNull()) \\\n",
    "    .select((max(col('tot')) - min(col('tot'))).alias(\"학생수 차이\")).show()"
   ]
  },
  {
   "cell_type": "markdown",
   "id": "e6aa0937",
   "metadata": {},
   "source": [
    "#### sql"
   ]
  },
  {
   "cell_type": "code",
   "execution_count": 62,
   "id": "dc07fd97-b02a-4fb6-8394-d21795ba976c",
   "metadata": {},
   "outputs": [],
   "source": [
    "# dataFrame을 view테이블로 등록\n",
    "cdf.createOrReplaceTempView(\"classV\")"
   ]
  },
  {
   "cell_type": "code",
   "execution_count": null,
   "id": "d8c7a772-0e53-48c3-907b-53d4da8318cd",
   "metadata": {},
   "outputs": [],
   "source": [
    "print('지역별 class 숫자를 계산해보자. 단 지역정보가 없는 데이터는 제외한다.')\n",
    "# count(\"*\") : record를 세기때문에 행의 모든 값이 null이 아닌이상 count\n",
    "spark.sql('''\n",
    "    select loc, count(\"*\")\n",
    "    from classV\n",
    "    group by loc\n",
    "    having loc is not null    \n",
    "''').show()\n",
    "# count(\"특정열\") : 특정열의 값을 세기때문에 값이 null인 경우 안세줌\n",
    "spark.sql('''\n",
    "    select loc, count(\"class_cd\") as count\n",
    "    from classV\n",
    "    group by loc\n",
    "    having loc is not null    \n",
    "''').show()"
   ]
  },
  {
   "cell_type": "code",
   "execution_count": 69,
   "id": "4bbf65d9-83ec-4a10-80fa-6431e2b959da",
   "metadata": {},
   "outputs": [
    {
     "name": "stdout",
     "output_type": "stream",
     "text": [
      "지역내 교육타입별 학생 숫자와 평균을 구해보자. \n",
      "단  지역내 교육타입별 학생 숫자의 총 합이 300미만인 데이터는 제외한다.\n",
      "+--------+-------------+------------------+------------------+\n",
      "|     loc|teaching_type|sum(class_std_cnt)|avg(class_std_cnt)|\n",
      "+--------+-------------+------------------+------------------+\n",
      "|   Urban|     Standard|               631| 24.26923076923077|\n",
      "|Suburban|     Standard|               433|             21.65|\n",
      "|   Rural|     Standard|               327|           20.4375|\n",
      "+--------+-------------+------------------+------------------+\n",
      "\n",
      "컬럼명이 sum(class_std_cnt) 이라니 너무 이상하다. 집계함수를 수행하고 별칭을 붙여보자\n"
     ]
    }
   ],
   "source": [
    "print('''지역내 교육타입별 학생 숫자와 평균을 구해보자. \n",
    "단  지역내 교육타입별 학생 숫자의 총 합이 300미만인 데이터는 제외한다.''')   \n",
    "spark.sql('''\n",
    "    select loc, teaching_type, sum(class_std_cnt), avg(class_std_cnt)\n",
    "    from classV\n",
    "    group by loc, teaching_type\n",
    "    having sum(class_std_cnt) >= 300\n",
    "''').show()\n",
    "\n",
    "print('컬럼명이 sum(class_std_cnt) 이라니 너무 이상하다. 집계함수를 수행하고 별칭을 붙여보자')"
   ]
  },
  {
   "cell_type": "markdown",
   "id": "63967ebe",
   "metadata": {},
   "source": [
    "## orderBy()"
   ]
  },
  {
   "cell_type": "code",
   "execution_count": null,
   "id": "b55f95e6-75c3-4291-840c-0d840ea2358e",
   "metadata": {},
   "outputs": [],
   "source": [
    "print('반 학생 숫자를 기준으로 내림차순 정렬하라')\n",
    "cdf.orderBy(cdf.class_std_cnt.desc()).show(2)\n",
    "print('loc를 기준으로 오름차순 정렬하라, 이때 같은 지역끼리는 학교이름을 기준으로 내림차순 정렬하라')\n",
    "cdf.orderBy(cdf.loc.asc(), cdf.school.desc()).show(2)"
   ]
  },
  {
   "cell_type": "code",
   "execution_count": 92,
   "id": "df3b1811-5147-4431-89aa-de303a27ada7",
   "metadata": {},
   "outputs": [
    {
     "name": "stdout",
     "output_type": "stream",
     "text": [
      "학교 종류를 기준으로 오름차순 정렬하라, 만약 school_type이 null인 행이 있다면 제일 위로 오게 하라\n",
      "+--------+------+-------------+-----+-----------+-------------+\n",
      "|class_cd|school|class_std_cnt|  loc|school_type|teaching_type|\n",
      "+--------+------+-------------+-----+-----------+-------------+\n",
      "|     6PP|  NULL|         NULL| NULL|       NULL|         NULL|\n",
      "|     4SZ|  NULL|         NULL| NULL|       NULL|         NULL|\n",
      "|     5SD|  NULL|         NULL| NULL|       NULL|         NULL|\n",
      "|     6OL| ANKYI|           20|Urban| Non-public|     Standard|\n",
      "+--------+------+-------------+-----+-----------+-------------+\n",
      "only showing top 4 rows\n",
      "\n",
      "+--------+------+-------------+--------+-----------+-------------+\n",
      "|class_cd|school|class_std_cnt|     loc|school_type|teaching_type|\n",
      "+--------+------+-------------+--------+-----------+-------------+\n",
      "|     1Q1| CUQAM|           28|   Urban|     Public|     Standard|\n",
      "|     2AP| DNQDD|           27|Suburban|     Public|     Standard|\n",
      "|     BFY| CUQAM|           27|   Urban|     Public|     Standard|\n",
      "|     OMI| CUQAM|           28|   Urban|     Public|     Standard|\n",
      "+--------+------+-------------+--------+-----------+-------------+\n",
      "only showing top 4 rows\n",
      "\n",
      "+--------+------+-------------+-----+-----------+-------------+\n",
      "|class_cd|school|class_std_cnt|  loc|school_type|teaching_type|\n",
      "+--------+------+-------------+-----+-----------+-------------+\n",
      "|     6PP|  NULL|         NULL| NULL|       NULL|         NULL|\n",
      "|     4SZ|  NULL|         NULL| NULL|       NULL|         NULL|\n",
      "|     5SD|  NULL|         NULL| NULL|       NULL|         NULL|\n",
      "|     1Q1| CUQAM|           28|Urban|     Public|     Standard|\n",
      "+--------+------+-------------+-----+-----------+-------------+\n",
      "only showing top 4 rows\n",
      "\n",
      "+--------+------+-------------+--------+-----------+-------------+\n",
      "|class_cd|school|class_std_cnt|     loc|school_type|teaching_type|\n",
      "+--------+------+-------------+--------+-----------+-------------+\n",
      "|     6OL| ANKYI|           20|   Urban| Non-public|     Standard|\n",
      "|     ZNS| ANKYI|           21|   Urban| Non-public|     Standard|\n",
      "|     2B1| CCAAW|           18|Suburban| Non-public| Experimental|\n",
      "|     EPS| CCAAW|           20|Suburban| Non-public| Experimental|\n",
      "|     IQN| CCAAW|           15|Suburban| Non-public| Experimental|\n",
      "|     PGK| CCAAW|           21|Suburban| Non-public|     Standard|\n",
      "|     UHU| CCAAW|           16|Suburban| Non-public| Experimental|\n",
      "|     UWK| CCAAW|           19|Suburban| Non-public|     Standard|\n",
      "|     A33| CIMBB|           19|   Urban| Non-public|     Standard|\n",
      "|     EID| CIMBB|           21|   Urban| Non-public|     Standard|\n",
      "|     HUJ| CIMBB|           17|   Urban| Non-public| Experimental|\n",
      "|     PC6| CIMBB|           17|   Urban| Non-public|     Standard|\n",
      "|     197| FBUMG|           14|   Rural| Non-public| Experimental|\n",
      "|     5LQ| FBUMG|           18|   Rural| Non-public| Experimental|\n",
      "|     JGD| FBUMG|           14|   Rural| Non-public| Experimental|\n",
      "|     05H| IDGFP|           22|   Urban| Non-public|     Standard|\n",
      "|     98D| IDGFP|           21|   Urban| Non-public| Experimental|\n",
      "|     G2L| IDGFP|           17|   Urban| Non-public|     Standard|\n",
      "|     P2A| IDGFP|           17|   Urban| Non-public| Experimental|\n",
      "|     XZM| IDGFP|           17|   Urban| Non-public|     Standard|\n",
      "+--------+------+-------------+--------+-----------+-------------+\n",
      "only showing top 20 rows\n",
      "\n"
     ]
    }
   ],
   "source": [
    "# 연습\n",
    "# null이 가장 작은수로 판단\n",
    "# 내림차순 : 가장 아래로\n",
    "# 오름차순 : null을 가장 먼저\n",
    "print('학교 종류를 기준으로 오름차순 정렬하라, 만약 school_type이 null인 행이 있다면 제일 위로 오게 하라')\n",
    "cdf.orderBy(cdf.school_type.asc()).show(4)\n",
    "cdf.orderBy(cdf.school_type.desc()).show(4)\n",
    "cdf.orderBy(cdf.school_type.desc_nulls_first()).show(4)\n",
    "cdf.orderBy(cdf.school_type.asc_nulls_last()).show()"
   ]
  },
  {
   "cell_type": "markdown",
   "id": "51d2e484",
   "metadata": {},
   "source": [
    "#### sql"
   ]
  },
  {
   "cell_type": "code",
   "execution_count": 84,
   "id": "18fcd372-f0b7-4dfb-b5f2-794b066198df",
   "metadata": {},
   "outputs": [
    {
     "name": "stdout",
     "output_type": "stream",
     "text": [
      "반 학생 숫자를 기준으로 내림차순 정렬하라\n",
      "+--------+------+-------------+--------+-----------+-------------+\n",
      "|class_cd|school|class_std_cnt|     loc|school_type|teaching_type|\n",
      "+--------+------+-------------+--------+-----------+-------------+\n",
      "|     18K| GOOBU|           31|   Urban|     Public|     Standard|\n",
      "|     A93| VVTVA|           30|   Urban|     Public| Experimental|\n",
      "|     YTB| VVTVA|           30|   Urban|     Public| Experimental|\n",
      "|     Q0E| ZOWMK|           30|   Urban|     Public| Experimental|\n",
      "|     QA2| ZOWMK|           30|   Urban|     Public|     Standard|\n",
      "|     ZBH| ZOWMK|           30|   Urban|     Public|     Standard|\n",
      "|     7BL| VVTVA|           29|   Urban|     Public|     Standard|\n",
      "|     1Q1| CUQAM|           28|   Urban|     Public|     Standard|\n",
      "|     OMI| CUQAM|           28|   Urban|     Public|     Standard|\n",
      "|     ROP| DNQDD|           28|Suburban|     Public| Experimental|\n",
      "|     HKF| GOOBU|           28|   Urban|     Public|     Standard|\n",
      "|     0N7| QOQTS|           28|   Urban|     Public| Experimental|\n",
      "|     SUR| QOQTS|           28|   Urban|     Public|     Standard|\n",
      "|     1VD| KFZMY|           27|   Urban| Non-public| Experimental|\n",
      "|     BFY| CUQAM|           27|   Urban|     Public|     Standard|\n",
      "|     2AP| DNQDD|           27|Suburban|     Public|     Standard|\n",
      "|     XXJ| DNQDD|           27|Suburban|     Public|     Standard|\n",
      "|     NOR| GJJHK|           27|Suburban|     Public| Experimental|\n",
      "|     ZDT| GJJHK|           27|Suburban|     Public|     Standard|\n",
      "|     CII| ZOWMK|           27|   Urban|     Public|     Standard|\n",
      "+--------+------+-------------+--------+-----------+-------------+\n",
      "only showing top 20 rows\n",
      "\n",
      "loc를 기준으로 오름차순 정렬하라, 이때 같은 지역끼리는 학교이름을 기준으로 내림차순 정렬하라\n",
      "+--------+------+-------------+-----+-----------+-------------+\n",
      "|class_cd|school|class_std_cnt|  loc|school_type|teaching_type|\n",
      "+--------+------+-------------+-----+-----------+-------------+\n",
      "|     6PP|  NULL|         NULL| NULL|       NULL|         NULL|\n",
      "|     4SZ|  NULL|         NULL| NULL|       NULL|         NULL|\n",
      "|     5SD|  NULL|         NULL| NULL|       NULL|         NULL|\n",
      "|     341| VKWQH|           18|Rural|     Public|     Standard|\n",
      "|     D33| VKWQH|           21|Rural|     Public|     Standard|\n",
      "|     DFQ| VKWQH|           19|Rural|     Public| Experimental|\n",
      "|     GYM| VKWQH|           20|Rural|     Public|     Standard|\n",
      "|     IEM| VKWQH|           22|Rural|     Public| Experimental|\n",
      "|     CD8| VHDHF|           20|Rural| Non-public| Experimental|\n",
      "|     J6X| VHDHF|           16|Rural| Non-public|     Standard|\n",
      "|     KR1| VHDHF|           15|Rural| Non-public| Experimental|\n",
      "|     5SZ| OJOBU|           17|Rural|     Public| Experimental|\n",
      "|     6U9| OJOBU|           22|Rural|     Public|     Standard|\n",
      "|     FS3| OJOBU|           19|Rural|     Public|     Standard|\n",
      "|     XJ8| OJOBU|           23|Rural|     Public|     Standard|\n",
      "|     AJ1| LAYPA|           21|Rural|     Public|     Standard|\n",
      "|     J8J| LAYPA|           19|Rural|     Public|     Standard|\n",
      "|     RA5| LAYPA|           17|Rural|     Public| Experimental|\n",
      "|     2BR| KZKKE|           20|Rural|     Public|     Standard|\n",
      "|     3D0| KZKKE|           22|Rural|     Public|     Standard|\n",
      "+--------+------+-------------+-----+-----------+-------------+\n",
      "only showing top 20 rows\n",
      "\n"
     ]
    }
   ],
   "source": [
    "print('반 학생 숫자를 기준으로 내림차순 정렬하라')\n",
    "spark.sql('''\n",
    "    select *\n",
    "    from classV\n",
    "    order by class_std_cnt desc\n",
    "''').show()\n",
    "print('loc를 기준으로 오름차순 정렬하라, 이때 같은 지역끼리는 학교이름을 기준으로 내림차순 정렬하라')\n",
    "spark.sql('''\n",
    "    select *\n",
    "    from classV\n",
    "    order by loc asc, school desc\n",
    "''').show()"
   ]
  },
  {
   "cell_type": "code",
   "execution_count": 94,
   "id": "b6d9d699-60cd-4981-a381-cf6bfb1bd450",
   "metadata": {},
   "outputs": [
    {
     "name": "stdout",
     "output_type": "stream",
     "text": [
      "학교 종류를 기준으로 오름차순 정렬하라, 만약 school_type이 null인 행이 있다면 제일 위로 오게 하라\n",
      "+--------+------+-------------+--------+-----------+-------------+\n",
      "|class_cd|school|class_std_cnt|     loc|school_type|teaching_type|\n",
      "+--------+------+-------------+--------+-----------+-------------+\n",
      "|     6OL| ANKYI|           20|   Urban| Non-public|     Standard|\n",
      "|     ZNS| ANKYI|           21|   Urban| Non-public|     Standard|\n",
      "|     2B1| CCAAW|           18|Suburban| Non-public| Experimental|\n",
      "|     EPS| CCAAW|           20|Suburban| Non-public| Experimental|\n",
      "|     IQN| CCAAW|           15|Suburban| Non-public| Experimental|\n",
      "|     PGK| CCAAW|           21|Suburban| Non-public|     Standard|\n",
      "|     UHU| CCAAW|           16|Suburban| Non-public| Experimental|\n",
      "|     UWK| CCAAW|           19|Suburban| Non-public|     Standard|\n",
      "|     A33| CIMBB|           19|   Urban| Non-public|     Standard|\n",
      "|     EID| CIMBB|           21|   Urban| Non-public|     Standard|\n",
      "|     HUJ| CIMBB|           17|   Urban| Non-public| Experimental|\n",
      "|     PC6| CIMBB|           17|   Urban| Non-public|     Standard|\n",
      "|     197| FBUMG|           14|   Rural| Non-public| Experimental|\n",
      "|     5LQ| FBUMG|           18|   Rural| Non-public| Experimental|\n",
      "|     JGD| FBUMG|           14|   Rural| Non-public| Experimental|\n",
      "|     05H| IDGFP|           22|   Urban| Non-public|     Standard|\n",
      "|     98D| IDGFP|           21|   Urban| Non-public| Experimental|\n",
      "|     G2L| IDGFP|           17|   Urban| Non-public|     Standard|\n",
      "|     P2A| IDGFP|           17|   Urban| Non-public| Experimental|\n",
      "|     XZM| IDGFP|           17|   Urban| Non-public|     Standard|\n",
      "+--------+------+-------------+--------+-----------+-------------+\n",
      "only showing top 20 rows\n",
      "\n"
     ]
    }
   ],
   "source": [
    "# 연습\n",
    "print('학교 종류를 기준으로 오름차순 정렬하라, 만약 school_type이 null인 행이 있다면 제일 위로 오게 하라')\n",
    "spark.sql('''\n",
    "    select *\n",
    "    from classV\n",
    "    order by school_type is null, school_type asc\n",
    "''').show()"
   ]
  },
  {
   "cell_type": "code",
   "execution_count": null,
   "id": "2563e36c-afa1-4469-a3a5-0cfd6f973350",
   "metadata": {},
   "outputs": [],
   "source": []
  }
 ],
 "metadata": {
  "kernelspec": {
   "display_name": "Python 3 (ipykernel)",
   "language": "python",
   "name": "python3"
  },
  "language_info": {
   "codemirror_mode": {
    "name": "ipython",
    "version": 3
   },
   "file_extension": ".py",
   "mimetype": "text/x-python",
   "name": "python",
   "nbconvert_exporter": "python",
   "pygments_lexer": "ipython3",
   "version": "3.10.12"
  }
 },
 "nbformat": 4,
 "nbformat_minor": 5
}
