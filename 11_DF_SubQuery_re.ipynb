{
 "cells": [
  {
   "cell_type": "code",
   "execution_count": 1,
   "id": "145e9bce",
   "metadata": {},
   "outputs": [],
   "source": [
    "from IPython.core.interactiveshell import InteractiveShell\n",
    "InteractiveShell.ast_node_interactivity = \"all\""
   ]
  },
  {
   "cell_type": "code",
   "execution_count": 2,
   "id": "b629dd36",
   "metadata": {},
   "outputs": [],
   "source": [
    "from datetime import date, datetime\n",
    "from pyspark.sql import *\n",
    "from pyspark.sql.types import *\n",
    "from pyspark.sql.functions import *\n",
    "from pyspark.sql import functions as F"
   ]
  },
  {
   "cell_type": "code",
   "execution_count": 3,
   "id": "669e772e",
   "metadata": {},
   "outputs": [
    {
     "name": "stderr",
     "output_type": "stream",
     "text": [
      "                                                                                "
     ]
    },
    {
     "name": "stdout",
     "output_type": "stream",
     "text": [
      "root\n",
      " |-- class_cd: string (nullable = true)\n",
      " |-- school: string (nullable = true)\n",
      " |-- class_std_cnt: string (nullable = true)\n",
      " |-- loc: string (nullable = true)\n",
      " |-- school_type: string (nullable = true)\n",
      " |-- teaching_type: string (nullable = true)\n",
      "\n"
     ]
    },
    {
     "data": {
      "text/plain": [
       "pyspark.sql.dataframe.DataFrame"
      ]
     },
     "execution_count": 3,
     "metadata": {},
     "output_type": "execute_result"
    },
    {
     "name": "stderr",
     "output_type": "stream",
     "text": [
      "[Stage 1:>                                                          (0 + 1) / 1]"
     ]
    },
    {
     "name": "stdout",
     "output_type": "stream",
     "text": [
      "+--------+------+-------------+--------+-----------+-------------+\n",
      "|class_cd|school|class_std_cnt|     loc|school_type|teaching_type|\n",
      "+--------+------+-------------+--------+-----------+-------------+\n",
      "|     6OL| ANKYI|           20|   Urban| Non-public|     Standard|\n",
      "|     ZNS| ANKYI|           21|   Urban| Non-public|     Standard|\n",
      "|     2B1| CCAAW|           18|Suburban| Non-public| Experimental|\n",
      "+--------+------+-------------+--------+-----------+-------------+\n",
      "only showing top 3 rows\n",
      "\n"
     ]
    },
    {
     "name": "stderr",
     "output_type": "stream",
     "text": [
      "                                                                                "
     ]
    }
   ],
   "source": [
    "cdf = spark.read.csv('/dataframe/a_class_info.csv', header=True)\n",
    "cdf.printSchema()\n",
    "type(cdf)\n",
    "cdf.show(3)"
   ]
  },
  {
   "cell_type": "code",
   "execution_count": 4,
   "id": "501dc3da-5d1d-4aa5-bbf3-8b4c74ee676d",
   "metadata": {},
   "outputs": [
    {
     "data": {
      "text/plain": [
       "['class_cd', 'school', 'class_std_cnt', 'loc', 'school_type', 'teaching_type']"
      ]
     },
     "execution_count": 4,
     "metadata": {},
     "output_type": "execute_result"
    }
   ],
   "source": [
    "cdf.columns"
   ]
  },
  {
   "cell_type": "markdown",
   "id": "ff01aab9-d4f3-4f0d-ad75-6f30a31e4eee",
   "metadata": {},
   "source": [
    "### 각 반 학생수(class_std_cnt)가 평균 반 학생수보다 많은 class의 data를 추출하시오"
   ]
  },
  {
   "cell_type": "markdown",
   "id": "6369fe71-0c1d-4989-9b2c-20beeb83371f",
   "metadata": {},
   "source": [
    "['class_cd', 'school', 'class_std_cnt', 'loc', 'school_type', 'teaching_type']\n",
    "반코드        학교이름   반 학생수       지역    학교형태       교육형태"
   ]
  },
  {
   "cell_type": "code",
   "execution_count": 5,
   "id": "e3f0d2de-8713-4d3c-9033-5d8d4b557c6f",
   "metadata": {},
   "outputs": [],
   "source": [
    "# view 생성\n",
    "cdf.createOrReplaceTempView('class')"
   ]
  },
  {
   "cell_type": "code",
   "execution_count": 6,
   "id": "4d1cdb66-be11-4670-8b59-7cd408e5cfa2",
   "metadata": {},
   "outputs": [],
   "source": [
    "# where 절에서 평균 반 학생수를 구하고 그 값보다 많은 반을 추출\n",
    "# 에러발생 : where절에서는 집계함수 사용 불가\n",
    "# spark.sql('''\n",
    "#     select * from class\n",
    "#     where class_std_cnt >= avg(class_std_cnt) and class_std_cnt is not null\n",
    "# ''')"
   ]
  },
  {
   "cell_type": "markdown",
   "id": "d34e3bc7-d733-440f-b378-05c17265a54e",
   "metadata": {},
   "source": [
    "- subquery 사용\n",
    "  1. subquery 이용 평균 반 학생수를 전달하기\n",
    "  2. where 절에서 반 학생수가 1에서 전달받은 값보다 큰 data 추출"
   ]
  },
  {
   "cell_type": "code",
   "execution_count": 7,
   "id": "1204e7bc-b991-4530-bd21-37fcb6f7781b",
   "metadata": {},
   "outputs": [
    {
     "name": "stdout",
     "output_type": "stream",
     "text": [
      "+------------------+\n",
      "|avg(class_std_cnt)|\n",
      "+------------------+\n",
      "|21.828282828282827|\n",
      "+------------------+\n",
      "\n"
     ]
    }
   ],
   "source": [
    "# 1. subquery - 평균 반 학생수 select 하는 쿼리(집계함수는 select 절에만 사용가능)\n",
    "spark.sql('select avg(class_std_cnt) from class where class_std_cnt is not null').show()"
   ]
  },
  {
   "cell_type": "code",
   "execution_count": 8,
   "id": "9cd27bd3-a3f1-427a-9c61-bae250b664d9",
   "metadata": {},
   "outputs": [
    {
     "data": {
      "text/plain": [
       "DataFrame[class_cd: string, school: string, class_std_cnt: string, loc: string, school_type: string, teaching_type: string]"
      ]
     },
     "execution_count": 8,
     "metadata": {},
     "output_type": "execute_result"
    }
   ],
   "source": [
    "#2. 1의 query를 where에 비교 대상으로 사용(subquery 적용)\n",
    "spark.sql('''\n",
    "    select * from class\n",
    "    where (class_std_cnt >= (select avg(class_std_cnt) from class)) and (class_std_cnt is not null)\n",
    "''')"
   ]
  },
  {
   "cell_type": "markdown",
   "id": "8071b569-5bc0-474a-9d2a-fe202e8d963d",
   "metadata": {},
   "source": [
    "### DF method  사용"
   ]
  },
  {
   "cell_type": "code",
   "execution_count": 9,
   "id": "7484d273-05bb-4a21-af57-687e7d86ef9d",
   "metadata": {},
   "outputs": [],
   "source": [
    "# cdf.select('*')\\\n",
    "#    .where(cdf.class_std_cnt >= avg(cdf.class_std_cnt))\n",
    "# where절에서 집계함수 사용해서 에러 발생, avg(cdf.class_std_cnt)이 코드가 값으로 명시가 되어야 함"
   ]
  },
  {
   "cell_type": "code",
   "execution_count": 10,
   "id": "ba72e728-35ed-4f0e-ac8f-ebeff4894190",
   "metadata": {},
   "outputs": [
    {
     "data": {
      "text/plain": [
       "pyspark.sql.dataframe.DataFrame"
      ]
     },
     "execution_count": 10,
     "metadata": {},
     "output_type": "execute_result"
    },
    {
     "data": {
      "text/plain": [
       "[Row(avg(class_std_cnt)=21.828282828282827)]"
      ]
     },
     "execution_count": 10,
     "metadata": {},
     "output_type": "execute_result"
    },
    {
     "data": {
      "text/plain": [
       "Row(avg(class_std_cnt)=21.828282828282827)"
      ]
     },
     "execution_count": 10,
     "metadata": {},
     "output_type": "execute_result"
    },
    {
     "data": {
      "text/plain": [
       "21.828282828282827"
      ]
     },
     "execution_count": 10,
     "metadata": {},
     "output_type": "execute_result"
    }
   ],
   "source": [
    "type(cdf.select(avg('class_std_cnt'))) # df\n",
    "cdf.select(avg('class_std_cnt')).collect()\n",
    "cdf.select(avg('class_std_cnt')).collect()[0]\n",
    "cdf.select(avg('class_std_cnt')).collect()[0][0]\n",
    "# cdf.select(avg('class_std_cnt')).collect()[0][0]"
   ]
  },
  {
   "cell_type": "code",
   "execution_count": 11,
   "id": "94a0b99e-16bd-45c3-b5d2-db913eaf04ca",
   "metadata": {},
   "outputs": [
    {
     "name": "stdout",
     "output_type": "stream",
     "text": [
      "+--------+------+-------------+-----+-----------+-------------+\n",
      "|class_cd|school|class_std_cnt|  loc|school_type|teaching_type|\n",
      "+--------+------+-------------+-----+-----------+-------------+\n",
      "|     1Q1| CUQAM|           28|Urban|     Public|     Standard|\n",
      "|     BFY| CUQAM|           27|Urban|     Public|     Standard|\n",
      "+--------+------+-------------+-----+-----------+-------------+\n",
      "only showing top 2 rows\n",
      "\n"
     ]
    }
   ],
   "source": [
    "# df method 사용\n",
    "cdf.select('*')\\\n",
    "   .where(cdf.class_std_cnt >= cdf.select(avg('class_std_cnt')).collect()[0][0]).show(2)"
   ]
  },
  {
   "cell_type": "code",
   "execution_count": null,
   "id": "66bfcf89-889e-4d37-bbc0-60176c416460",
   "metadata": {},
   "outputs": [],
   "source": []
  },
  {
   "cell_type": "markdown",
   "id": "226634b7",
   "metadata": {},
   "source": [
    "### 복잡한 연산도 해보자"
   ]
  },
  {
   "cell_type": "markdown",
   "id": "efea6ec5-07d7-426d-b455-3e34609499e0",
   "metadata": {},
   "source": [
    "#### case 0. 학교가 가장 많이 위치한 지역의 학생 수 총합과, 가장 적게 위치한 지역의 학생 수 총 합 간의 차이를 구해보자"
   ]
  },
  {
   "cell_type": "code",
   "execution_count": 12,
   "id": "a6568b9a-3e47-4009-99a7-7ba91c6c7d4e",
   "metadata": {},
   "outputs": [
    {
     "name": "stdout",
     "output_type": "stream",
     "text": [
      "+--------+------+-------------+-----+-----------+-------------+\n",
      "|class_cd|school|class_std_cnt|  loc|school_type|teaching_type|\n",
      "+--------+------+-------------+-----+-----------+-------------+\n",
      "|     6OL| ANKYI|           20|Urban| Non-public|     Standard|\n",
      "+--------+------+-------------+-----+-----------+-------------+\n",
      "only showing top 1 row\n",
      "\n"
     ]
    }
   ],
   "source": [
    "cdf.show(1)"
   ]
  },
  {
   "cell_type": "markdown",
   "id": "1cdffefd-6da4-41b9-b549-89abf02c2244",
   "metadata": {},
   "source": [
    "#### count(\"컬럼\")\n",
    "- 중복 포함 개수\n",
    "    - \n",
    "#### count_distinct(\"컬럼\")\n",
    "- 중복을 제외하고 개수\n",
    "    <!-- - ex. 각 지역별 학교의 수 -->"
   ]
  },
  {
   "cell_type": "code",
   "execution_count": 13,
   "id": "c6406aec-540f-401c-8082-58ebe003088c",
   "metadata": {},
   "outputs": [
    {
     "name": "stdout",
     "output_type": "stream",
     "text": [
      "+------+------+\n",
      "|maxCnt|minCnt|\n",
      "+------+------+\n",
      "|    37|    26|\n",
      "+------+------+\n",
      "\n"
     ]
    }
   ],
   "source": [
    "# 학교가 가장 많이 위치한 지역의 학교수와 가장 적게 위치한 지역의 학교수 구해 리스트로 반환\n",
    "cdf.where(cdf.loc.isNotNull()) \\\n",
    "    .groupby(cdf.loc) \\\n",
    "    .agg(count(\"school\").alias(\"school_cnt\")) \\\n",
    "    .agg(max(\"school_cnt\").alias(\"maxCnt\"), min(\"school_cnt\").alias(\"minCnt\")) \\\n",
    "    .show()"
   ]
  },
  {
   "cell_type": "code",
   "execution_count": 14,
   "id": "cb8ef4a9-434d-4f4f-8db3-6b8b0e4d5d2d",
   "metadata": {},
   "outputs": [
    {
     "data": {
      "text/plain": [
       "[Row(maxCnt=9, minCnt=7)]"
      ]
     },
     "execution_count": 14,
     "metadata": {},
     "output_type": "execute_result"
    },
    {
     "data": {
      "text/plain": [
       "Row(maxCnt=9, minCnt=7)"
      ]
     },
     "execution_count": 14,
     "metadata": {},
     "output_type": "execute_result"
    },
    {
     "data": {
      "text/plain": [
       "9"
      ]
     },
     "execution_count": 14,
     "metadata": {},
     "output_type": "execute_result"
    },
    {
     "data": {
      "text/plain": [
       "7"
      ]
     },
     "execution_count": 14,
     "metadata": {},
     "output_type": "execute_result"
    }
   ],
   "source": [
    "school_cnt = cdf.where(cdf.loc.isNotNull()) \\\n",
    "    .groupby(cdf.loc) \\\n",
    "    .agg(count_distinct(\"school\").alias(\"school_cnt\")) \\\n",
    "    .agg(max(\"school_cnt\").alias(\"maxCnt\"), min(\"school_cnt\").alias(\"minCnt\"))\n",
    "school_cnt.collect()\n",
    "school_cnt.collect()[0]\n",
    "school_cnt.collect()[0][0]\n",
    "school_cnt.collect()[0][1]"
   ]
  },
  {
   "cell_type": "code",
   "execution_count": 15,
   "id": "47eb5867-0247-4af4-8821-c777d268884c",
   "metadata": {},
   "outputs": [
    {
     "data": {
      "text/plain": [
       "[9, 7]"
      ]
     },
     "execution_count": 15,
     "metadata": {},
     "output_type": "execute_result"
    }
   ],
   "source": [
    "[cnt for cnt in\n",
    "    cdf.where(cdf.loc.isNotNull()) \\\n",
    "    .groupby(cdf.loc) \\\n",
    "    .agg(count_distinct(\"school\").alias(\"school_cnt\")) \\\n",
    "    .agg(max(\"school_cnt\").alias(\"maxCnt\"), min(\"school_cnt\").alias(\"minCnt\")) \\\n",
    "    .collect()[0]\n",
    "]"
   ]
  },
  {
   "cell_type": "code",
   "execution_count": 16,
   "id": "cbf9a8fb-5b5d-47bf-bad1-575c73914a7d",
   "metadata": {},
   "outputs": [
    {
     "name": "stdout",
     "output_type": "stream",
     "text": [
      "+--------+-----------+\n",
      "|     loc|loc_std_cnt|\n",
      "+--------+-----------+\n",
      "|   Urban|      906.0|\n",
      "|Suburban|      717.0|\n",
      "|   Rural|      538.0|\n",
      "+--------+-----------+\n",
      "\n"
     ]
    }
   ],
   "source": [
    "cdf.where(cdf.loc.isNotNull()) \\\n",
    "    .groupby(cdf.loc) \\\n",
    "    .agg(sum(\"class_std_cnt\").alias(\"loc_std_cnt\")) \\\n",
    "    .where(count_distinct(\"school\").isin([9, 7])) \\\n",
    "    .select(\"*\") \\\n",
    "    .show()"
   ]
  },
  {
   "cell_type": "markdown",
   "id": "4c157c71-5b4e-4fca-9a47-3625b6bfd677",
   "metadata": {},
   "source": [
    "- column 객체.isin([])\n",
    "    - column객체의 값을 함수 내부의 집합데이터가 포함하ㅏ고 있는지 확인해서 T/F 반환하는 함수"
   ]
  },
  {
   "cell_type": "code",
   "execution_count": 17,
   "id": "6411b719-2533-4c91-8e3d-feca9b31219f",
   "metadata": {},
   "outputs": [
    {
     "name": "stdout",
     "output_type": "stream",
     "text": [
      "+-------------------------------------+\n",
      "|(max(loc_std_cnt) - min(loc_std_cnt))|\n",
      "+-------------------------------------+\n",
      "|                                368.0|\n",
      "+-------------------------------------+\n",
      "\n"
     ]
    }
   ],
   "source": [
    "# 학교가 가장 많이 위치한 지역의 총학생수와 학교가 가장 적게 위치한 지역의 총 학생수 구하기\n",
    "#  == 지역의 학교수가 9개 이거나 지역의 학교수가 7개인 지역의 지역별 총 학생수\n",
    "\n",
    "# 가장 많거나 적은 지역이 2개 이상이면 총 학생수가 적은 지역을 학교수가 가장 적은 지역으로 결정, 많은 지역은 학생수가 많은 지역을 가장 많은 지역으로 결정\n",
    "\n",
    "cdf.where(cdf.loc.isNotNull()) \\\n",
    "    .groupby(cdf.loc) \\\n",
    "    .agg(sum(\"class_std_cnt\").alias(\"loc_std_cnt\")) \\\n",
    "    .where(count_distinct(\"school\").isin(\n",
    "                [cnt for cnt in \n",
    "                    cdf.where(cdf.loc.isNotNull()) \\\n",
    "                    .groupby(cdf.loc) \\\n",
    "                    .agg(count_distinct(\"school\").alias(\"school_cnt\")) \\\n",
    "                    .agg(max(\"school_cnt\").alias(\"maxCnt\"), min(\"school_cnt\").alias(\"minCnt\")) \\\n",
    "                    .collect()[0]\n",
    "                ]\n",
    "            )\n",
    "          ) \\\n",
    "    .select(max(\"loc_std_cnt\") - min(\"loc_std_cnt\")).alias(\"학생 수 차이\") \\\n",
    "    .show()"
   ]
  },
  {
   "cell_type": "code",
   "execution_count": 18,
   "id": "e1a13960-5edb-4af3-b967-00b249074a41",
   "metadata": {},
   "outputs": [
    {
     "name": "stdout",
     "output_type": "stream",
     "text": [
      "학교가 가장 많이 위치한 지역의 학생 수 총합과, 가장 적게 위치한 지역의 학생 수 총 합 간의 차이 구하기\n"
     ]
    }
   ],
   "source": [
    "print(\"학교가 가장 많이 위치한 지역의 학생 수 총합과, 가장 적게 위치한 지역의 학생 수 총 합 간의 차이 구하기\")"
   ]
  },
  {
   "cell_type": "code",
   "execution_count": 19,
   "id": "26a336bf-9a52-4f09-8674-a12db8a2f3b1",
   "metadata": {},
   "outputs": [],
   "source": [
    "# from절에 subquery 사용\n",
    "# 지역별 학교수 최대/최솟값"
   ]
  },
  {
   "cell_type": "markdown",
   "id": "96f6030c",
   "metadata": {},
   "source": [
    "- spark.sql"
   ]
  },
  {
   "cell_type": "code",
   "execution_count": 20,
   "id": "8f6ff8ee-9fed-407e-8544-f3ecd02d4af1",
   "metadata": {},
   "outputs": [
    {
     "name": "stdout",
     "output_type": "stream",
     "text": [
      "+------+\n",
      "|cntSCH|\n",
      "+------+\n",
      "|     9|\n",
      "|     7|\n",
      "|     7|\n",
      "+------+\n",
      "\n"
     ]
    }
   ],
   "source": [
    "# 각 지역별 학교수\n",
    "spark.sql('''\n",
    "    select count(distinct school) as cntSCH\n",
    "    from class\n",
    "    where loc is not null\n",
    "    group by loc\n",
    "''').show()"
   ]
  },
  {
   "cell_type": "code",
   "execution_count": 21,
   "id": "35ce6028-7e2c-4a17-96aa-0a550b5fc994",
   "metadata": {},
   "outputs": [
    {
     "name": "stdout",
     "output_type": "stream",
     "text": [
      "+---+---+\n",
      "|max|min|\n",
      "+---+---+\n",
      "|  9|  7|\n",
      "+---+---+\n",
      "\n"
     ]
    }
   ],
   "source": [
    "# 지역별 학교수 최대/최소값\n",
    "spark.sql('''\n",
    "select max(cntSCH) as max, min(cntSCH) as min\n",
    "from (\n",
    "    select count(distinct school) as cntSCH\n",
    "    from class\n",
    "    where loc is not null\n",
    "    group by loc\n",
    "    )\n",
    "''').show()"
   ]
  },
  {
   "cell_type": "markdown",
   "id": "34c068e6-722f-45e7-bc11-3f4c9cfa7ed5",
   "metadata": {},
   "source": [
    "#### df 다중열\n",
    "- in 연산자를 사용하려면 다중열 비교 주체가 두개여야 비교 가능\n",
    "- 다중행 in : ex. where school in [\"abc\", \"def\", \"ghi\"]\n",
    "- 다중열 in : ex. where school, class in [[\"abc\"], [\"def\"]]\n",
    "    - school컬럼값이 첫번째 열 \"abc\"에 있는지, class컬럼값이 두번째 열 \"def\"에 있는지 확인"
   ]
  },
  {
   "cell_type": "code",
   "execution_count": 22,
   "id": "1df0f924-255c-4406-a457-4f4b4c966468",
   "metadata": {},
   "outputs": [
    {
     "name": "stdout",
     "output_type": "stream",
     "text": [
      "학교가 가장 많이 위치한 지역의 총학생수와 학교가 가장 적게 위치한 지역의 총 학생수 구하기\n",
      "+------------------+\n",
      "|sum(class_std_cnt)|\n",
      "+------------------+\n",
      "|             906.0|\n",
      "|             717.0|\n",
      "|             538.0|\n",
      "+------------------+\n",
      "\n"
     ]
    }
   ],
   "source": [
    "print(\"학교가 가장 많이 위치한 지역의 총학생수와 학교가 가장 적게 위치한 지역의 총 학생수 구하기\")\n",
    "# having절에 서브쿼리\n",
    "# having절은 groupby에 종속되어서 집계함수 사용가능\n",
    "spark.sql('''\n",
    "    select sum(class_std_cnt)\n",
    "    from class\n",
    "    where loc is not null\n",
    "    group by loc\n",
    "    having count(distinct school) = (select max(cntSCH) as max\n",
    "                                    from (\n",
    "                                        select count(distinct school) as cntSCH\n",
    "                                        from class\n",
    "                                        where loc is not null\n",
    "                                        group by loc\n",
    "                                        )\n",
    "                                    ) or\n",
    "            count(distinct school) = (select min(cntSCH) as min\n",
    "                                    from (\n",
    "                                        select count(distinct school) as cntSCH\n",
    "                                        from class\n",
    "                                        where loc is not null\n",
    "                                        group by loc\n",
    "                                        )\n",
    "                                    )\n",
    "''').show()"
   ]
  },
  {
   "cell_type": "code",
   "execution_count": 23,
   "id": "1d84b124-9c9f-477b-8b1b-d174c7b649f4",
   "metadata": {},
   "outputs": [
    {
     "name": "stdout",
     "output_type": "stream",
     "text": [
      "학교가 가장 많이 위치한 지역의 학생 수 총합과, 가장 적게 위치한 지역의 학생 수 총 합 간의 차이 구하기\n"
     ]
    }
   ],
   "source": [
    "print(\"학교가 가장 많이 위치한 지역의 학생 수 총합과, 가장 적게 위치한 지역의 학생 수 총 합 간의 차이 구하기\")\n"
   ]
  },
  {
   "cell_type": "markdown",
   "id": "5f5128c8",
   "metadata": {},
   "source": [
    "#### case 1. 소속된 반의 개수가 3개 이상인 학교들 중 학생 숫자가 가장 적은 학교의 학생 수를 구해보자\n",
    "#### 단, 학교가 null인 데이터는 제외한다"
   ]
  },
  {
   "cell_type": "code",
   "execution_count": 24,
   "id": "f62ed77f",
   "metadata": {},
   "outputs": [
    {
     "name": "stdout",
     "output_type": "stream",
     "text": [
      "+------+------+------+\n",
      "|school|학급수|학생수|\n",
      "+------+------+------+\n",
      "| VHDHF|     3|  51.0|\n",
      "+------+------+------+\n",
      "only showing top 1 row\n",
      "\n"
     ]
    }
   ],
   "source": [
    "# from절 subquery : inline view\n",
    "# 학급수가 3개 이상인 학교와 학급 수, 총 학생수\n",
    "spark.sql('''\n",
    "    select school, count(class_cd) as `학급수`, sum(class_std_cnt) as `학생수`\n",
    "    from class\n",
    "    where school is not null\n",
    "    group by school\n",
    "    having count(class_cd) >= 3\n",
    "''').show(1)"
   ]
  },
  {
   "cell_type": "code",
   "execution_count": 25,
   "id": "3a8c17d3-18e3-408a-868c-e570c554f9d1",
   "metadata": {},
   "outputs": [
    {
     "name": "stdout",
     "output_type": "stream",
     "text": [
      "+----------+\n",
      "|최소학생수|\n",
      "+----------+\n",
      "|      46.0|\n",
      "+----------+\n",
      "\n"
     ]
    }
   ],
   "source": [
    "spark.sql('''\n",
    "    select min(`학생수`) as `최소학생수`\n",
    "    from(\n",
    "        select school, count(class_cd) as `학급수`, sum(class_std_cnt) as `학생수`\n",
    "        from class\n",
    "        where school is not null\n",
    "        group by school\n",
    "        having count(class_cd) >= 3)\n",
    "''').show(1)"
   ]
  },
  {
   "cell_type": "markdown",
   "id": "b247c519-2ae2-443d-b97c-bf61f8dec8c3",
   "metadata": {},
   "source": [
    "### DF method"
   ]
  },
  {
   "cell_type": "code",
   "execution_count": 26,
   "id": "2862d762-bd7f-4f72-a372-c2d1a9e861f0",
   "metadata": {},
   "outputs": [
    {
     "name": "stdout",
     "output_type": "stream",
     "text": [
      "+------+-------+\n",
      "|school|std_cnt|\n",
      "+------+-------+\n",
      "| VHDHF|   51.0|\n",
      "| LAYPA|   57.0|\n",
      "| GOOBU|  158.0|\n",
      "| UUUQX|   84.0|\n",
      "| CIMBB|   74.0|\n",
      "| UKPGS|  128.0|\n",
      "| UAGPU|   87.0|\n",
      "| CCAAW|  109.0|\n",
      "| FBUMG|   46.0|\n",
      "| ZOWMK|  117.0|\n",
      "| ZMNYA|   69.0|\n",
      "| QOQTS|  149.0|\n",
      "| CUQAM|  107.0|\n",
      "| OJOBU|   81.0|\n",
      "| GOKXL|   64.0|\n",
      "| GJJHK|  118.0|\n",
      "| KZKKE|  111.0|\n",
      "| DNQDD|  122.0|\n",
      "| VKWQH|  100.0|\n",
      "| IDGFP|   94.0|\n",
      "+------+-------+\n",
      "only showing top 20 rows\n",
      "\n"
     ]
    }
   ],
   "source": [
    "# 학급수가 3개 이상인 학교들의 총 학생수\n",
    "cdf.groupby(cdf.school) \\\n",
    "    .agg(sum(\"class_std_cnt\").alias(\"std_cnt\")) \\\n",
    "    .where((count(cdf.class_cd) >= 3) & (cdf.school.isNotNull())) \\\n",
    "    .show()"
   ]
  },
  {
   "cell_type": "code",
   "execution_count": 27,
   "id": "505c1f63-94a4-4e9f-a1ef-9abb7cc6ac90",
   "metadata": {},
   "outputs": [
    {
     "name": "stdout",
     "output_type": "stream",
     "text": [
      "+----------+\n",
      "|최소학생수|\n",
      "+----------+\n",
      "|      46.0|\n",
      "+----------+\n",
      "\n"
     ]
    }
   ],
   "source": [
    "# 학급수가 3개 이상인 학교들의 총 학생수 중 최솟값\n",
    "cdf.groupby(cdf.school) \\\n",
    "    .agg(sum(\"class_std_cnt\").alias(\"std_cnt\")) \\\n",
    "    .where((count(cdf.class_cd) >= 3) & (cdf.school.isNotNull())) \\\n",
    "    .select(min(\"std_cnt\").alias(\"최소학생수\")) \\\n",
    "    .show()"
   ]
  },
  {
   "cell_type": "markdown",
   "id": "2f20343f-5eb0-4331-bd3e-a646bbc513af",
   "metadata": {},
   "source": [
    "#### case 1_1. 학급수가 3개 이상인 학교들 중 학생 숫자가 가장 적은 학교의 학생 수와 학교명을 추출하자\n",
    "#### 단, 학교가 null인 데이터는 제외한다"
   ]
  },
  {
   "cell_type": "markdown",
   "id": "ebc7f6d1",
   "metadata": {},
   "source": [
    "### sql query"
   ]
  },
  {
   "cell_type": "code",
   "execution_count": 28,
   "id": "fa600114-cc83-4aa3-8311-1449fea013a3",
   "metadata": {
    "scrolled": true
   },
   "outputs": [],
   "source": [
    "cdf.createOrReplaceTempView(\"classV\")"
   ]
  },
  {
   "cell_type": "code",
   "execution_count": 29,
   "id": "82325ced-2ac4-4f57-9f9a-e744f4d06d14",
   "metadata": {},
   "outputs": [
    {
     "name": "stdout",
     "output_type": "stream",
     "text": [
      "+------+---------------+\n",
      "|school|count(class_cd)|\n",
      "+------+---------------+\n",
      "| VHDHF|              3|\n",
      "+------+---------------+\n",
      "only showing top 1 row\n",
      "\n"
     ]
    }
   ],
   "source": [
    "# 학급수가 3개 이상인 학교와 학급 수\n",
    "spark.sql('''\n",
    "    select school, count(class_cd)\n",
    "    from classV\n",
    "    where school is not null\n",
    "    group by school\n",
    "    having count(class_cd) >= 3\n",
    "''').show(1)"
   ]
  },
  {
   "cell_type": "code",
   "execution_count": 30,
   "id": "2dcf6344-2c6c-4f3a-9a54-56d152f3f6d4",
   "metadata": {},
   "outputs": [
    {
     "name": "stdout",
     "output_type": "stream",
     "text": [
      "+------+------+------+\n",
      "|school|학급수|학생수|\n",
      "+------+------+------+\n",
      "| VHDHF|     3|  51.0|\n",
      "+------+------+------+\n",
      "only showing top 1 row\n",
      "\n"
     ]
    }
   ],
   "source": [
    "# 학급수가 3개 이상인 학교와 학급 수, 학생수\n",
    "spark.sql('''\n",
    "    select school, count(class_cd) as `학급수`, sum(class_std_cnt) as `학생수`\n",
    "    from classV\n",
    "    where school is not null\n",
    "    group by school\n",
    "    having count(class_cd) >= 3\n",
    "''').show(1)"
   ]
  },
  {
   "cell_type": "code",
   "execution_count": 31,
   "id": "cb2512b2-77e7-4791-a446-7b9d4fcf22be",
   "metadata": {},
   "outputs": [
    {
     "name": "stdout",
     "output_type": "stream",
     "text": [
      "+-----------+\n",
      "|min(학생수)|\n",
      "+-----------+\n",
      "|       46.0|\n",
      "+-----------+\n",
      "\n"
     ]
    }
   ],
   "source": [
    "# 학급수가 3개 이상인 학교 중 학생수의 최솟값\n",
    "spark.sql('''\n",
    "    select min(`학생수`)\n",
    "    from(\n",
    "        select school, count(class_cd) as `학급수`, sum(class_std_cnt) as `학생수`\n",
    "        from classV\n",
    "        where school is not null\n",
    "        group by school\n",
    "        having count(class_cd) >= 3)\n",
    "''').show(1)"
   ]
  },
  {
   "cell_type": "code",
   "execution_count": 32,
   "id": "0d7da427-e49b-4a4d-b9fe-4f8495adec72",
   "metadata": {},
   "outputs": [
    {
     "name": "stdout",
     "output_type": "stream",
     "text": [
      "+------------------+------+\n",
      "|최소학생 수인 학교|학생수|\n",
      "+------------------+------+\n",
      "|             FBUMG|  46.0|\n",
      "+------------------+------+\n",
      "\n"
     ]
    }
   ],
   "source": [
    "# 학급수가 3개 이상인 학교 중 학생수가 최솟값인 학교와 그 학생 수\n",
    "spark.sql('''\n",
    "    select school as `최소학생 수인 학교`, sum(class_std_cnt)  as `학생수`\n",
    "    from classV\n",
    "    group by school\n",
    "    having sum(class_std_cnt) == (select min(`학생수`)\n",
    "                                from(\n",
    "                                    select school, count(class_cd) as `학급수`, sum(class_std_cnt) as `학생수`\n",
    "                                    from classV\n",
    "                                    where school is not null\n",
    "                                    group by school\n",
    "                                    having count(class_cd) >= 3))\n",
    "''').show(1)"
   ]
  },
  {
   "cell_type": "markdown",
   "id": "d8dc1e44",
   "metadata": {},
   "source": [
    "### df moethod 사용"
   ]
  },
  {
   "cell_type": "code",
   "execution_count": 33,
   "id": "f5751961-505c-488d-b819-f6f939378a8f",
   "metadata": {},
   "outputs": [
    {
     "name": "stdout",
     "output_type": "stream",
     "text": [
      "+----------+\n",
      "|최소학생수|\n",
      "+----------+\n",
      "|      46.0|\n",
      "+----------+\n",
      "\n"
     ]
    }
   ],
   "source": [
    "cdf.groupby(cdf.school) \\\n",
    "    .agg(sum(\"class_std_cnt\").alias(\"std_cnt\")) \\\n",
    "    .where((count(cdf.class_cd) >= 3) & (cdf.school.isNotNull())) \\\n",
    "    .select(min(\"std_cnt\").alias(\"최소학생수\")) \\\n",
    "    .show()"
   ]
  },
  {
   "cell_type": "code",
   "execution_count": 34,
   "id": "91632991-cab5-4bd9-85e8-ff7cfea6fc6e",
   "metadata": {},
   "outputs": [
    {
     "data": {
      "text/plain": [
       "46.0"
      ]
     },
     "execution_count": 34,
     "metadata": {},
     "output_type": "execute_result"
    }
   ],
   "source": [
    "cdf.groupby(cdf.school) \\\n",
    "    .agg(sum(\"class_std_cnt\").alias(\"std_cnt\")) \\\n",
    "    .where((count(cdf.class_cd) >= 3) & (cdf.school.isNotNull())) \\\n",
    "    .select(min(\"std_cnt\").alias(\"최소학생수\")) \\\n",
    "    .collect()[0][0]"
   ]
  },
  {
   "cell_type": "code",
   "execution_count": 35,
   "id": "d30cf602-c335-444b-b0ab-2cde04276c99",
   "metadata": {},
   "outputs": [
    {
     "name": "stdout",
     "output_type": "stream",
     "text": [
      "+------+-------+\n",
      "|school|std_cnt|\n",
      "+------+-------+\n",
      "| FBUMG|   46.0|\n",
      "+------+-------+\n",
      "\n"
     ]
    }
   ],
   "source": [
    "cdf.groupby(cdf.school) \\\n",
    "    .agg(sum(\"class_std_cnt\").alias(\"std_cnt\")) \\\n",
    "    .where(cdf.school.isNotNull()) \\\n",
    "    .where(col(\"std_cnt\") == (\n",
    "                         cdf.groupby(cdf.school) \\\n",
    "                            .agg(sum(\"class_std_cnt\").alias(\"std_cnt\")) \\\n",
    "                            .where((count(cdf.class_cd) >= 3) & (cdf.school.isNotNull())) \\\n",
    "                            .select(min(\"std_cnt\").alias(\"최소학생수\")) \\\n",
    "                            .collect()[0][0]\n",
    "                             )\n",
    "    ).show()"
   ]
  },
  {
   "cell_type": "markdown",
   "id": "f7de05cd",
   "metadata": {},
   "source": [
    "### case2. 1.지역에 따른 학교로 분류하고 분류된 학교의 class_cd가 2개 초과인 학교별로 각반의 학생수가 가장 작은 반의 학생수를 구하시오\n",
    "### 위에서 구한 학생수중 가장 큰 값은 얼마인가?\n",
    "1. 지역에 따른 학교로 분류하고 학교의 class_cd가 2개 초과인 학교들을 추출\n",
    "2. 추출된 학교들에서 학생수가 가장 작은 반의 학생수 추출\n",
    "3. 2번에서 추출된 학생수들 중 가장 큰 수 추출"
   ]
  },
  {
   "cell_type": "markdown",
   "id": "6bf35efe-2363-40e4-9477-b28d044753ad",
   "metadata": {},
   "source": [
    "### sql query 활용"
   ]
  },
  {
   "cell_type": "code",
   "execution_count": 37,
   "id": "a26e26db-86fc-44cf-a24e-c4881779e45b",
   "metadata": {},
   "outputs": [
    {
     "name": "stdout",
     "output_type": "stream",
     "text": [
      "+--------+------+-------------+-----+-----------+-------------+\n",
      "|class_cd|school|class_std_cnt|  loc|school_type|teaching_type|\n",
      "+--------+------+-------------+-----+-----------+-------------+\n",
      "|     7BL| VVTVA|           29|Urban|     Public|     Standard|\n",
      "|     A93| VVTVA|           30|Urban|     Public| Experimental|\n",
      "|     TB5| VVTVA|           25|Urban|     Public|     Standard|\n",
      "|     YTB| VVTVA|           30|Urban|     Public| Experimental|\n",
      "+--------+------+-------------+-----+-----------+-------------+\n",
      "\n"
     ]
    }
   ],
   "source": [
    "# 참고\n",
    "# Urban 지역의 학교 VVTVA는 반수가 4개고 각 반 학생수 중 가장 작은 수는 25\n",
    "cdf.select('*').where((cdf.school=='VVTVA') & (cdf.loc=='Urban')).show()"
   ]
  },
  {
   "cell_type": "markdown",
   "id": "3b291df5-b420-43b9-acc9-4c4fb2771c33",
   "metadata": {},
   "source": [
    "### sql query"
   ]
  },
  {
   "cell_type": "code",
   "execution_count": 39,
   "id": "c737567a-d2d2-485b-a8f2-e093823e9eb0",
   "metadata": {},
   "outputs": [
    {
     "name": "stdout",
     "output_type": "stream",
     "text": [
      "+--------+------+---+\n",
      "|     loc|school|cnt|\n",
      "+--------+------+---+\n",
      "|   Rural| VHDHF|  3|\n",
      "|   Urban| GOOBU|  6|\n",
      "|Suburban| ZMNYA|  3|\n",
      "|   Urban| ZOWMK|  4|\n",
      "|    NULL|  NULL|  3|\n",
      "|Suburban| UUUQX|  5|\n",
      "|Suburban| DNQDD|  5|\n",
      "|   Urban| CUQAM|  4|\n",
      "|   Urban| IDGFP|  5|\n",
      "|   Rural| GOKXL|  3|\n",
      "|   Rural| KZKKE|  5|\n",
      "|   Rural| VKWQH|  5|\n",
      "|Suburban| CCAAW|  6|\n",
      "|   Rural| LAYPA|  3|\n",
      "|   Urban| QOQTS|  6|\n",
      "|Suburban| UAGPU|  4|\n",
      "|   Rural| FBUMG|  3|\n",
      "|   Urban| VVTVA|  4|\n",
      "|Suburban| UKPGS|  6|\n",
      "|Suburban| GJJHK|  5|\n",
      "+--------+------+---+\n",
      "only showing top 20 rows\n",
      "\n"
     ]
    }
   ],
   "source": [
    "# 1. 지역에 따른 학교로 분류하고 학교의 class_cd가 2개 초과인 학교들을 추출 - 지역에 따른 학교별 반 개수\n",
    "spark.sql('''\n",
    "    select loc, school, count(class_cd) as cnt\n",
    "    from classV\n",
    "    group by loc, school\n",
    "    having count(class_cd) > 2\n",
    "''').show()"
   ]
  },
  {
   "cell_type": "code",
   "execution_count": 128,
   "id": "df05f0fb-9a3d-4acf-a196-fb7bd1e54f4b",
   "metadata": {},
   "outputs": [
    {
     "name": "stdout",
     "output_type": "stream",
     "text": [
      "+--------+------+-------------+-----+-----------+-------------+\n",
      "|class_cd|school|class_std_cnt|  loc|school_type|teaching_type|\n",
      "+--------+------+-------------+-----+-----------+-------------+\n",
      "|     7BL| VVTVA|           29|Urban|     Public|     Standard|\n",
      "|     A93| VVTVA|           30|Urban|     Public| Experimental|\n",
      "|     TB5| VVTVA|           25|Urban|     Public|     Standard|\n",
      "|     YTB| VVTVA|           30|Urban|     Public| Experimental|\n",
      "+--------+------+-------------+-----+-----------+-------------+\n",
      "\n"
     ]
    }
   ],
   "source": [
    "# Urban 지역의 학교 VVTVA는 반수가 4개 반 학생수 중 가장 작은 수는 25\n",
    "cdf.select('*').where((cdf.school=='VVTVA') & (cdf.loc=='Urban')).show()"
   ]
  },
  {
   "cell_type": "code",
   "execution_count": 40,
   "id": "d545b214-0e9e-4ca6-9a6c-c9bd669f50ba",
   "metadata": {},
   "outputs": [
    {
     "name": "stdout",
     "output_type": "stream",
     "text": [
      "+--------+------+---+------+\n",
      "|     loc|school|cnt|minStd|\n",
      "+--------+------+---+------+\n",
      "|   Rural| FBUMG|  3|    14|\n",
      "|   Rural| GOKXL|  3|    19|\n",
      "|   Rural| KZKKE|  5|    20|\n",
      "|   Rural| LAYPA|  3|    17|\n",
      "|   Rural| OJOBU|  4|    17|\n",
      "|   Rural| VHDHF|  3|    15|\n",
      "|   Rural| VKWQH|  5|    18|\n",
      "|Suburban| CCAAW|  6|    15|\n",
      "|Suburban| DNQDD|  5|    20|\n",
      "|Suburban| GJJHK|  5|    21|\n",
      "|Suburban| UAGPU|  4|    21|\n",
      "|Suburban| UKPGS|  6|    18|\n",
      "|Suburban| UUUQX|  5|    15|\n",
      "|Suburban| ZMNYA|  3|    22|\n",
      "|   Urban| CIMBB|  4|    17|\n",
      "|   Urban| CUQAM|  4|    24|\n",
      "|   Urban| GOOBU|  6|    24|\n",
      "|   Urban| IDGFP|  5|    17|\n",
      "|   Urban| QOQTS|  6|    22|\n",
      "|   Urban| VVTVA|  4|    25|\n",
      "+--------+------+---+------+\n",
      "only showing top 20 rows\n",
      "\n"
     ]
    }
   ],
   "source": [
    "# 2. 추출된 학교들에서 학생수가 가장 작은 반의 학생수 추출 단, school값이  null 인 데이터 제외\n",
    "spark.sql('''\n",
    "    select loc, school, count(class_cd) as cnt, min(class_std_cnt) as minStd\n",
    "    from classV\n",
    "    group by loc, school\n",
    "    having count(class_cd) > 2 and school is not null\n",
    "''').show()"
   ]
  },
  {
   "cell_type": "code",
   "execution_count": 42,
   "id": "afd5f6de-e12d-478b-80c8-382c08a58aca",
   "metadata": {},
   "outputs": [
    {
     "name": "stdout",
     "output_type": "stream",
     "text": [
      "+---------+\n",
      "|maxMinStd|\n",
      "+---------+\n",
      "|       27|\n",
      "+---------+\n",
      "\n"
     ]
    }
   ],
   "source": [
    "# 3. 2번에서 추출된 학생수들 중 가장 큰 수 추출\n",
    "spark.sql('''\n",
    "    select max(minStd) as maxMinStd\n",
    "    from (\n",
    "        select loc, school, count(class_cd) as cnt, min(class_std_cnt) as minStd\n",
    "        from classV\n",
    "        group by loc, school\n",
    "        having count(class_cd) > 2 and school is not null\n",
    "    )\n",
    "''').show()\n",
    "# 즉, Urban지역의 ZOWMK 학교는 한반의 학생수 27명이 가장 작은데, 다른 지역의 학교들의 학생수가 가장 작은 반은 27명보다 작다"
   ]
  },
  {
   "cell_type": "markdown",
   "id": "d0141865-9296-4e73-afdb-5fe8892c3b03",
   "metadata": {},
   "source": [
    "### df의 메서드 활용"
   ]
  },
  {
   "cell_type": "code",
   "execution_count": 48,
   "id": "682bfd72-9809-4f5e-9e49-c75fd0c40e12",
   "metadata": {},
   "outputs": [
    {
     "name": "stdout",
     "output_type": "stream",
     "text": [
      "+--------+------+-------------+-----+-----------+-------------+\n",
      "|class_cd|school|class_std_cnt|  loc|school_type|teaching_type|\n",
      "+--------+------+-------------+-----+-----------+-------------+\n",
      "|     7BL| VVTVA|           29|Urban|     Public|     Standard|\n",
      "|     A93| VVTVA|           30|Urban|     Public| Experimental|\n",
      "|     TB5| VVTVA|           25|Urban|     Public|     Standard|\n",
      "|     YTB| VVTVA|           30|Urban|     Public| Experimental|\n",
      "+--------+------+-------------+-----+-----------+-------------+\n",
      "\n"
     ]
    }
   ],
   "source": [
    "# Urban 지역의 학교 VVTVA는 반수가 4개 반 학생수 중 가장 작은 수는 25\n",
    "cdf.select(\"*\") \\\n",
    "    .where((cdf.school==\"VVTVA\") & (cdf.loc == \"Urban\")) \\\n",
    "    .show()"
   ]
  },
  {
   "cell_type": "code",
   "execution_count": 49,
   "id": "59d6a254-736d-4e3d-9a64-9ff552c1a5bf",
   "metadata": {},
   "outputs": [
    {
     "name": "stdout",
     "output_type": "stream",
     "text": [
      "+--------+------+------+\n",
      "|     loc|school|cnt_cd|\n",
      "+--------+------+------+\n",
      "|   Rural| VHDHF|     3|\n",
      "|   Urban| GOOBU|     6|\n",
      "|Suburban| ZMNYA|     3|\n",
      "|   Urban| ZOWMK|     4|\n",
      "|Suburban| UUUQX|     5|\n",
      "|Suburban| DNQDD|     5|\n",
      "|   Urban| CUQAM|     4|\n",
      "|   Urban| IDGFP|     5|\n",
      "|   Rural| GOKXL|     3|\n",
      "|   Rural| KZKKE|     5|\n",
      "|   Rural| VKWQH|     5|\n",
      "|Suburban| CCAAW|     6|\n",
      "|   Rural| LAYPA|     3|\n",
      "|   Urban| QOQTS|     6|\n",
      "|Suburban| UAGPU|     4|\n",
      "|   Rural| FBUMG|     3|\n",
      "|   Urban| VVTVA|     4|\n",
      "|Suburban| UKPGS|     6|\n",
      "|Suburban| GJJHK|     5|\n",
      "|   Rural| OJOBU|     4|\n",
      "+--------+------+------+\n",
      "only showing top 20 rows\n",
      "\n"
     ]
    }
   ],
   "source": [
    "# 1. 지역에 따른 학교로 분류하고 학교의 class_cd가 2개 초과인 학교들을 추출\n",
    "cdf.groupby(\"loc\", \"school\") \\\n",
    "    .agg(count(\"class_cd\").alias(\"cnt_cd\")) \\\n",
    "    .where((col(\"cnt_cd\") > 2) & (col(\"school\").isNotNull())) \\\n",
    "    .show()"
   ]
  },
  {
   "cell_type": "code",
   "execution_count": 50,
   "id": "4b0bf01d-874a-40f4-bbc1-a9502de21682",
   "metadata": {},
   "outputs": [
    {
     "name": "stdout",
     "output_type": "stream",
     "text": [
      "+--------+------+-------------+-----+-----------+-------------+\n",
      "|class_cd|school|class_std_cnt|  loc|school_type|teaching_type|\n",
      "+--------+------+-------------+-----+-----------+-------------+\n",
      "|     7BL| VVTVA|           29|Urban|     Public|     Standard|\n",
      "|     A93| VVTVA|           30|Urban|     Public| Experimental|\n",
      "|     TB5| VVTVA|           25|Urban|     Public|     Standard|\n",
      "|     YTB| VVTVA|           30|Urban|     Public| Experimental|\n",
      "+--------+------+-------------+-----+-----------+-------------+\n",
      "\n"
     ]
    }
   ],
   "source": [
    "# Urban 지역의 학교 VVTVA는 반수가 4개 반 학생수 중 가장 작은 수는 25\n",
    "cdf.select(\"*\") \\\n",
    "    .where((cdf.school==\"VVTVA\") & (cdf.loc == \"Urban\")) \\\n",
    "    .show()"
   ]
  },
  {
   "cell_type": "code",
   "execution_count": 51,
   "id": "647286c5-f06c-4270-aa79-b9dae428da79",
   "metadata": {},
   "outputs": [
    {
     "name": "stdout",
     "output_type": "stream",
     "text": [
      "+--------+------+------+------+\n",
      "|     loc|school|cnt_cd|minStd|\n",
      "+--------+------+------+------+\n",
      "|   Rural| FBUMG|     3|    14|\n",
      "|   Rural| GOKXL|     3|    19|\n",
      "|   Rural| KZKKE|     5|    20|\n",
      "|   Rural| LAYPA|     3|    17|\n",
      "|   Rural| OJOBU|     4|    17|\n",
      "|   Rural| VHDHF|     3|    15|\n",
      "|   Rural| VKWQH|     5|    18|\n",
      "|Suburban| CCAAW|     6|    15|\n",
      "|Suburban| DNQDD|     5|    20|\n",
      "|Suburban| GJJHK|     5|    21|\n",
      "|Suburban| UAGPU|     4|    21|\n",
      "|Suburban| UKPGS|     6|    18|\n",
      "|Suburban| UUUQX|     5|    15|\n",
      "|Suburban| ZMNYA|     3|    22|\n",
      "|   Urban| CIMBB|     4|    17|\n",
      "|   Urban| CUQAM|     4|    24|\n",
      "|   Urban| GOOBU|     6|    24|\n",
      "|   Urban| IDGFP|     5|    17|\n",
      "|   Urban| QOQTS|     6|    22|\n",
      "|   Urban| VVTVA|     4|    25|\n",
      "+--------+------+------+------+\n",
      "only showing top 20 rows\n",
      "\n"
     ]
    }
   ],
   "source": [
    "# 2. 추출된 학교들에서 학생수가 가장 작은 반의 학생수 추출\n",
    "# 지역에따른 학교의 반들에 대해 가장 학생수가 작은반의 학생수\n",
    "cdf.groupby(\"loc\", \"school\") \\\n",
    "    .agg(count(\"class_cd\").alias(\"cnt_cd\"), min(\"class_std_cnt\").alias(\"minStd\")) \\\n",
    "    .where((col(\"cnt_cd\") > 2) & (col(\"school\").isNotNull())) \\\n",
    "    .show()"
   ]
  },
  {
   "cell_type": "code",
   "execution_count": 52,
   "id": "16f2fae2-6f5f-4d54-906d-91081c15ae4e",
   "metadata": {},
   "outputs": [
    {
     "name": "stdout",
     "output_type": "stream",
     "text": [
      "+---------+\n",
      "|maxMinStd|\n",
      "+---------+\n",
      "|       27|\n",
      "+---------+\n",
      "\n"
     ]
    }
   ],
   "source": [
    "# 3. 2번에서 추출된 학생수들 중 가장 많은 수 추출\n",
    "# # 지역에따른 학교의 반들에 대해 가장 학생수가 작은반의 학생수에서 가장 큰 수 \n",
    "# 즉, Urban지역의 ZOWMK 학교는 한반의 학생수 27명이 가장 작은데, 다른 지역의 학교들의 학생수가 가장 작은 반은 27명보다 작다\n",
    "cdf.groupby(\"loc\", \"school\") \\\n",
    "    .agg(count(\"class_cd\").alias(\"cnt_cd\"), min(\"class_std_cnt\").alias(\"minStd\")) \\\n",
    "    .where((col(\"cnt_cd\") > 2) & (col(\"school\").isNotNull())) \\\n",
    "    .select(max(col(\"minStd\")).alias(\"maxMinStd\")) \\\n",
    "    .show()"
   ]
  },
  {
   "cell_type": "markdown",
   "id": "c02c36a6-b485-41d0-a236-4ed9ea00ea64",
   "metadata": {},
   "source": [
    "### case3. 지역에 따른 학교로 분류하고 분류된 학교의 class_cd가 2개 초과인 학교에서 학교별 가장 작은 학생수들을 추출 그 중에서 가장 큰 수를 구하시오(27)\n",
    "- case 2번에서 진행\n",
    "- 구한 수보다 학생수가 더 많은 반의 코드과 학생수를 cdf 전체 데이터에서 추출하시오"
   ]
  },
  {
   "cell_type": "markdown",
   "id": "ae8c98d5-9729-445d-9b64-99cb28d99642",
   "metadata": {},
   "source": [
    "#### sql 쿼리"
   ]
  },
  {
   "cell_type": "code",
   "execution_count": 56,
   "id": "f6a9ae3d-9c9f-4305-8002-809fd3e9b862",
   "metadata": {},
   "outputs": [
    {
     "name": "stdout",
     "output_type": "stream",
     "text": [
      "+--------+\n",
      "|count(1)|\n",
      "+--------+\n",
      "|     102|\n",
      "+--------+\n",
      "\n",
      "+-----+-------+\n",
      "|class|student|\n",
      "+-----+-------+\n",
      "|  1Q1|     28|\n",
      "|  OMI|     28|\n",
      "|  ROP|     28|\n",
      "|  18K|     31|\n",
      "|  HKF|     28|\n",
      "|  0N7|     28|\n",
      "|  SUR|     28|\n",
      "|  7BL|     29|\n",
      "|  A93|     30|\n",
      "|  YTB|     30|\n",
      "|  Q0E|     30|\n",
      "|  QA2|     30|\n",
      "|  ZBH|     30|\n",
      "+-----+-------+\n",
      "\n"
     ]
    }
   ],
   "source": [
    "spark.sql('select count(*) from class').show()\n",
    "\n",
    "spark.sql('''\n",
    "    select class_cd as class, class_std_cnt as student\n",
    "    from classV\n",
    "    where class_std_cnt > (\n",
    "                            select max(minStd) as maxMinStd\n",
    "                                from (\n",
    "                                select loc, school, count(class_cd) as cnt, min(class_std_cnt) as minStd\n",
    "                                from classV\n",
    "                                group by loc, school\n",
    "                                having count(class_cd) > 2 and school is not null\n",
    "                                )\n",
    "                            )\n",
    "''').show()\n",
    "# Urban지역의 ZOWMK 학교의 학생수가 가장 작은반보다 학생수가 많은 반은  전체 데이터 102개의 class 중 13 클래스이다"
   ]
  },
  {
   "cell_type": "markdown",
   "id": "39dc37bf-b14b-4811-a2e3-794f5aa814bb",
   "metadata": {},
   "source": [
    "#### df 메서드"
   ]
  },
  {
   "cell_type": "code",
   "execution_count": 69,
   "id": "bfd7ba5a-841d-4481-9518-838644b1128f",
   "metadata": {},
   "outputs": [
    {
     "name": "stdout",
     "output_type": "stream",
     "text": [
      "+--------+-------------+\n",
      "|class_cd|class_std_cnt|\n",
      "+--------+-------------+\n",
      "|     1Q1|           28|\n",
      "|     OMI|           28|\n",
      "|     ROP|           28|\n",
      "|     18K|           31|\n",
      "|     HKF|           28|\n",
      "|     0N7|           28|\n",
      "|     SUR|           28|\n",
      "|     7BL|           29|\n",
      "|     A93|           30|\n",
      "|     YTB|           30|\n",
      "|     Q0E|           30|\n",
      "|     QA2|           30|\n",
      "|     ZBH|           30|\n",
      "+--------+-------------+\n",
      "\n"
     ]
    }
   ],
   "source": [
    "cdf.select(\"class_cd\", \"class_std_cnt\") \\\n",
    "    .where((cdf.class_std_cnt) > (\n",
    "                                cdf.groupby(\"loc\", \"school\") \\\n",
    "                                .agg(count(\"class_cd\").alias(\"cnt_cd\"), min(\"class_std_cnt\").alias(\"minStd\")) \\\n",
    "                                .where((col(\"cnt_cd\") > 2) & (col(\"school\").isNotNull())) \\\n",
    "                                .select(max(col(\"minStd\")).alias(\"maxMinStd\")) \\\n",
    "                                .collect()[0][0])).show()\n",
    "# Urban지역의 ZOWMK 학교의 학생수가 가장 작은반보다 학생수가 많은 반은 전체 데이터 102개의 class 중 13 클래스이다"
   ]
  },
  {
   "cell_type": "markdown",
   "id": "0a38d169",
   "metadata": {},
   "source": [
    "#### case 4. 시골지역의 사립학교중 표준교육을 진행하는 학급들의 평균 학생수보다 학생수가 더 많은 도시 지역의 공립학교면서 특수교육을 진행하는 학교의 모든 정보를 추출하시오"
   ]
  },
  {
   "cell_type": "code",
   "execution_count": 70,
   "id": "014aca9e-4fea-4e0b-9bea-e5afcd9f3eba",
   "metadata": {},
   "outputs": [
    {
     "data": {
      "text/plain": [
       "['class_cd', 'school', 'class_std_cnt', 'loc', 'school_type', 'teaching_type']"
      ]
     },
     "execution_count": 70,
     "metadata": {},
     "output_type": "execute_result"
    }
   ],
   "source": [
    "cdf.columns\n",
    "# loc : Urban, subUrban, Rural\n",
    "# school_type : Public, Non-public\n",
    "# teachin_type : Standard, Experimental"
   ]
  },
  {
   "cell_type": "markdown",
   "id": "5ed22d14-31f9-4de0-8924-3c08d8e68ae9",
   "metadata": {},
   "source": [
    "### sql query"
   ]
  },
  {
   "cell_type": "code",
   "execution_count": 75,
   "id": "db9231bd-9c7a-4f8a-99c7-ec3f47f22095",
   "metadata": {},
   "outputs": [
    {
     "name": "stdout",
     "output_type": "stream",
     "text": [
      "+------------------+\n",
      "|avg(class_std_cnt)|\n",
      "+------------------+\n",
      "|              17.0|\n",
      "+------------------+\n",
      "\n"
     ]
    }
   ],
   "source": [
    "# 시골지역의 사립학교중 표준교육을 진행하는 학교들의 평균 학생수\n",
    "spark.sql('''\n",
    "    select avg(class_std_cnt)\n",
    "    from classV\n",
    "    where loc==\"Rural\" \n",
    "    and school_type==\"Non-public\" \n",
    "    and teaching_type==\"Standard\"\n",
    "''').show()"
   ]
  },
  {
   "cell_type": "code",
   "execution_count": 76,
   "id": "ad8a20b9-d282-48ae-9710-e05c66ba0089",
   "metadata": {},
   "outputs": [
    {
     "name": "stdout",
     "output_type": "stream",
     "text": [
      "+--------+------+-------------+-----+-----------+-------------+\n",
      "|class_cd|school|class_std_cnt|  loc|school_type|teaching_type|\n",
      "+--------+------+-------------+-----+-----------+-------------+\n",
      "|     X6Z| CUQAM|           24|Urban|     Public| Experimental|\n",
      "|     W8A| GOOBU|           26|Urban|     Public| Experimental|\n",
      "|     0N7| QOQTS|           28|Urban|     Public| Experimental|\n",
      "|     X2O| QOQTS|           25|Urban|     Public| Experimental|\n",
      "|     A93| VVTVA|           30|Urban|     Public| Experimental|\n",
      "|     YTB| VVTVA|           30|Urban|     Public| Experimental|\n",
      "|     Q0E| ZOWMK|           30|Urban|     Public| Experimental|\n",
      "+--------+------+-------------+-----+-----------+-------------+\n",
      "\n"
     ]
    }
   ],
   "source": [
    "# 시골지역의 사립학교중 표준교육을 진행하는 학교의 학급들의 평균 학생수보다 학생수가 더 많은 도시 지역의 공립학교면서 특수교육을 진행하는 학교의 모든 정보를 추출하시오\n",
    "spark.sql('''\n",
    "    select *\n",
    "    from classV\n",
    "    where loc==\"Urban\" \n",
    "    and school_type==\"Public\" \n",
    "    and teaching_type==\"Experimental\"\n",
    "    and class_std_cnt > (\n",
    "                        select avg(class_std_cnt)\n",
    "                        from classV\n",
    "                        where loc==\"Rural\" \n",
    "                        and school_type==\"Non-public\" \n",
    "                        and teaching_type==\"Standard\"\n",
    "                        )\n",
    "''').show()"
   ]
  },
  {
   "cell_type": "markdown",
   "id": "09e41fb1-1b9a-4da7-b201-7570b89adad5",
   "metadata": {},
   "source": [
    "### df method"
   ]
  },
  {
   "cell_type": "code",
   "execution_count": 81,
   "id": "5283f19a-2be3-4191-8473-0c9b31ef68a4",
   "metadata": {},
   "outputs": [
    {
     "name": "stdout",
     "output_type": "stream",
     "text": [
      "+--------+------+-------------+-----+-----------+-------------+\n",
      "|class_cd|school|class_std_cnt|  loc|school_type|teaching_type|\n",
      "+--------+------+-------------+-----+-----------+-------------+\n",
      "|     MDS|  NULL|           18|Rural| Non-public|     Standard|\n",
      "|     J6X| VHDHF|           16|Rural| Non-public|     Standard|\n",
      "+--------+------+-------------+-----+-----------+-------------+\n",
      "\n",
      "+------------------+\n",
      "|avg(class_std_cnt)|\n",
      "+------------------+\n",
      "|              17.0|\n",
      "+------------------+\n",
      "\n"
     ]
    }
   ],
   "source": [
    "# 시골지역의 사립학교중 표준교육을 진행하는 학교들의 평균 학생수\n",
    "# cdf.select(cdf.class_std_cnt) \\\n",
    "#     .where((cdf.loc==\"Rural\") &\n",
    "#            (cdf.school_type==\"Non-public\") &\n",
    "#            (cdf.teaching_type==\"Standard\")) \\\n",
    "#     .show()\n",
    "\n",
    "cdf.where((cdf.loc==\"Rural\") &\n",
    "           (cdf.school_type==\"Non-public\") &\n",
    "           (cdf.teaching_type==\"Standard\")) \\\n",
    "    .show()\n",
    "\n",
    "cdf.where((cdf.loc==\"Rural\") &\n",
    "           (cdf.school_type==\"Non-public\") &\n",
    "           (cdf.teaching_type==\"Standard\")) \\\n",
    "    .select(avg(\"class_std_cnt\")) \\\n",
    "    .show()"
   ]
  },
  {
   "cell_type": "code",
   "execution_count": 96,
   "id": "c30e28f8-82a0-4399-b1a4-d1252ee5df37",
   "metadata": {},
   "outputs": [
    {
     "name": "stdout",
     "output_type": "stream",
     "text": [
      "+--------+------+-------------+-----+-----------+-------------+\n",
      "|class_cd|school|class_std_cnt|  loc|school_type|teaching_type|\n",
      "+--------+------+-------------+-----+-----------+-------------+\n",
      "|     X6Z| CUQAM|           24|Urban|     Public| Experimental|\n",
      "|     W8A| GOOBU|           26|Urban|     Public| Experimental|\n",
      "|     0N7| QOQTS|           28|Urban|     Public| Experimental|\n",
      "|     X2O| QOQTS|           25|Urban|     Public| Experimental|\n",
      "|     A93| VVTVA|           30|Urban|     Public| Experimental|\n",
      "|     YTB| VVTVA|           30|Urban|     Public| Experimental|\n",
      "|     Q0E| ZOWMK|           30|Urban|     Public| Experimental|\n",
      "+--------+------+-------------+-----+-----------+-------------+\n",
      "\n"
     ]
    }
   ],
   "source": [
    "# 시골지역의 사립학교중 표준교육을 진행하는 학교의 학급들의 평균 학생수보다 학생수가 더 많은 도시 지역의 공립학교면서 특수교육을 진행하는 학교의 모든 정보를 추출하시오\n",
    "cdf.select(\"*\") \\\n",
    "    .where((cdf.loc==\"Urban\") &\n",
    "           (cdf.school_type==\"Public\") &\n",
    "           (cdf.teaching_type==\"Experimental\") &\n",
    "           (cdf.class_std_cnt > (\n",
    "               cdf.where((cdf.loc==\"Rural\") &\n",
    "                        (cdf.school_type==\"Non-public\") &\n",
    "                        (cdf.teaching_type==\"Standard\")) \\\n",
    "                    .select(avg(\"class_std_cnt\")) \\\n",
    "                    .collect()[0][0]\n",
    "           )\n",
    "           )\n",
    "          ) \\\n",
    "    .show()"
   ]
  },
  {
   "cell_type": "code",
   "execution_count": null,
   "id": "f7229d95-f1cc-40f3-8e10-d0713e5cab32",
   "metadata": {},
   "outputs": [],
   "source": []
  }
 ],
 "metadata": {
  "kernelspec": {
   "display_name": "Python 3 (ipykernel)",
   "language": "python",
   "name": "python3"
  },
  "language_info": {
   "codemirror_mode": {
    "name": "ipython",
    "version": 3
   },
   "file_extension": ".py",
   "mimetype": "text/x-python",
   "name": "python",
   "nbconvert_exporter": "python",
   "pygments_lexer": "ipython3",
   "version": "3.10.12"
  }
 },
 "nbformat": 4,
 "nbformat_minor": 5
}
