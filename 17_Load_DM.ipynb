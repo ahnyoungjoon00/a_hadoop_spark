{
 "cells": [
  {
   "cell_type": "code",
   "execution_count": 33,
   "id": "d72f23aa-8a74-4ad6-8331-daa67f42f686",
   "metadata": {},
   "outputs": [],
   "source": [
    "# 운영 DB 적재에 해당된다"
   ]
  },
  {
   "cell_type": "code",
   "execution_count": 34,
   "id": "324e44d3",
   "metadata": {},
   "outputs": [],
   "source": [
    "from IPython.core.interactiveshell import InteractiveShell\n",
    "InteractiveShell.ast_node_interactivity = \"all\""
   ]
  },
  {
   "cell_type": "code",
   "execution_count": 35,
   "id": "965e678e",
   "metadata": {},
   "outputs": [],
   "source": [
    "# 데이터마트용 계정 생성\n",
    "# mysql> create user bigSVC@'%' identified by 'bigSVC1234@';\n",
    "# Query OK, 0 rows affected (0.01 sec)\n",
    "\n",
    "# mysql> grant all privileges on *.* to bigSVC@'%' with grant option;\n",
    "# - with grant option : 해당 계정이 받은 권한을 다른 계쩡에게 전달해주는게 가능하게 하겠다\n",
    "# Query OK, 0 rows affected (0.02 sec)\n"
   ]
  },
  {
   "cell_type": "code",
   "execution_count": 36,
   "id": "4d733b28",
   "metadata": {},
   "outputs": [],
   "source": [
    "from datetime import date, datetime\n",
    "from pyspark.sql.types import *\n",
    "from pyspark.sql.functions import *\n",
    "import datetime as dt\n",
    "import pandas as pd\n",
    "import matplotlib.pyplot as plt #그래프 패키지 모듈 등록\n",
    "%matplotlib inline \n"
   ]
  },
  {
   "cell_type": "code",
   "execution_count": 37,
   "id": "638d56cc",
   "metadata": {},
   "outputs": [],
   "source": [
    "def cal_std_day(befor_day):   \n",
    "    x = dt.datetime.now() - dt.timedelta(befor_day)\n",
    "    year = x.year\n",
    "    month = x.month if x.month >= 10 else '0'+ str(x.month)\n",
    "    day = x.day if x.day >= 10 else '0'+ str(x.day)  \n",
    "    return str(year)+ '-' +str(month)+ '-' +str(day)"
   ]
  },
  {
   "cell_type": "markdown",
   "id": "935050b6",
   "metadata": {},
   "source": [
    "### JDBC 연결정보"
   ]
  },
  {
   "cell_type": "code",
   "execution_count": 38,
   "id": "a4d64efe",
   "metadata": {},
   "outputs": [],
   "source": [
    "# DM DB 연결정보\n",
    "conf_dm = {\n",
    "      'url':'jdbc:mysql://localhost:3306/etlMysqlDM?characterEncoding=utf8&serverTimezone=Asia/Seoul'\n",
    "     ,'props':{\n",
    "      'user':'bigMysql',\n",
    "      'password':'bigMysql1234@'   \n",
    "      }\n",
    "}\n",
    "\n",
    "# service DB 연결정보\n",
    "conf_svc = {\n",
    "    'url': 'jdbc:mysql://127.0.0.1:3306/etlMysqlSVC?characterEncoding=utf8&serverTimezone=Asia/Seoul',\n",
    "    'props': {\n",
    "        'user': 'bigSVC',\n",
    "        'password': 'bigSVCl1234@'\n",
    "    }\n",
    "}\n"
   ]
  },
  {
   "cell_type": "markdown",
   "id": "a8d85933",
   "metadata": {},
   "source": [
    "## Load DataMart"
   ]
  },
  {
   "cell_type": "markdown",
   "id": "2549a93a",
   "metadata": {},
   "source": [
    "### 1. 지역별 단위면적(km)당 인구수와 코로나 확진자 수 데이터 저장\n",
    "- base data load\n",
    "    - LOC table : 지역별 인구와 면적\n",
    "    - dm db data read -> 처리코드 -> service db dataload"
   ]
  },
  {
   "cell_type": "code",
   "execution_count": 30,
   "id": "2c217435-6fb1-4f0c-bafc-c8e6b58a3bde",
   "metadata": {},
   "outputs": [
    {
     "name": "stdout",
     "output_type": "stream",
     "text": [
      "+----+------+---------+\n",
      "| LOC|  AREA|     POPU|\n",
      "+----+------+---------+\n",
      "|서울|  605 | 9736027 |\n",
      "|부산|  770 | 3396109 |\n",
      "|대구|  883 | 2412642 |\n",
      "|인천| 1065 | 3014739 |\n",
      "|광주|  501 | 1462545 |\n",
      "|대전|  540 | 1469543 |\n",
      "|울산| 1062 | 1138419 |\n",
      "|세종|  465 |  376779 |\n",
      "|경기|10195 |13925862 |\n",
      "|강원|16830 | 1555876 |\n",
      "|충북| 7407 | 1633472 |\n",
      "|충남| 8246 | 2181835 |\n",
      "|전북| 8070 | 1817186 |\n",
      "|전남|12348 | 1865459 |\n",
      "|경북|19034 | 2677709 |\n",
      "|경남|10541 | 3377331 |\n",
      "|제주| 1850 |  697476 |\n",
      "+----+------+---------+\n",
      "\n"
     ]
    }
   ],
   "source": [
    "spark.read.jdbc(url=conf_dm[\"url\"], table = \"LOC\", properties=conf_dm[\"props\"]).show()"
   ]
  },
  {
   "cell_type": "code",
   "execution_count": 31,
   "id": "ff236160-7607-4038-9837-52f37a078a3f",
   "metadata": {},
   "outputs": [],
   "source": [
    "# db table 읽기, 저장함수\n",
    "# read 함수\n",
    "def find_data(config, table_name) :\n",
    "    return spark.read.jdbc(url=config[\"url\"], table = table_name, properties=config[\"props\"])\n",
    "\n",
    "# write 함수\n",
    "def save_data(config, df, table_name) :\n",
    "    df.write.jdbc(url=config[\"url\"], table = table_name, mode=\"append\", properties=config[\"props\"])"
   ]
  },
  {
   "cell_type": "markdown",
   "id": "2660cdc3-f08d-4798-92ec-63fc2e27aa98",
   "metadata": {},
   "source": [
    "#### 단위 면적당 인구수, 코로나 확진자 수 현황\n",
    "- DM DB의 LOC, CORPNA_PATIENTS 테이블"
   ]
  },
  {
   "cell_type": "code",
   "execution_count": 21,
   "id": "e3db6a7f-a431-4b29-a8af-9e27c790d00f",
   "metadata": {},
   "outputs": [],
   "source": [
    "popu = find_data(conf_dm, \"LOC\")\n",
    "patients = find_data(conf_dm, \"CORONA_PATIENTS\")"
   ]
  },
  {
   "cell_type": "code",
   "execution_count": 22,
   "id": "19898a7e-3e67-46ba-bcb5-3526e4ec6864",
   "metadata": {},
   "outputs": [
    {
     "data": {
      "text/plain": [
       "['LOC', 'AREA', 'POPU']"
      ]
     },
     "execution_count": 22,
     "metadata": {},
     "output_type": "execute_result"
    },
    {
     "data": {
      "text/plain": [
       "['LOC', 'DEATH_CNT', 'DEF_CNT', 'LOC_OCC_CNT', 'QUR_RATE', 'STD_DAY']"
      ]
     },
     "execution_count": 22,
     "metadata": {},
     "output_type": "execute_result"
    }
   ],
   "source": [
    "popu.columns\n",
    "patients.columns"
   ]
  },
  {
   "cell_type": "markdown",
   "id": "1f7d569c-0ad2-4ae1-a5d0-7731103afdfa",
   "metadata": {},
   "source": [
    "['LOC', 'DEATH_CNT', 'DEF_CNT', 'LOC_OCC_CNT', 'QUR_RATE', 'STD_DAY']   \n",
    " 지역   누적사망자수  누적 발생수  지역발생수     만명당 발생률  기준일자"
   ]
  },
  {
   "cell_type": "code",
   "execution_count": 23,
   "id": "094cebb8-dbb0-4134-beda-9b7ffc7a5d1d",
   "metadata": {},
   "outputs": [
    {
     "data": {
      "text/plain": [
       "17"
      ]
     },
     "execution_count": 23,
     "metadata": {},
     "output_type": "execute_result"
    },
    {
     "data": {
      "text/plain": [
       "119"
      ]
     },
     "execution_count": 23,
     "metadata": {},
     "output_type": "execute_result"
    }
   ],
   "source": [
    "popu.count()\n",
    "patients.count()"
   ]
  },
  {
   "cell_type": "code",
   "execution_count": 24,
   "id": "85f6b9d2-5e5b-447a-9c44-4d6afaa79566",
   "metadata": {},
   "outputs": [
    {
     "data": {
      "text/plain": [
       "[Row(LOC='충남', AREA='8246 ', POPU='2181835 ', DEATH_CNT='165', DEF_CNT='19553', LOC_OCC_CNT='126', QUR_RATE='923', STD_DAY='2022-01-13'),\n",
       " Row(LOC='충남', AREA='8246 ', POPU='2181835 ', DEATH_CNT='163', DEF_CNT='19422', LOC_OCC_CNT='112', QUR_RATE='916', STD_DAY='2022-01-12'),\n",
       " Row(LOC='충남', AREA='8246 ', POPU='2181835 ', DEATH_CNT='165', DEF_CNT='19659', LOC_OCC_CNT='99', QUR_RATE='928', STD_DAY='2022-01-14'),\n",
       " Row(LOC='충북', AREA='7407 ', POPU='1633472 ', DEATH_CNT='121', DEF_CNT='12455', LOC_OCC_CNT='37', QUR_RATE='780', STD_DAY='2022-01-16'),\n",
       " Row(LOC='충북', AREA='7407 ', POPU='1633472 ', DEATH_CNT='121', DEF_CNT='12497', LOC_OCC_CNT='38', QUR_RATE='782', STD_DAY='2022-01-17'),\n",
       " Row(LOC='충북', AREA='7407 ', POPU='1633472 ', DEATH_CNT='120', DEF_CNT='12416', LOC_OCC_CNT='77', QUR_RATE='777', STD_DAY='2022-01-15'),\n",
       " Row(LOC='충북', AREA='7407 ', POPU='1633472 ', DEATH_CNT='123', DEF_CNT='12555', LOC_OCC_CNT='55', QUR_RATE='786', STD_DAY='2022-01-18'),\n",
       " Row(LOC='충북', AREA='7407 ', POPU='1633472 ', DEATH_CNT='120', DEF_CNT='12202', LOC_OCC_CNT='66', QUR_RATE='764', STD_DAY='2022-01-12'),\n",
       " Row(LOC='충북', AREA='7407 ', POPU='1633472 ', DEATH_CNT='120', DEF_CNT='12263', LOC_OCC_CNT='58', QUR_RATE='768', STD_DAY='2022-01-13'),\n",
       " Row(LOC='충북', AREA='7407 ', POPU='1633472 ', DEATH_CNT='120', DEF_CNT='12333', LOC_OCC_CNT='67', QUR_RATE='772', STD_DAY='2022-01-14')]"
      ]
     },
     "execution_count": 24,
     "metadata": {},
     "output_type": "execute_result"
    }
   ],
   "source": [
    "popu.join(patients, on=\"LOC\").tail(10)"
   ]
  },
  {
   "cell_type": "code",
   "execution_count": 25,
   "id": "91baef7d-5e90-4e3e-ae79-d273e823980f",
   "metadata": {},
   "outputs": [],
   "source": [
    "popPatient = popu.join(patients, on=\"LOC\") \\\n",
    "                 .select(\"LOC\",\n",
    "                        ceil(col(\"POPU\")/col(\"AREA\")).alias(\"POPU_DENST\"),\n",
    "                        \"QUR_RATE\", \"STD_DAY\") \\\n",
    "                 .orderBy(col(\"STD_DAY\"))"
   ]
  },
  {
   "cell_type": "code",
   "execution_count": 26,
   "id": "96a0f8bb-314c-40ba-a80e-e8c31d27bd47",
   "metadata": {},
   "outputs": [
    {
     "name": "stdout",
     "output_type": "stream",
     "text": [
      "+----+----------+--------+----------+\n",
      "| LOC|POPU_DENST|QUR_RATE|   STD_DAY|\n",
      "+----+----------+--------+----------+\n",
      "|광주|      2920|     642|2022-01-12|\n",
      "|세종|       811|     621|2022-01-12|\n",
      "|대구|      2733|    1019|2022-01-12|\n",
      "|강원|        93|     863|2022-01-12|\n",
      "|대전|      2722|     884|2022-01-12|\n",
      "+----+----------+--------+----------+\n",
      "only showing top 5 rows\n",
      "\n"
     ]
    },
    {
     "data": {
      "text/plain": [
       "[Row(LOC='전남', POPU_DENST=152, QUR_RATE='433', STD_DAY='2022-01-18'),\n",
       " Row(LOC='전북', POPU_DENST=226, QUR_RATE='629', STD_DAY='2022-01-18'),\n",
       " Row(LOC='제주', POPU_DENST=378, QUR_RATE='724', STD_DAY='2022-01-18'),\n",
       " Row(LOC='충남', POPU_DENST=265, QUR_RATE='950', STD_DAY='2022-01-18'),\n",
       " Row(LOC='충북', POPU_DENST=221, QUR_RATE='786', STD_DAY='2022-01-18')]"
      ]
     },
     "execution_count": 26,
     "metadata": {},
     "output_type": "execute_result"
    }
   ],
   "source": [
    "popPatient.show(5)\n",
    "popPatient.tail(5)"
   ]
  },
  {
   "cell_type": "markdown",
   "id": "051b9f83-417c-47db-a276-1389c729916a",
   "metadata": {},
   "source": [
    "- 각 DB에 고유번호를 추가해서 레코드를 유일하게 구별하는 컬럼으로 사용\n",
    "    - spark 데이터 프레임의 statfuctions 패키지 함수 중 monotonically_increasing_id\n",
    "    - 데이터프레임의 로우에 매핑되는 고유 id 반환"
   ]
  },
  {
   "cell_type": "code",
   "execution_count": 27,
   "id": "aea81baa-7ecd-4755-aa81-5eccb21efdae",
   "metadata": {},
   "outputs": [
    {
     "name": "stdout",
     "output_type": "stream",
     "text": [
      "+----+----------+--------+----------+------+\n",
      "| LOC|POPU_DENST|QUR_RATE|   STD_DAY|CP_IDX|\n",
      "+----+----------+--------+----------+------+\n",
      "|강원|        93|     863|2022-01-12|     0|\n",
      "|경기|      1366|    1483|2022-01-12|     1|\n",
      "|경남|       321|     665|2022-01-12|     2|\n",
      "|경북|       141|     622|2022-01-12|     3|\n",
      "|광주|      2920|     642|2022-01-12|     4|\n",
      "|대구|      2733|    1019|2022-01-12|     5|\n",
      "|대전|      2722|     884|2022-01-12|     6|\n",
      "|부산|      4411|     815|2022-01-12|     7|\n",
      "|서울|     16093|    2503|2022-01-12|     8|\n",
      "|세종|       811|     621|2022-01-12|     9|\n",
      "|울산|      1072|     651|2022-01-12|    10|\n",
      "|인천|      2831|    1330|2022-01-12|    11|\n",
      "|전남|       152|     384|2022-01-12|    12|\n",
      "|전북|       226|     589|2022-01-12|    13|\n",
      "|제주|       378|     717|2022-01-12|    14|\n",
      "|충남|       265|     916|2022-01-12|    15|\n",
      "|충북|       221|     764|2022-01-12|    16|\n",
      "|강원|        93|     869|2022-01-13|    17|\n",
      "|경기|      1366|    1495|2022-01-13|    18|\n",
      "|경남|       321|     668|2022-01-13|    19|\n",
      "+----+----------+--------+----------+------+\n",
      "only showing top 20 rows\n",
      "\n"
     ]
    }
   ],
   "source": [
    "popPatFin = popPatient.withColumn(\"CP_IDX\", monotonically_increasing_id())\n",
    "popPatFin.show()"
   ]
  },
  {
   "cell_type": "code",
   "execution_count": 39,
   "id": "aeab1624-840b-4e1d-b143-3de91cf5236a",
   "metadata": {},
   "outputs": [
    {
     "name": "stderr",
     "output_type": "stream",
     "text": [
      "                                                                                "
     ]
    }
   ],
   "source": [
    "save_data(conf_svc, popPatFin, \"CO_POP_DENSITY\")"
   ]
  },
  {
   "cell_type": "markdown",
   "id": "0316df17-8729-4b82-b8ed-3eb295f06c60",
   "metadata": {},
   "source": [
    "### 2. 백신접종 완료자와 코로나 발생현황 데이터 저장\n",
    "- 백신 접종 3차 접종자수(누적) : 인구 10만명당 접종자수\n",
    "- 코로나 발생현황 : QUR_RATE(인구 10만명당 발생자수)"
   ]
  },
  {
   "cell_type": "code",
   "execution_count": 40,
   "id": "e793aa54-12cc-4744-94f0-3eef7e286bf6",
   "metadata": {},
   "outputs": [
    {
     "name": "stdout",
     "output_type": "stream",
     "text": [
      "+----+----------+-------+---------+\n",
      "| loc|   std_day|level_2|    V_CNT|\n",
      "+----+----------+-------+---------+\n",
      "|경남|2022-01-18|     v2|2783896.0|\n",
      "|경남|2022-01-18|     v1|  2848083|\n",
      "|경남|2022-01-18|     v3|  22358.0|\n",
      "+----+----------+-------+---------+\n",
      "only showing top 3 rows\n",
      "\n",
      "root\n",
      " |-- loc: string (nullable = true)\n",
      " |-- std_day: string (nullable = true)\n",
      " |-- level_2: string (nullable = true)\n",
      " |-- V_CNT: string (nullable = true)\n",
      "\n"
     ]
    }
   ],
   "source": [
    "vaccine = find_data(conf_dm, \"CORONA_VACCINE\")\n",
    "vaccine.show(3)\n",
    "vaccine.printSchema()"
   ]
  },
  {
   "cell_type": "code",
   "execution_count": 41,
   "id": "a2f5cccc-b337-40df-99db-1f071a1d6307",
   "metadata": {},
   "outputs": [
    {
     "data": {
      "text/plain": [
       "DataFrame[loc: string, std_day: string, level_2: string, V_CNT: int]"
      ]
     },
     "execution_count": 41,
     "metadata": {},
     "output_type": "execute_result"
    },
    {
     "name": "stdout",
     "output_type": "stream",
     "text": [
      "+----+----------+-------+---------+\n",
      "| loc|   std_day|level_2|    V_CNT|\n",
      "+----+----------+-------+---------+\n",
      "|경남|2022-01-18|     v2|2783896.0|\n",
      "|경남|2022-01-18|     v1|  2848083|\n",
      "+----+----------+-------+---------+\n",
      "only showing top 2 rows\n",
      "\n"
     ]
    }
   ],
   "source": [
    "vaccine.withColumn(\"V_CNT\", vaccine[\"V_CNT\"].cast(IntegerType()))\n",
    "vaccine.show(2)"
   ]
  },
  {
   "cell_type": "code",
   "execution_count": 61,
   "id": "8717ba5e-e07f-4d50-a69c-0bc167d2f302",
   "metadata": {},
   "outputs": [
    {
     "data": {
      "text/plain": [
       "pyspark.pandas.frame.DataFrame"
      ]
     },
     "execution_count": 61,
     "metadata": {},
     "output_type": "execute_result"
    }
   ],
   "source": [
    "# long df --> wide df 변환 (V_TH 컬럼 값을 컬럼으로 변환)\n",
    "# pivot 사용 : pandas df로 변환\n",
    "pdVac = vaccine.pandas_api()\n",
    "type(pdVac)"
   ]
  },
  {
   "cell_type": "code",
   "execution_count": 62,
   "id": "b6511398-daa1-4500-81a1-2424f5103efb",
   "metadata": {},
   "outputs": [],
   "source": [
    "pdVac = pdVac.rename(columns={\"loc\":\"LOC\",\"std_day\":\"STD_DAY\", \"level_2\":\"V_TH\"})\n",
    "pdVac[\"V_CNT\"] = pdVac[\"V_CNT\"].astype(int)"
   ]
  },
  {
   "cell_type": "code",
   "execution_count": 63,
   "id": "2c12becc-d3cc-4416-b1a8-e0bf5a5dc89d",
   "metadata": {},
   "outputs": [
    {
     "data": {
      "text/html": [
       "<div>\n",
       "<style scoped>\n",
       "    .dataframe tbody tr th:only-of-type {\n",
       "        vertical-align: middle;\n",
       "    }\n",
       "\n",
       "    .dataframe tbody tr th {\n",
       "        vertical-align: top;\n",
       "    }\n",
       "\n",
       "    .dataframe thead th {\n",
       "        text-align: right;\n",
       "    }\n",
       "</style>\n",
       "<table border=\"1\" class=\"dataframe\">\n",
       "  <thead>\n",
       "    <tr style=\"text-align: right;\">\n",
       "      <th></th>\n",
       "      <th>V_TH</th>\n",
       "      <th>v1</th>\n",
       "      <th>v2</th>\n",
       "      <th>v3</th>\n",
       "    </tr>\n",
       "    <tr>\n",
       "      <th>LOC</th>\n",
       "      <th>STD_DAY</th>\n",
       "      <th></th>\n",
       "      <th></th>\n",
       "      <th></th>\n",
       "    </tr>\n",
       "  </thead>\n",
       "  <tbody>\n",
       "    <tr>\n",
       "      <th>전남</th>\n",
       "      <th>2022-01-15</th>\n",
       "      <td>1631047.0</td>\n",
       "      <td>1599517.0</td>\n",
       "      <td>20760.0</td>\n",
       "    </tr>\n",
       "  </tbody>\n",
       "</table>\n",
       "</div>"
      ],
      "text/plain": [
       "V_TH                   v1         v2       v3\n",
       "LOC STD_DAY                                  \n",
       "전남  2022-01-15  1631047.0  1599517.0  20760.0"
      ]
     },
     "execution_count": 63,
     "metadata": {},
     "output_type": "execute_result"
    },
    {
     "data": {
      "text/html": [
       "<div>\n",
       "<style scoped>\n",
       "    .dataframe tbody tr th:only-of-type {\n",
       "        vertical-align: middle;\n",
       "    }\n",
       "\n",
       "    .dataframe tbody tr th {\n",
       "        vertical-align: top;\n",
       "    }\n",
       "\n",
       "    .dataframe thead th {\n",
       "        text-align: right;\n",
       "    }\n",
       "</style>\n",
       "<table border=\"1\" class=\"dataframe\">\n",
       "  <thead>\n",
       "    <tr style=\"text-align: right;\">\n",
       "      <th>V_TH</th>\n",
       "      <th>LOC</th>\n",
       "      <th>STD_DAY</th>\n",
       "      <th>v1</th>\n",
       "      <th>v2</th>\n",
       "      <th>v3</th>\n",
       "    </tr>\n",
       "  </thead>\n",
       "  <tbody>\n",
       "    <tr>\n",
       "      <th>0</th>\n",
       "      <td>전남</td>\n",
       "      <td>2022-01-15</td>\n",
       "      <td>1631047.0</td>\n",
       "      <td>1599517.0</td>\n",
       "      <td>20760.0</td>\n",
       "    </tr>\n",
       "  </tbody>\n",
       "</table>\n",
       "</div>"
      ],
      "text/plain": [
       "V_TH LOC     STD_DAY         v1         v2       v3\n",
       "0     전남  2022-01-15  1631047.0  1599517.0  20760.0"
      ]
     },
     "execution_count": 63,
     "metadata": {},
     "output_type": "execute_result"
    }
   ],
   "source": [
    "pdVacV1 = pdVac.pivot_table(index=['LOC','STD_DAY'], columns='V_TH', values='V_CNT')\n",
    "pdVacV1.head(1)\n",
    "pdVacV1 = pdVacV1.reset_index()\n",
    "pdVacV1.head(1)"
   ]
  },
  {
   "cell_type": "markdown",
   "id": "0f1c1d6a-9321-41f4-bb7f-e68dea6a3289",
   "metadata": {},
   "source": [
    "- Spark 데이터 프레임의 StatFunctions 패키지 함수 중 monotonically_increasing_id\n",
    "    - 데이터 프레임의 로우에 되는매핑되는  고유 id 반환\n",
    "\n"
   ]
  },
  {
   "cell_type": "code",
   "execution_count": 65,
   "id": "fe77abcb",
   "metadata": {},
   "outputs": [
    {
     "name": "stdout",
     "output_type": "stream",
     "text": [
      "+----+----------+---------+---------+-------+\n",
      "| LOC|   STD_DAY|       v1|       v2|     v3|\n",
      "+----+----------+---------+---------+-------+\n",
      "|전남|2022-01-15|1631047.0|1599517.0|20760.0|\n",
      "|울산|2022-01-17| 956456.0| 930969.0|  240.0|\n",
      "+----+----------+---------+---------+-------+\n",
      "only showing top 2 rows\n",
      "\n"
     ]
    }
   ],
   "source": [
    "vaccine = pdVacV1.to_spark()\n",
    "vaccine.show(2)"
   ]
  },
  {
   "cell_type": "code",
   "execution_count": 66,
   "id": "8596f92a-3a77-4a85-be0c-e7e8cb1e6c16",
   "metadata": {},
   "outputs": [],
   "source": [
    "# 지역별 인구 10만명당 백신 접종률 계산\n",
    "# 인구 data 필요\n",
    "popu = find_data(conf_dm, 'LOC')\n",
    "# 코로나 현황 data 필요\n",
    "patients = find_data(conf_dm,'CORONA_PATIENTS')"
   ]
  },
  {
   "cell_type": "code",
   "execution_count": 68,
   "id": "416e54a8-85b1-428d-b1cb-0c8611a3db69",
   "metadata": {},
   "outputs": [
    {
     "name": "stdout",
     "output_type": "stream",
     "text": [
      "+----+----------+---------+\n",
      "| LOC|   STD_DAY|THRD_RATE|\n",
      "+----+----------+---------+\n",
      "|경북|2022-01-16|      450|\n",
      "+----+----------+---------+\n",
      "only showing top 1 row\n",
      "\n"
     ]
    }
   ],
   "source": [
    "vacRate = vaccine.join(popu, on=\"LOC\") \\\n",
    "                 .select(\"LOC\",\n",
    "                         \"STD_DAY\",\n",
    "                         ceil(col(\"v3\")/col(\"POPU\")*100000).alias(\"THRD_RATE\"))\n",
    "vacRate.show(1)"
   ]
  },
  {
   "cell_type": "code",
   "execution_count": 69,
   "id": "ad1cdf8b-8be4-4ebd-97ba-4a1bc304909e",
   "metadata": {},
   "outputs": [],
   "source": [
    "coPatVac = vacRate.join(patients, on = [\"LOC\", \"STD_DAY\"]) \\\n",
    "                  .select(\"LOC\", \"STD_DAY\", \"THRD_RATE\", \"QUR_RATE\")"
   ]
  },
  {
   "cell_type": "code",
   "execution_count": 70,
   "id": "2a3971a9-f58d-4649-9b39-94ba2cb52200",
   "metadata": {},
   "outputs": [
    {
     "name": "stdout",
     "output_type": "stream",
     "text": [
      "+----+----------+---------+--------+\n",
      "| LOC|   STD_DAY|THRD_RATE|QUR_RATE|\n",
      "+----+----------+---------+--------+\n",
      "|경북|2022-01-16|      450|     637|\n",
      "|경북|2022-01-15|      967|     633|\n",
      "|경북|2022-01-17|       13|     641|\n",
      "+----+----------+---------+--------+\n",
      "only showing top 3 rows\n",
      "\n"
     ]
    }
   ],
   "source": [
    "coPatVac.show(3)"
   ]
  },
  {
   "cell_type": "code",
   "execution_count": 71,
   "id": "c17386d4-5c01-4e97-a152-9053878f351a",
   "metadata": {},
   "outputs": [
    {
     "name": "stdout",
     "output_type": "stream",
     "text": [
      "+----+----------+---------+--------+------+\n",
      "| LOC|   STD_DAY|THRD_RATE|QUR_RATE|CV_IDX|\n",
      "+----+----------+---------+--------+------+\n",
      "|경북|2022-01-16|      450|     637|     0|\n",
      "|경북|2022-01-15|      967|     633|     1|\n",
      "+----+----------+---------+--------+------+\n",
      "only showing top 2 rows\n",
      "\n"
     ]
    }
   ],
   "source": [
    "coPatVac = coPatVac.withColumn(\"CV_IDX\", monotonically_increasing_id())\n",
    "coPatVac.show(2)"
   ]
  },
  {
   "cell_type": "code",
   "execution_count": 72,
   "id": "ff841225-c903-4aed-aa26-7bc12f8d1dc9",
   "metadata": {},
   "outputs": [
    {
     "name": "stderr",
     "output_type": "stream",
     "text": [
      "                                                                                "
     ]
    }
   ],
   "source": [
    "save_data(conf_svc, coPatVac, \"CO_VACCINE_PATIENT\")"
   ]
  },
  {
   "cell_type": "markdown",
   "id": "3209c1f4",
   "metadata": {},
   "source": [
    "### 3. 다중이용시설과 코로나 확진자 수의 상관관계\n",
    "- DM DB LOC_FACILITY_CNT\n",
    "    - 인구 10만명당 다중 이용시설 수\n",
    "- DM DB CORONA_PATIENTS"
   ]
  },
  {
   "cell_type": "code",
   "execution_count": 73,
   "id": "6c4153c1-c601-4dc6-9708-6b689fda1ca6",
   "metadata": {},
   "outputs": [
    {
     "name": "stdout",
     "output_type": "stream",
     "text": [
      "+----+-------+\n",
      "| LOC|FAC_CNT|\n",
      "+----+-------+\n",
      "|경북|    944|\n",
      "+----+-------+\n",
      "only showing top 1 row\n",
      "\n"
     ]
    }
   ],
   "source": [
    "facil = find_data(conf_dm, \"LOC_FACILITY_CNT\")\n",
    "facil.show(1)"
   ]
  },
  {
   "cell_type": "code",
   "execution_count": 75,
   "id": "126ce635-4643-415d-9687-579e643bb774",
   "metadata": {},
   "outputs": [
    {
     "name": "stdout",
     "output_type": "stream",
     "text": [
      "+----+--------+\n",
      "| LOC|FAC_POPU|\n",
      "+----+--------+\n",
      "|강원|      38|\n",
      "+----+--------+\n",
      "only showing top 1 row\n",
      "\n"
     ]
    }
   ],
   "source": [
    "facPop = popu.join(facil, on = \"LOC\") \\\n",
    "             .select(\"LOC\", \n",
    "                     ceil(facil.FAC_CNT/popu.POPU*100000).alias(\"FAC_POPU\"))\n",
    "facPop.show(1)"
   ]
  },
  {
   "cell_type": "code",
   "execution_count": 76,
   "id": "a5e72b7f-1d85-4876-ac4a-22214155b7bd",
   "metadata": {},
   "outputs": [
    {
     "name": "stdout",
     "output_type": "stream",
     "text": [
      "+----+--------+--------+----------+------+\n",
      "| LOC|FAC_POPU|QUR_RATE|   STD_DAY|CF_IDX|\n",
      "+----+--------+--------+----------+------+\n",
      "|경북|      36|     633|2022-01-15|     0|\n",
      "|경북|      36|     641|2022-01-17|     1|\n",
      "+----+--------+--------+----------+------+\n",
      "only showing top 2 rows\n",
      "\n"
     ]
    }
   ],
   "source": [
    "coFacPat = patients.join(facPop, on=\"LOC\") \\\n",
    "                   .select(\"LOC\", \"FAC_POPU\", \"QUR_RATE\", \"STD_DAY\") \\\n",
    "                   .withColumn(\"CF_IDX\", monotonically_increasing_id())\n",
    "coFacPat.show(2)"
   ]
  },
  {
   "cell_type": "code",
   "execution_count": 77,
   "id": "9196691d-854e-4452-aca1-828c7057a437",
   "metadata": {},
   "outputs": [],
   "source": [
    "save_data(conf_svc, coFacPat, \"CO_FACT_PATIENTS\")"
   ]
  },
  {
   "cell_type": "markdown",
   "id": "a0849960",
   "metadata": {},
   "source": [
    "### 4. 요일별 코로나 확진자 수를 구해보자\n",
    "- 코로나 현황 data : STD_DAY 기준일 data -> 요일로 변경(dayofweek()) -> 요일별 그룹 생성후 신규 확진자수 합산"
   ]
  },
  {
   "cell_type": "code",
   "execution_count": 78,
   "id": "e6b99e4d-4bad-467a-8e86-8194efb0b2f8",
   "metadata": {},
   "outputs": [
    {
     "name": "stdout",
     "output_type": "stream",
     "text": [
      "+----+---------+-------+-----------+--------+----------+-----------+\n",
      "| LOC|DEATH_CNT|DEF_CNT|LOC_OCC_CNT|QUR_RATE|   STD_DAY|DAY_OF_WEEK|\n",
      "+----+---------+-------+-----------+--------+----------+-----------+\n",
      "|강원|      110|  13838|         94|     899|2022-01-18|          3|\n",
      "|경남|      113|  22394|        108|     676|2022-01-15|          7|\n",
      "|서울|     2033| 240862|        823|    2533|2022-01-15|          7|\n",
      "|서울|     2063| 243337|        684|    2559|2022-01-18|          3|\n",
      "|대전|      187|  13262|        101|     913|2022-01-18|          3|\n",
      "+----+---------+-------+-----------+--------+----------+-----------+\n",
      "only showing top 5 rows\n",
      "\n"
     ]
    }
   ],
   "source": [
    "# 코로나 현황 data 필요\n",
    "patients = find_data(conf_dm, \"CORONA_PATIENTS\")\n",
    "\n",
    "# 기준일을 요일로 변환\n",
    "patWeek = patients.withColumn(\"DAY_OF_WEEK\", dayofweek(col(\"STD_DAY\")))\n",
    "patWeek.show(5)"
   ]
  },
  {
   "cell_type": "code",
   "execution_count": 79,
   "id": "f4f41e18-1071-4073-a7a4-956b084e54c1",
   "metadata": {},
   "outputs": [
    {
     "name": "stdout",
     "output_type": "stream",
     "text": [
      "+-----------+--------+\n",
      "|DAY_OF_WEEK|PATIENTS|\n",
      "+-----------+--------+\n",
      "|          1|  3813.0|\n",
      "|          6|  4133.0|\n",
      "|          3|  3763.0|\n",
      "|          5|  3776.0|\n",
      "|          4|  4007.0|\n",
      "|          7|  4077.0|\n",
      "|          2|  3551.0|\n",
      "+-----------+--------+\n",
      "\n"
     ]
    }
   ],
   "source": [
    "weekUp = patWeek.groupby(patWeek.DAY_OF_WEEK).agg(sum(col(\"LOC_OCC_CNT\")).alias(\"PATIENTS\"))\n",
    "weekUp.show()"
   ]
  },
  {
   "cell_type": "code",
   "execution_count": 80,
   "id": "100eb1f8-1230-4523-98d8-c2fb30320fa4",
   "metadata": {},
   "outputs": [
    {
     "name": "stdout",
     "output_type": "stream",
     "text": [
      "+-----------+--------+\n",
      "|DAY_OF_WEEK|PATIENTS|\n",
      "+-----------+--------+\n",
      "|        MON|  3813.0|\n",
      "|        SAT|  4133.0|\n",
      "|        WED|  3763.0|\n",
      "|        FRI|  3776.0|\n",
      "|        THE|  4007.0|\n",
      "|        SUN|  4077.0|\n",
      "|        TUE|  3551.0|\n",
      "+-----------+--------+\n",
      "\n"
     ]
    }
   ],
   "source": [
    "weekUp = weekUp.withColumn(\"DAY_OF_WEEK\", when(weekUp.DAY_OF_WEEK == 1, \"MON\")\n",
    "                                        .when(weekUp.DAY_OF_WEEK == 2, \"TUE\")\n",
    "                                        .when(weekUp.DAY_OF_WEEK == 3, \"WED\")\n",
    "                                        .when(weekUp.DAY_OF_WEEK == 4, \"THE\")\n",
    "                                        .when(weekUp.DAY_OF_WEEK == 5, \"FRI\")\n",
    "                                        .when(weekUp.DAY_OF_WEEK == 6, \"SAT\")\n",
    "                                        .when(weekUp.DAY_OF_WEEK == 7, \"SUN\")\n",
    "                 )\n",
    "weekUp.show()"
   ]
  },
  {
   "cell_type": "code",
   "execution_count": 81,
   "id": "66ed4b98-8006-418b-95e5-f34b203ab8ff",
   "metadata": {},
   "outputs": [
    {
     "data": {
      "text/html": [
       "<div>\n",
       "<style scoped>\n",
       "    .dataframe tbody tr th:only-of-type {\n",
       "        vertical-align: middle;\n",
       "    }\n",
       "\n",
       "    .dataframe tbody tr th {\n",
       "        vertical-align: top;\n",
       "    }\n",
       "\n",
       "    .dataframe thead th {\n",
       "        text-align: right;\n",
       "    }\n",
       "</style>\n",
       "<table border=\"1\" class=\"dataframe\">\n",
       "  <thead>\n",
       "    <tr style=\"text-align: right;\">\n",
       "      <th></th>\n",
       "      <th>DAY_OF_WEEK</th>\n",
       "      <th>PATIENTS</th>\n",
       "    </tr>\n",
       "  </thead>\n",
       "  <tbody>\n",
       "    <tr>\n",
       "      <th>0</th>\n",
       "      <td>MON</td>\n",
       "      <td>3813.0</td>\n",
       "    </tr>\n",
       "    <tr>\n",
       "      <th>1</th>\n",
       "      <td>SAT</td>\n",
       "      <td>4133.0</td>\n",
       "    </tr>\n",
       "    <tr>\n",
       "      <th>2</th>\n",
       "      <td>WED</td>\n",
       "      <td>3763.0</td>\n",
       "    </tr>\n",
       "    <tr>\n",
       "      <th>3</th>\n",
       "      <td>FRI</td>\n",
       "      <td>3776.0</td>\n",
       "    </tr>\n",
       "    <tr>\n",
       "      <th>4</th>\n",
       "      <td>THE</td>\n",
       "      <td>4007.0</td>\n",
       "    </tr>\n",
       "    <tr>\n",
       "      <th>5</th>\n",
       "      <td>SUN</td>\n",
       "      <td>4077.0</td>\n",
       "    </tr>\n",
       "    <tr>\n",
       "      <th>6</th>\n",
       "      <td>TUE</td>\n",
       "      <td>3551.0</td>\n",
       "    </tr>\n",
       "  </tbody>\n",
       "</table>\n",
       "</div>"
      ],
      "text/plain": [
       "  DAY_OF_WEEK  PATIENTS\n",
       "0         MON    3813.0\n",
       "1         SAT    4133.0\n",
       "2         WED    3763.0\n",
       "3         FRI    3776.0\n",
       "4         THE    4007.0\n",
       "5         SUN    4077.0\n",
       "6         TUE    3551.0"
      ]
     },
     "execution_count": 81,
     "metadata": {},
     "output_type": "execute_result"
    }
   ],
   "source": [
    "# long -> wide 형으로 변경 후 저장\n",
    "pdWeek = weekUp.pandas_api()\n",
    "pdWeek"
   ]
  },
  {
   "cell_type": "code",
   "execution_count": 82,
   "id": "c8e127be-e6c5-4a22-b13e-585ccb8820fe",
   "metadata": {},
   "outputs": [],
   "source": [
    "pdWeekpvt = pdWeek.pivot_table(columns=\"DAY_OF_WEEK\", values=\"PATIENTS\")\n",
    "pdWeek = pdWeekpvt.reset_index()"
   ]
  },
  {
   "cell_type": "code",
   "execution_count": 83,
   "id": "02766983-0492-4fd2-8732-0ce6d8e860f1",
   "metadata": {},
   "outputs": [
    {
     "name": "stderr",
     "output_type": "stream",
     "text": [
      "/root/spark/python/pyspark/pandas/utils.py:1016: PandasAPIOnSparkAdviceWarning: If `index_col` is not specified for `to_spark`, the existing index is lost when converting to Spark DataFrame.\n",
      "  warnings.warn(message, PandasAPIOnSparkAdviceWarning)\n"
     ]
    },
    {
     "name": "stdout",
     "output_type": "stream",
     "text": [
      "+--------+------+------+------+------+------+------+------+\n",
      "|   index|   FRI|   MON|   SAT|   SUN|   THE|   TUE|   WED|\n",
      "+--------+------+------+------+------+------+------+------+\n",
      "|PATIENTS|3776.0|3813.0|4133.0|4077.0|4007.0|3551.0|3763.0|\n",
      "+--------+------+------+------+------+------+------+------+\n",
      "\n"
     ]
    }
   ],
   "source": [
    "weekUp = pdWeek.to_spark()\n",
    "weekUp.show()"
   ]
  },
  {
   "cell_type": "code",
   "execution_count": 84,
   "id": "3e3c31de-efe2-49cd-937c-c186c1330a83",
   "metadata": {},
   "outputs": [
    {
     "name": "stdout",
     "output_type": "stream",
     "text": [
      "+--------+------+------+------+------+------+------+------+----------+\n",
      "|   index|   FRI|   MON|   SAT|   SUN|   THE|   TUE|   WED|   STD_DAY|\n",
      "+--------+------+------+------+------+------+------+------+----------+\n",
      "|PATIENTS|3776.0|3813.0|4133.0|4077.0|4007.0|3551.0|3763.0|2022-01-18|\n",
      "+--------+------+------+------+------+------+------+------+----------+\n",
      "\n"
     ]
    }
   ],
   "source": [
    "weekUp.withColumn(\"STD_DAY\", lit(cal_std_day(365*3+4))).show()"
   ]
  },
  {
   "cell_type": "code",
   "execution_count": 85,
   "id": "57feced4-0725-4820-8795-e61ea5cc3052",
   "metadata": {},
   "outputs": [],
   "source": [
    "save_data(conf_svc, weekUp, \"CO_WEEKDAY\")"
   ]
  },
  {
   "cell_type": "code",
   "execution_count": null,
   "id": "01a09a50-18ff-49ce-983d-c4ca4f23f2a2",
   "metadata": {},
   "outputs": [],
   "source": []
  },
  {
   "cell_type": "code",
   "execution_count": null,
   "id": "e0cae276-5c2d-4036-8db8-b0e5851523dc",
   "metadata": {},
   "outputs": [],
   "source": []
  }
 ],
 "metadata": {
  "kernelspec": {
   "display_name": "Python 3 (ipykernel)",
   "language": "python",
   "name": "python3"
  },
  "language_info": {
   "codemirror_mode": {
    "name": "ipython",
    "version": 3
   },
   "file_extension": ".py",
   "mimetype": "text/x-python",
   "name": "python",
   "nbconvert_exporter": "python",
   "pygments_lexer": "ipython3",
   "version": "3.10.12"
  },
  "vscode": {
   "interpreter": {
    "hash": "377b85fccf01b1fe6a959144825e6c17ac3718c2615da119d71a1f46ada91329"
   }
  }
 },
 "nbformat": 4,
 "nbformat_minor": 5
}
