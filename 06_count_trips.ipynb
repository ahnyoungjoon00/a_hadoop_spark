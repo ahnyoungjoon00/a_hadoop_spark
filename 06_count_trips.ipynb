{
 "cells": [
  {
   "cell_type": "markdown",
   "id": "f74ff6a3-595e-4441-bc48-8fbc2b48b008",
   "metadata": {},
   "source": [
    "# 이용객 로그 데이터를 활용한 특정일의 시간대별 이용객 변화량 시각화"
   ]
  },
  {
   "cell_type": "code",
   "execution_count": 2,
   "id": "ea6c00bc-0717-4d8f-a9fd-adc311f52bc9",
   "metadata": {},
   "outputs": [],
   "source": [
    "from IPython.core.interactiveshell import InteractiveShell\n",
    "InteractiveShell.ast_node_interactivity = \"all\""
   ]
  },
  {
   "cell_type": "markdown",
   "id": "efc0ac66",
   "metadata": {},
   "source": [
    "## 데이터 로딩후 RDD 생성\n",
    "- tripdata : 2020년 3월 1일 우버 이용객 데이터\n",
    "- trip_tmp : 2020년 2월 29일 23:00~ 3월 2일 12:00의 우버 이용객 데이터를 부분 추출하여\n",
    "- 대용량 데이터인 관계로 17시 이전 데이터만 저장되어 있음"
   ]
  },
  {
   "cell_type": "code",
   "execution_count": 3,
   "id": "a273d956",
   "metadata": {},
   "outputs": [
    {
     "data": {
      "text/plain": [
       "/rdd/trip_tmp.csv MapPartitionsRDD[3] at textFile at NativeMethodAccessorImpl.java:0"
      ]
     },
     "execution_count": 3,
     "metadata": {},
     "output_type": "execute_result"
    }
   ],
   "source": [
    "lines = sc.textFile('/rdd/trip_tmp.csv')\n",
    "lines"
   ]
  },
  {
   "cell_type": "code",
   "execution_count": 4,
   "id": "586e90ae",
   "metadata": {},
   "outputs": [
    {
     "data": {
      "text/plain": [
       "2"
      ]
     },
     "execution_count": 4,
     "metadata": {},
     "output_type": "execute_result"
    }
   ],
   "source": [
    "lines.getNumPartitions()"
   ]
  },
  {
   "cell_type": "markdown",
   "id": "345adb17",
   "metadata": {},
   "source": [
    "## 필요한 부분만 추출하기\n",
    "- 첫번째 line의 data 확인"
   ]
  },
  {
   "cell_type": "code",
   "execution_count": 6,
   "id": "a0c9112c",
   "metadata": {},
   "outputs": [
    {
     "data": {
      "text/plain": [
       "',dispatching_base_num,request_datetime,driver_pay'"
      ]
     },
     "execution_count": 6,
     "metadata": {},
     "output_type": "execute_result"
    }
   ],
   "source": [
    "# first() action method 사용 : rdd data의 첫번째 요소를 반환\n",
    "# 우버 이용객 data의 컬럼명이 문자열로 구성되어 있음\n",
    "header = lines.first()\n",
    "header"
   ]
  },
  {
   "cell_type": "code",
   "execution_count": 7,
   "id": "20056c50",
   "metadata": {},
   "outputs": [
    {
     "data": {
      "text/plain": [
       "PythonRDD[6] at RDD at PythonRDD.scala:53"
      ]
     },
     "execution_count": 7,
     "metadata": {},
     "output_type": "execute_result"
    }
   ],
   "source": [
    "# header를 제외한 나머지 data rdd 객체만 생성 - rddData는 부분 접근이 불가\n",
    "filter_lines = lines.filter(lambda row : row!=header)\n",
    "filter_lines"
   ]
  },
  {
   "cell_type": "code",
   "execution_count": 14,
   "id": "d75b5498",
   "metadata": {},
   "outputs": [
    {
     "data": {
      "text/plain": [
       "',dispatching_base_num,request_datetime,driver_pay'"
      ]
     },
     "execution_count": 14,
     "metadata": {},
     "output_type": "execute_result"
    },
    {
     "data": {
      "text/plain": [
       "PythonRDD[6] at RDD at PythonRDD.scala:53"
      ]
     },
     "execution_count": 14,
     "metadata": {},
     "output_type": "execute_result"
    }
   ],
   "source": [
    "header\n",
    "filter_lines"
   ]
  },
  {
   "cell_type": "markdown",
   "id": "69003826",
   "metadata": {},
   "source": [
    "\n",
    "```python\n",
    "def f(row):\n",
    "    return row != header\n",
    "lines.filter(f) \n",
    "```\n",
    "\n",
    "*데이터*\n",
    "```\n",
    "HV0005,B02510,2020-03-01 00:03:40,2020-03-01 00:23:39,81,159,\n",
    "HV0005,B02510,2020-03-01 00:28:05,2020-03-01 00:38:57,168,119,\n",
    "HV0003,B02764,2020-03-01 00:03:07,2020-03-01 00:15:04,137,209,1\n",
    "HV0003,B02764,2020-03-01 00:18:42,2020-03-01 00:38:42,209,80,\n",
    "HV0003,B02764,2020-03-01 00:44:24,2020-03-01 00:58:44,256,226,\n",
    "...\n",
    "```\n",
    "\n",
    "- 날짜/시간 data를 활용해서\n",
    "    - 날짜별로 counting해서 그래프로 연결\n",
    "         - data에 날짜별로 불균형(연습용이므로 data 그대로 사용)\n",
    "    - 시간별로 counting해서 시계열 그래프로 연결\n",
    "        - 3월 1일과 2일에 공통으로 수집된 시간이 0~12이므로\n",
    "        - 0~12시까지 시간대별 이용객을 추출해서 시계열 그래프로 표현"
   ]
  },
  {
   "cell_type": "markdown",
   "id": "8cbec869",
   "metadata": {},
   "source": [
    "**map()**함수로 우리가 원하는 부분만 추출 할 수 있다\n",
    "\n",
    "\n",
    "추출하는 함수\n",
    "```python\n",
    "lambda x: x.split(\",\")[2].split(\" \")[0]\n",
    "\n",
    "```\n",
    "아래와 같다\n",
    "\n",
    "```python]\n",
    "def f(x):\n",
    "    return x.split(\",\")[2].split(\" \")[0]\n",
    "```\n",
    "\n",
    "\n",
    "오리지널 데이터\n",
    "```\n",
    "HV0005,B02510,2020-03-01 00:03:40,2020-03-01 00:23:39,81,159,\n",
    "```\n",
    "\n",
    "x.split(\",\")\n",
    "```\n",
    "[HV0005,B02510,2020-03-01 00:03:40,2020-03-01 00:23:39,81,159,]\n",
    "```\n",
    "\n",
    "\n",
    "x.split(\",\")[2]\n",
    "```\n",
    "[2020-03-01 00:03:40]\n",
    "```\n",
    "\n",
    "\n",
    "x.split(\",\")[2].split(\" \")\n",
    "```\n",
    "[2020-03-01,00:03:40]\n",
    "```\n",
    "\n",
    "x.split(\",\")[2].split(\" \")[0]\n",
    "```\n",
    "2020-03-01\n",
    "```"
   ]
  },
  {
   "cell_type": "markdown",
   "id": "affe8e6e",
   "metadata": {},
   "source": [
    "## CountByValue"
   ]
  },
  {
   "cell_type": "code",
   "execution_count": 21,
   "id": "7b80be8f-84fb-4473-b0c1-2058c81b9932",
   "metadata": {},
   "outputs": [
    {
     "data": {
      "text/plain": [
       "PythonRDD[14] at RDD at PythonRDD.scala:53"
      ]
     },
     "execution_count": 21,
     "metadata": {},
     "output_type": "execute_result"
    }
   ],
   "source": [
    "filter_lines.map(lambda x : x.split(\",\")[2].split(\" \")[0])"
   ]
  },
  {
   "cell_type": "code",
   "execution_count": 22,
   "id": "4fb8291a",
   "metadata": {},
   "outputs": [
    {
     "data": {
      "text/plain": [
       "defaultdict(int,\n",
       "            {'2020-03-01': 780219, '2020-02-29': 5603, '2020-03-02': 262753})"
      ]
     },
     "execution_count": 22,
     "metadata": {},
     "output_type": "execute_result"
    }
   ],
   "source": [
    "datas = filter_lines.map(lambda x : x.split(\",\")[2].split(\" \")[0])\n",
    "\n",
    "result = datas.countByValue()\n",
    "result # 파이썬 자료구조"
   ]
  },
  {
   "cell_type": "markdown",
   "id": "d5865f09",
   "metadata": {},
   "source": [
    "값이 얼마나 등장하는지 세준다 \n",
    "\n",
    "예)\n",
    "```\n",
    "2020-03-01\n",
    "2020-03-01\n",
    "2020-03-01\n",
    "2020-03-02\n",
    "2020-03-02\n",
    "2020-03-03\n",
    "```\n",
    "countByValue()\n",
    "```\n",
    "(2020-03-01,3)\n",
    "(2020-03-02,2)\n",
    "(2020-03-03,1)\n",
    "```\n",
    "\n",
    "\n",
    "**result는 이제 더이상 RDD가 아닌 Python 객체**"
   ]
  },
  {
   "cell_type": "code",
   "execution_count": 24,
   "id": "66a34abb",
   "metadata": {},
   "outputs": [],
   "source": [
    "# 아래는 Spark코드가 아닌 일반적인 파이썬 코드\n",
    "# CSV로 결과값 저장 \n",
    "import pandas as pd\n",
    "\n",
    "# dict를 csv로 저장하기 위해서는 series로 구성해서 to_csv()\n",
    "pd.Series(result, name = \"trips\").to_csv(\"./data/rdd/trip_data.csv\")"
   ]
  },
  {
   "cell_type": "markdown",
   "id": "cd5c68ef-f00b-45e1-b52f-7433a54b38b1",
   "metadata": {},
   "source": [
    "### 현재 data는 2020-02-29 23:00 ~ 2020-03-02 12:00까지 데이터\n",
    "- 데이터 수집에서 편향이 심한 데이터이므로 비교 시각화가 무의미함\n",
    "- 연습용으로 그래프를 그려봄"
   ]
  },
  {
   "cell_type": "code",
   "execution_count": 26,
   "id": "fb2ccaf5",
   "metadata": {},
   "outputs": [
    {
     "data": {
      "text/plain": [
       "<Axes: >"
      ]
     },
     "execution_count": 26,
     "metadata": {},
     "output_type": "execute_result"
    },
    {
     "data": {
      "image/png": "[encoded data removed]",
      "text/plain": [
       "<Figure size 640x480 with 1 Axes>"
      ]
     },
     "metadata": {},
     "output_type": "display_data"
    }
   ],
   "source": [
    "import matplotlib.pyplot as plt\n",
    "%matplotlib inline  \n",
    "\n",
    "trips = pd.read_csv(\"./data/rdd/trip_data.csv\")\n",
    "trips.plot(kind=\"bar\")"
   ]
  },
  {
   "cell_type": "code",
   "execution_count": 22,
   "id": "1a5b5dcb",
   "metadata": {},
   "outputs": [
    {
     "data": {
      "text/html": [
       "<div>\n",
       "<style scoped>\n",
       "    .dataframe tbody tr th:only-of-type {\n",
       "        vertical-align: middle;\n",
       "    }\n",
       "\n",
       "    .dataframe tbody tr th {\n",
       "        vertical-align: top;\n",
       "    }\n",
       "\n",
       "    .dataframe thead th {\n",
       "        text-align: right;\n",
       "    }\n",
       "</style>\n",
       "<table border=\"1\" class=\"dataframe\">\n",
       "  <thead>\n",
       "    <tr style=\"text-align: right;\">\n",
       "      <th></th>\n",
       "      <th>Unnamed: 0</th>\n",
       "      <th>trips</th>\n",
       "    </tr>\n",
       "  </thead>\n",
       "  <tbody>\n",
       "    <tr>\n",
       "      <th>0</th>\n",
       "      <td>2020-03-01</td>\n",
       "      <td>780219</td>\n",
       "    </tr>\n",
       "    <tr>\n",
       "      <th>1</th>\n",
       "      <td>2020-02-29</td>\n",
       "      <td>5603</td>\n",
       "    </tr>\n",
       "    <tr>\n",
       "      <th>2</th>\n",
       "      <td>2020-03-02</td>\n",
       "      <td>262753</td>\n",
       "    </tr>\n",
       "  </tbody>\n",
       "</table>\n",
       "</div>"
      ],
      "text/plain": [
       "   Unnamed: 0   trips\n",
       "0  2020-03-01  780219\n",
       "1  2020-02-29    5603\n",
       "2  2020-03-02  262753"
      ]
     },
     "execution_count": 22,
     "metadata": {},
     "output_type": "execute_result"
    }
   ],
   "source": []
  },
  {
   "cell_type": "markdown",
   "id": "b8364899-6a63-4919-80f2-c9fc65032c11",
   "metadata": {},
   "source": [
    "### 시간대별 여행자 count\n",
    "- data가 2020-02-29일 23시 이후부터 2020-03-02 12:00 까지 데이터 이므로\n",
    "    - 0시부터 12시까지의 data만 활용해 3월1일과 3월 2일 오전 이용객에 대해 시간대별 비교 시각화를 진행"
   ]
  },
  {
   "cell_type": "code",
   "execution_count": 31,
   "id": "306143b8-6f89-4e7d-ab2a-2b9a421f1b3a",
   "metadata": {},
   "outputs": [
    {
     "name": "stderr",
     "output_type": "stream",
     "text": [
      "                                                                                "
     ]
    },
    {
     "data": {
      "text/plain": [
       "0     67234\n",
       "23    29809\n",
       "16    40599\n",
       "1     49807\n",
       "2     36315\n",
       "dtype: int64"
      ]
     },
     "execution_count": 31,
     "metadata": {},
     "output_type": "execute_result"
    }
   ],
   "source": [
    "times = filter_lines.map(lambda x : x.split(\",\")[2].split(\" \")[1].split(\":\")[0])\n",
    "# times.collect()\n",
    "\n",
    "# 시간대별 이용객 집계\n",
    "res_time = times.countByValue()\n",
    "# res_time\n",
    "\n",
    "# dict를 시리즈로 변환한 후\n",
    "tmp_time = pd.Series(res_time)\n",
    "# tmp_time\n",
    "tmp_time.index = [int(idx) for idx in tmp_time.index.values]\n",
    "tmp_time.head() # 수치형 인덱스"
   ]
  },
  {
   "cell_type": "code",
   "execution_count": 35,
   "id": "da927f8a-6bc4-4ad4-8fd5-fcbeda99da76",
   "metadata": {},
   "outputs": [],
   "source": [
    "# 시간대별 흐름 확인을 위해 index 기준으로 정렬\n",
    "tmp_time = tmp_time.sort_index()"
   ]
  },
  {
   "cell_type": "code",
   "execution_count": 36,
   "id": "7d89e88e-2d10-4f53-a098-21577b28c086",
   "metadata": {},
   "outputs": [
    {
     "data": {
      "text/plain": [
       "0     67234\n",
       "1     49807\n",
       "2     36315\n",
       "3     28311\n",
       "4     23972\n",
       "5     25142\n",
       "6     37490\n",
       "7     55134\n",
       "8     65410\n",
       "9     63140\n",
       "10    63445\n",
       "11    63164\n",
       "12    47753\n",
       "dtype: int64"
      ]
     },
     "execution_count": 36,
     "metadata": {},
     "output_type": "execute_result"
    }
   ],
   "source": [
    "finTime = tmp_time[0:13]\n",
    "finTime"
   ]
  },
  {
   "cell_type": "code",
   "execution_count": 37,
   "id": "4533cb22-4cef-4674-99f1-0829f3d00ebe",
   "metadata": {},
   "outputs": [
    {
     "data": {
      "text/plain": [
       "[<matplotlib.lines.Line2D at 0x7fa7e8ccd9f0>]"
      ]
     },
     "execution_count": 37,
     "metadata": {},
     "output_type": "execute_result"
    },
    {
     "data": {
      "image/png": "[encoded data removed]",
      "text/plain": [
       "<Figure size 640x480 with 1 Axes>"
      ]
     },
     "metadata": {},
     "output_type": "display_data"
    }
   ],
   "source": [
    "from matplotlib import pyplot as plt\n",
    "plt.plot(finTime)"
   ]
  }
 ],
 "metadata": {
  "kernelspec": {
   "display_name": "Python 3 (ipykernel)",
   "language": "python",
   "name": "python3"
  },
  "language_info": {
   "codemirror_mode": {
    "name": "ipython",
    "version": 3
   },
   "file_extension": ".py",
   "mimetype": "text/x-python",
   "name": "python",
   "nbconvert_exporter": "python",
   "pygments_lexer": "ipython3",
   "version": "3.10.12"
  }
 },
 "nbformat": 4,
 "nbformat_minor": 5
}
