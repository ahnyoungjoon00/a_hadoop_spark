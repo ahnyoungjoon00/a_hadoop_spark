{
 "cells": [
  {
   "cell_type": "code",
   "execution_count": 1,
   "id": "ffee0de2",
   "metadata": {},
   "outputs": [],
   "source": [
    "from IPython.core.interactiveshell import InteractiveShell\n",
    "InteractiveShell.ast_node_interactivity = \"all\""
   ]
  },
  {
   "cell_type": "code",
   "execution_count": 2,
   "id": "f95e956f",
   "metadata": {},
   "outputs": [],
   "source": [
    "# matplotlib 한글 꺠짐 방지\n",
    "# apt-get update\n",
    "# apt-get install fonts-nanum* \n",
    "# apt-get install fontconfig\n",
    "# fc-cache -fv  # font 캐시 날리기\n",
    "# rm -rf /home/hy1/.cache/matplotlib/  #matplotliob 폰트 캐시 날리기\n"
   ]
  },
  {
   "cell_type": "code",
   "execution_count": 3,
   "id": "913eefb5",
   "metadata": {},
   "outputs": [],
   "source": [
    "from datetime import date, datetime\n",
    "from pyspark.sql.types import *\n",
    "from pyspark.sql.functions import *\n",
    "import datetime as dt\n",
    "import pandas as pd\n",
    "import matplotlib.pyplot as plt #그래프 패키지 모듈 등록\n",
    "%matplotlib inline \n"
   ]
  },
  {
   "cell_type": "markdown",
   "id": "80bd1407-2482-41a3-940a-15f6b34e72c6",
   "metadata": {},
   "source": [
    "#### DW hdfs에서 파일 읽어와서 transform 진행\n",
    "- hdfs InsecureClient 객체 생성\n",
    "- http://localhost:9870 -> namenode url\n",
    "- user = hadoop user (hadoop 설치시 root를 hadoop user로 등록했었음)"
   ]
  },
  {
   "cell_type": "code",
   "execution_count": 4,
   "id": "1a967a63-da1e-4813-a114-42decbb6c43a",
   "metadata": {},
   "outputs": [],
   "source": [
    "from hdfs import InsecureClient\n",
    "client = InsecureClient('http://localhost:9870', user='root')"
   ]
  },
  {
   "cell_type": "code",
   "execution_count": 5,
   "id": "a4af10ef",
   "metadata": {},
   "outputs": [],
   "source": [
    "import platform\n",
    "\n",
    "from matplotlib import font_manager, rc\n",
    "plt.rcParams['axes.unicode_minus'] = False\n",
    "\n",
    "if platform.system() == 'Darwin':  # 맥OS \n",
    "    rc('font', family='AppleGothic')\n",
    "elif platform.system() == 'Windows':  # 윈도우\n",
    "    path = \"c:/Windows/Fonts/malgun.ttf\"\n",
    "    font_name = font_manager.FontProperties(fname=path).get_name()\n",
    "    rc('font', family=font_name)\n",
    "else:\n",
    "    rc('font', family='NanumGothic')"
   ]
  },
  {
   "cell_type": "markdown",
   "id": "7e8685f5",
   "metadata": {},
   "source": [
    "## Transform\n",
    "- 지역(광역시도)별 단위 면적당 인구수\n",
    "- 지역별 단위면적당 인구수와 코로나 확진자수\n",
    "- 지역별 단위면적당 인구수와 코로나 확진자수, 지역별 백신접종률\n",
    "- 지역별 공공시설과 코로나 확진자수\n",
    "- transform 데이터 활용한 그래프 시각화"
   ]
  },
  {
   "cell_type": "code",
   "execution_count": 6,
   "id": "7ce1327d-e48d-49e7-ab0b-842d763a8bde",
   "metadata": {},
   "outputs": [],
   "source": [
    "def cal_std_day(befor_day):\n",
    "    x = dt.datetime.now() - dt.timedelta(befor_day)\n",
    "    year = x.year\n",
    "    month = x.month if x.month >= 10 else '0'+ str(x.month)\n",
    "    day = x.day if x.day >= 10 else '0' + str(x.day)\n",
    "    return str(year) + '-' + str(month) + '-' + str(day)"
   ]
  },
  {
   "cell_type": "markdown",
   "id": "4c4fb00f-51d1-4457-8013-e6346f683573",
   "metadata": {},
   "source": [
    "1. 지역(광역시도)뼐 단위면적당 인구수\n",
    "- 지역별 인구 데이터\n",
    "- 지역별 면적 데이터\n",
    "- /corona_data/tmp"
   ]
  },
  {
   "cell_type": "code",
   "execution_count": 7,
   "id": "36946f78-6b6c-45a1-8560-f84f0e05d7cb",
   "metadata": {},
   "outputs": [
    {
     "name": "stdout",
     "output_type": "stream",
     "text": [
      "+----+------+-----+\n",
      "| loc|  area|ratio|\n",
      "+----+------+-----+\n",
      "|서울|  605 |  0.6|\n",
      "|부산|  770 |  0.8|\n",
      "|대구|  883 |  0.9|\n",
      "|인천| 1065 |  1.1|\n",
      "|광주|  501 |  0.5|\n",
      "|대전|  540 |  0.5|\n",
      "|울산| 1062 |  1.1|\n",
      "|세종|  465 |  0.5|\n",
      "|경기|10195 | 10.2|\n",
      "|강원|16830 | 16.8|\n",
      "|충북| 7407 |  7.4|\n",
      "|충남| 8246 |  8.2|\n",
      "|전북| 8070 |  8.0|\n",
      "|전남|12348 | 12.3|\n",
      "|경북|19034 | 19.0|\n",
      "|경남|10541 | 10.5|\n",
      "|제주| 1850 |  1.8|\n",
      "+----+------+-----+\n",
      "\n"
     ]
    }
   ],
   "source": [
    "# 지역 면적 데이터 읽어오기\n",
    "# 파일 encoding = CP949\n",
    "area = spark.read.csv(\"/corona_data/tmp/corona_data/sido_area.csv\", encoding=\"CP949\", header = True)\n",
    "area.show()"
   ]
  },
  {
   "cell_type": "code",
   "execution_count": 8,
   "id": "a8a3087c-5515-4f81-beb3-fcdf67673436",
   "metadata": {},
   "outputs": [
    {
     "name": "stdout",
     "output_type": "stream",
     "text": [
      "+----+---------+---------+---------+\n",
      "| loc|    total|     male|   female|\n",
      "+----+---------+---------+---------+\n",
      "|전국|52739009 |26360035 |26378974 |\n",
      "|서울| 9736027 | 4721977 | 5014050 |\n",
      "|부산| 3396109 | 1663619 | 1732490 |\n",
      "|대구| 2412642 | 1189901 | 1222741 |\n",
      "|인천| 3014739 | 1513277 | 1501462 |\n",
      "|광주| 1462545 |  724178 |  738367 |\n",
      "|대전| 1469543 |  732593 |  736950 |\n",
      "|울산| 1138419 |  586031 |  552388 |\n",
      "|세종|  376779 |  188619 |  188160 |\n",
      "|경기|13925862 | 7038296 | 6887566 |\n",
      "|강원| 1555876 |  783743 |  772133 |\n",
      "|충북| 1633472 |  832743 |  800729 |\n",
      "|충남| 2181835 | 1120429 | 1061406 |\n",
      "|전북| 1817186 |  905672 |  911514 |\n",
      "|전남| 1865459 |  943018 |  922441 |\n",
      "|경북| 2677709 | 1355128 | 1322581 |\n",
      "|경남| 3377331 | 1709989 | 1667342 |\n",
      "|제주|  697476 |  350822 |  346654 |\n",
      "+----+---------+---------+---------+\n",
      "\n"
     ]
    }
   ],
   "source": [
    "# 지역별 인구 데이터\n",
    "# 파일 encoding = CP949\n",
    "popu = spark.read.csv(\"/corona_data/tmp/sido_population.csv\", encoding=\"CP949\", header = True)\n",
    "popu.show()"
   ]
  },
  {
   "cell_type": "markdown",
   "id": "0d84b88d-15e3-497e-afae-b98263384ffc",
   "metadata": {},
   "source": [
    "#### 지역별 단위 면적과 인구수\n",
    "- 면적과 인구 관련 data는 자주 변하지 않는 data\n",
    "    - 면적은 거의 불변/인구 통계 시점 :3~4년\n",
    "    - 자동화에서 제외\n",
    "    - dm db에 테이블로 저장"
   ]
  },
  {
   "cell_type": "code",
   "execution_count": 9,
   "id": "08d1b00b-20bb-430d-9d2f-f8941b4f26c5",
   "metadata": {},
   "outputs": [
    {
     "name": "stdout",
     "output_type": "stream",
     "text": [
      "+----+------+-----+---------+--------+--------+\n",
      "| loc|  area|ratio|    total|    male|  female|\n",
      "+----+------+-----+---------+--------+--------+\n",
      "|서울|  605 |  0.6| 9736027 |4721977 |5014050 |\n",
      "|부산|  770 |  0.8| 3396109 |1663619 |1732490 |\n",
      "|대구|  883 |  0.9| 2412642 |1189901 |1222741 |\n",
      "|인천| 1065 |  1.1| 3014739 |1513277 |1501462 |\n",
      "|광주|  501 |  0.5| 1462545 | 724178 | 738367 |\n",
      "|대전|  540 |  0.5| 1469543 | 732593 | 736950 |\n",
      "|울산| 1062 |  1.1| 1138419 | 586031 | 552388 |\n",
      "|세종|  465 |  0.5|  376779 | 188619 | 188160 |\n",
      "|경기|10195 | 10.2|13925862 |7038296 |6887566 |\n",
      "|강원|16830 | 16.8| 1555876 | 783743 | 772133 |\n",
      "|충북| 7407 |  7.4| 1633472 | 832743 | 800729 |\n",
      "|충남| 8246 |  8.2| 2181835 |1120429 |1061406 |\n",
      "|전북| 8070 |  8.0| 1817186 | 905672 | 911514 |\n",
      "|전남|12348 | 12.3| 1865459 | 943018 | 922441 |\n",
      "|경북|19034 | 19.0| 2677709 |1355128 |1322581 |\n",
      "|경남|10541 | 10.5| 3377331 |1709989 |1667342 |\n",
      "|제주| 1850 |  1.8|  697476 | 350822 | 346654 |\n",
      "+----+------+-----+---------+--------+--------+\n",
      "\n"
     ]
    }
   ],
   "source": [
    "# 면적 data와 인구 data를 loc 기준으로 join 후 가공 data를 생성\n",
    "# inner join : 양쪽 df에 모두 존재하는 key에 대해서만\n",
    "area_pop = area.join(popu, on=\"loc\")\n",
    "area_pop.show()"
   ]
  },
  {
   "cell_type": "code",
   "execution_count": 10,
   "id": "cd2dfeb0-0879-490d-ae43-20d52fc1f5e3",
   "metadata": {},
   "outputs": [],
   "source": [
    "area_popV1 = area_pop.select(area_pop.loc,\n",
    "                          (area_pop.total/area_pop.area).alias(\"popu_density\"))\n",
    "area_popV1 = area_pop.select(area_pop.loc,\n",
    "                          (ceil(area_pop.total/area_pop.area)).alias(\"popu_density\"))\n",
    "# area_popV1.show()"
   ]
  },
  {
   "cell_type": "markdown",
   "id": "f76f97dc-46de-4750-a2af-5edbcaece8de",
   "metadata": {},
   "source": [
    "### 지역별 코로나 환자 데이터와 지역/인구 데이터와의 관계\n",
    "- 지역별 누적 발생 현황 :defCnt\n",
    "- 지역별 인구 10만명당 발생율 : qurRate"
   ]
  },
  {
   "cell_type": "code",
   "execution_count": 11,
   "id": "e2d88b66-fcaf-4860-9169-49ade3ae555b",
   "metadata": {},
   "outputs": [
    {
     "data": {
      "text/plain": [
       "'2022-01-18'"
      ]
     },
     "execution_count": 11,
     "metadata": {},
     "output_type": "execute_result"
    }
   ],
   "source": [
    "# 특정일까지의 누적데이터를 활용해서 지역/인구 데이터와의 관계\n",
    "cal_std_day(365*3+3)"
   ]
  },
  {
   "cell_type": "code",
   "execution_count": 12,
   "id": "3d3bb5cf-175d-4741-86e8-ce413193b61a",
   "metadata": {},
   "outputs": [
    {
     "name": "stdout",
     "output_type": "stream",
     "text": [
      "+----------------------+---------+------+----------+--------------+----------+\n",
      "|                 items|numOfRows|pageNo|resultCode|     resultMsg|totalCount|\n",
      "+----------------------+---------+------+----------+--------------+----------+\n",
      "|[{326, 40625, 인천,...|      500|     1|        00|NORMAL SERVICE|        19|\n",
      "+----------------------+---------+------+----------+--------------+----------+\n",
      "\n"
     ]
    }
   ],
   "source": [
    "# api data --> hdfs 저장 --> spark.read.json\n",
    "file_dir = \"hdfs://localhost:9000/corona_data/patient/\"\n",
    "file_name = \"corona_patient_\"+cal_std_day(365*3+3)+\".json\"\n",
    "fname = file_dir + file_name\n",
    "tmpAPI = spark.read.json(fname, encoding=\"UTF-8\")\n",
    "tmpAPI.show()\n",
    "\n",
    "# json 파일을 spark.df로 읽어옴\n",
    "# 최상위 level key df의 컬럼으로 구성됨\n",
    "# 1행만 갖고 있는 df\n",
    "# 실제로 사용할 data는 items 컬럼에 list type으로 읽어왓음"
   ]
  },
  {
   "cell_type": "code",
   "execution_count": 13,
   "id": "b586f342-fb33-48cf-86da-1ae94691e06c",
   "metadata": {},
   "outputs": [],
   "source": [
    "# items 가 필요하고 1개의 행으로만 되어 있으므로, first()반환값이 있음\n",
    "tmpFin = tmpAPI.select(\"items\").first()\n",
    "# tmp_fin\n",
    "# spark.sql.df\n",
    "coPatient = spark.createDataFrame(tmpFin[\"items\"])"
   ]
  },
  {
   "cell_type": "code",
   "execution_count": 14,
   "id": "4338ff0b-0b4e-4fe4-9953-7b678da48f2a",
   "metadata": {},
   "outputs": [
    {
     "name": "stdout",
     "output_type": "stream",
     "text": [
      "+--------+------+-----+-------+-----------------+------+------------+----------+-----------+-----------+-------+----------+\n",
      "|deathCnt|defCnt|gubun|gubunCn|          gubunEn|incDec|isolClearCnt|isolIngCnt|localOccCnt|overFlowCnt|qurRate|    stdDay|\n",
      "+--------+------+-----+-------+-----------------+------+------------+----------+-----------+-----------+-------+----------+\n",
      "|     326| 40625| 인천|   仁川|          Incheon|   196|       35422|         0|        177|         19|   1378|2022-01-18|\n",
      "|     123| 12555| 충북|   忠北|Chungcheongbuk-do|    59|       11766|         0|         55|          4|    786|2022-01-18|\n",
      "|     110| 13838| 강원|   江原|       Gangwon-do|    94|       12657|         0|         94|          0|    899|2022-01-18|\n",
      "|     344| 28102| 부산|   釜山|            Busan|   114|       25796|         0|        102|         12|    839|2022-01-18|\n",
      "|      65|  7459| 울산|   蔚山|            Ulsan|    35|        7107|         0|         33|          2|    665|2022-01-18|\n",
      "|      60| 10475| 광주|   光州|          Gwangju|   184|        8523|         0|        174|         10|    727|2022-01-18|\n",
      "|    6378|700102| 합계|   合计|            Total|  4072|      585673|         0|       3763|        309|   1356|2022-01-18|\n",
      "|       4|  2388| 세종|   世宗|           Sejong|    23|        2242|         0|         21|          2|    642|2022-01-18|\n",
      "|      16|  7960| 검역| 隔離區|        Lazaretto|    77|        6734|         0|          0|         77|      -|2022-01-18|\n",
      "|     385| 25155| 대구|   大邱|            Daegu|   171|       23380|         0|        162|          9|   1055|2022-01-18|\n",
      "|     189| 16962| 경북|   庆北| Gyeongsangbuk-do|   138|       15281|         0|        129|          9|    646|2022-01-18|\n",
      "|     114| 22778| 경남|   庆南| Gyeongsangnam-do|   142|       21299|         0|        134|          8|    687|2022-01-18|\n",
      "|    2063|243337| 서울|   首尔|            Seoul|   763|      198148|         0|        684|         79|   2559|2022-01-18|\n",
      "|      45|  7935| 전남|   全南|     Jeollanam-do|   139|        5885|         0|        138|          1|    433|2022-01-18|\n",
      "|      13|  4900| 제주|   济州|             Jeju|     3|        4792|         0|          2|          1|    724|2022-01-18|\n",
      "|    2036|210984| 경기|   京畿|      Gyeonggi-do|  1530|      167373|         0|       1470|         60|   1555|2022-01-18|\n",
      "|     121| 11245| 전북|   全北|     Jeollabuk-do|   151|       10086|         0|        147|          4|    629|2022-01-18|\n",
      "|     177| 20142| 충남|   忠南|Chungcheongnam-do|   145|       17373|         0|        140|          5|    950|2022-01-18|\n",
      "|     187| 13262| 대전|   大田|          Daejeon|   108|       11809|         0|        101|          7|    913|2022-01-18|\n",
      "+--------+------+-----+-------+-----------------+------+------------+----------+-----------+-----------+-------+----------+\n",
      "\n"
     ]
    }
   ],
   "source": [
    "coPatient.show()"
   ]
  },
  {
   "cell_type": "markdown",
   "id": "4e9eab45-4b1c-4dbe-ab61-a11e4d818e07",
   "metadata": {},
   "source": [
    "- 일간 수집해야하는 data\n",
    "- 최종 부서에서 사용할 data DW -> DM까지 저장되어야하는 data\n",
    "    - 사용 결정 컬럼만 추출해서 DM DB에 저장\n",
    "    - 운영DB에는 다른 data와 연결 가공해서 저장"
   ]
  },
  {
   "cell_type": "code",
   "execution_count": 15,
   "id": "227b366e-5b31-4614-ad1b-a1ee402b9e7c",
   "metadata": {},
   "outputs": [
    {
     "name": "stdout",
     "output_type": "stream",
     "text": [
      "+----+------+-------+\n",
      "| loc|defCnt|qurRate|\n",
      "+----+------+-------+\n",
      "|인천| 40625|   1378|\n",
      "|충북| 12555|    786|\n",
      "|강원| 13838|    899|\n",
      "|부산| 28102|    839|\n",
      "|울산|  7459|    665|\n",
      "|광주| 10475|    727|\n",
      "|합계|700102|   1356|\n",
      "|세종|  2388|    642|\n",
      "|검역|  7960|      -|\n",
      "|대구| 25155|   1055|\n",
      "|경북| 16962|    646|\n",
      "|경남| 22778|    687|\n",
      "|서울|243337|   2559|\n",
      "|전남|  7935|    433|\n",
      "|제주|  4900|    724|\n",
      "|경기|210984|   1555|\n",
      "|전북| 11245|    629|\n",
      "|충남| 20142|    950|\n",
      "|대전| 13262|    913|\n",
      "+----+------+-------+\n",
      "\n"
     ]
    }
   ],
   "source": [
    "coDMFin = coPatient.select((coPatient.gubun).alias(\"loc\"), \n",
    "                           coPatient.defCnt,\n",
    "                           coPatient.qurRate)\n",
    "coDMFin.show()"
   ]
  },
  {
   "cell_type": "markdown",
   "id": "eca469e0-f0be-4f62-b55b-0350738b3032",
   "metadata": {},
   "source": [
    "- 인구 면적 데이터와 발생현황 관계 data\n",
    "    - 인구 면적 데이터에 검역과 합계 data는 없음\n",
    "    - 검역과 합계는 처리되어야함"
   ]
  },
  {
   "cell_type": "code",
   "execution_count": 16,
   "id": "3ca33b77-7b7d-4e31-b640-211028d7d939",
   "metadata": {},
   "outputs": [
    {
     "name": "stdout",
     "output_type": "stream",
     "text": [
      "+----+------------+------+-------+\n",
      "| loc|popu_density|defCnt|qurRate|\n",
      "+----+------------+------+-------+\n",
      "|강원|          93| 13838|    899|\n",
      "|경기|        1366|210984|   1555|\n",
      "|경남|         321| 22778|    687|\n",
      "|경북|         141| 16962|    646|\n",
      "|광주|        2920| 10475|    727|\n",
      "|대구|        2733| 25155|   1055|\n",
      "|대전|        2722| 13262|    913|\n",
      "|부산|        4411| 28102|    839|\n",
      "|서울|       16093|243337|   2559|\n",
      "|세종|         811|  2388|    642|\n",
      "|울산|        1072|  7459|    665|\n",
      "|인천|        2831| 40625|   1378|\n",
      "|전남|         152|  7935|    433|\n",
      "|전북|         226| 11245|    629|\n",
      "|제주|         378|  4900|    724|\n",
      "|충남|         265| 20142|    950|\n",
      "|충북|         221| 12555|    786|\n",
      "+----+------------+------+-------+\n",
      "\n"
     ]
    }
   ],
   "source": [
    "# area_pop : 인구면적\n",
    "# coDMFin : 2022-1-18 기준 누적 발생현황\n",
    "coRate = area_popV1.join(coDMFin, on = \"loc\").orderBy(col(\"loc\"))\n",
    "coRate.show()"
   ]
  },
  {
   "cell_type": "code",
   "execution_count": 17,
   "id": "44021ac6-3788-455f-a9b6-992a725853d1",
   "metadata": {},
   "outputs": [
    {
     "name": "stdout",
     "output_type": "stream",
     "text": [
      "root\n",
      " |-- loc: string (nullable = true)\n",
      " |-- popu_density: long (nullable = true)\n",
      " |-- defCnt: string (nullable = true)\n",
      " |-- qurRate: string (nullable = true)\n",
      "\n"
     ]
    }
   ],
   "source": [
    "# 위 df를 활용해서 그래프 생성\n",
    "# coRate DF는 spark.sql.df --> pandas df로 변경해서 graph 생성\n",
    "coRate.printSchema()"
   ]
  },
  {
   "cell_type": "code",
   "execution_count": 18,
   "id": "ad731bd9-12c6-462d-88b5-cf49a8c39bbc",
   "metadata": {},
   "outputs": [
    {
     "name": "stdout",
     "output_type": "stream",
     "text": [
      "<class 'pandas.core.frame.DataFrame'>\n",
      "RangeIndex: 17 entries, 0 to 16\n",
      "Data columns (total 4 columns):\n",
      " #   Column        Non-Null Count  Dtype \n",
      "---  ------        --------------  ----- \n",
      " 0   loc           17 non-null     object\n",
      " 1   popu_density  17 non-null     int64 \n",
      " 2   defCnt        17 non-null     object\n",
      " 3   qurRate       17 non-null     object\n",
      "dtypes: int64(1), object(3)\n",
      "memory usage: 672.0+ bytes\n"
     ]
    },
    {
     "name": "stderr",
     "output_type": "stream",
     "text": [
      "                                                                                "
     ]
    }
   ],
   "source": [
    "pdCoRate = coRate.toPandas()\n",
    "pdCoRate.info()"
   ]
  },
  {
   "cell_type": "code",
   "execution_count": 19,
   "id": "b9f28da5-2bae-4b95-8f99-21cb25e4ba54",
   "metadata": {},
   "outputs": [
    {
     "name": "stdout",
     "output_type": "stream",
     "text": [
      "<class 'pandas.core.frame.DataFrame'>\n",
      "RangeIndex: 17 entries, 0 to 16\n",
      "Data columns (total 4 columns):\n",
      " #   Column        Non-Null Count  Dtype \n",
      "---  ------        --------------  ----- \n",
      " 0   loc           17 non-null     object\n",
      " 1   popu_density  17 non-null     int64 \n",
      " 2   defCnt        17 non-null     int64 \n",
      " 3   qurRate       17 non-null     int64 \n",
      "dtypes: int64(3), object(1)\n",
      "memory usage: 672.0+ bytes\n"
     ]
    }
   ],
   "source": [
    "pdCoRate[\"defCnt\"] = pdCoRate[\"defCnt\"].astype(int)\n",
    "pdCoRate[\"qurRate\"] = pdCoRate[\"qurRate\"].astype(int)\n",
    "pdCoRate.info()"
   ]
  },
  {
   "cell_type": "code",
   "execution_count": 20,
   "id": "60498f94-08ca-446b-afe0-826ad8357ee6",
   "metadata": {},
   "outputs": [
    {
     "data": {
      "text/html": [
       "<div>\n",
       "<style scoped>\n",
       "    .dataframe tbody tr th:only-of-type {\n",
       "        vertical-align: middle;\n",
       "    }\n",
       "\n",
       "    .dataframe tbody tr th {\n",
       "        vertical-align: top;\n",
       "    }\n",
       "\n",
       "    .dataframe thead th {\n",
       "        text-align: right;\n",
       "    }\n",
       "</style>\n",
       "<table border=\"1\" class=\"dataframe\">\n",
       "  <thead>\n",
       "    <tr style=\"text-align: right;\">\n",
       "      <th></th>\n",
       "      <th>loc</th>\n",
       "      <th>popu_density</th>\n",
       "      <th>defCnt</th>\n",
       "      <th>qurRate</th>\n",
       "    </tr>\n",
       "  </thead>\n",
       "  <tbody>\n",
       "    <tr>\n",
       "      <th>0</th>\n",
       "      <td>강원</td>\n",
       "      <td>93</td>\n",
       "      <td>13838</td>\n",
       "      <td>899</td>\n",
       "    </tr>\n",
       "    <tr>\n",
       "      <th>1</th>\n",
       "      <td>경기</td>\n",
       "      <td>1366</td>\n",
       "      <td>210984</td>\n",
       "      <td>1555</td>\n",
       "    </tr>\n",
       "    <tr>\n",
       "      <th>2</th>\n",
       "      <td>경남</td>\n",
       "      <td>321</td>\n",
       "      <td>22778</td>\n",
       "      <td>687</td>\n",
       "    </tr>\n",
       "    <tr>\n",
       "      <th>3</th>\n",
       "      <td>경북</td>\n",
       "      <td>141</td>\n",
       "      <td>16962</td>\n",
       "      <td>646</td>\n",
       "    </tr>\n",
       "    <tr>\n",
       "      <th>4</th>\n",
       "      <td>광주</td>\n",
       "      <td>2920</td>\n",
       "      <td>10475</td>\n",
       "      <td>727</td>\n",
       "    </tr>\n",
       "  </tbody>\n",
       "</table>\n",
       "</div>"
      ],
      "text/plain": [
       "  loc  popu_density  defCnt  qurRate\n",
       "0  강원            93   13838      899\n",
       "1  경기          1366  210984     1555\n",
       "2  경남           321   22778      687\n",
       "3  경북           141   16962      646\n",
       "4  광주          2920   10475      727"
      ]
     },
     "execution_count": 20,
     "metadata": {},
     "output_type": "execute_result"
    }
   ],
   "source": [
    "pdCoRate.head()"
   ]
  },
  {
   "cell_type": "code",
   "execution_count": 21,
   "id": "d3a3365b-c822-4cd3-bb5f-49e0346b4eb0",
   "metadata": {},
   "outputs": [
    {
     "data": {
      "text/plain": [
       "<Axes: xlabel='popu_density', ylabel='qurRate'>"
      ]
     },
     "execution_count": 21,
     "metadata": {},
     "output_type": "execute_result"
    },
    {
     "name": "stderr",
     "output_type": "stream",
     "text": [
      "findfont: Font family 'NanumGothic' not found.\n",
      "findfont: Font family 'NanumGothic' not found.\n",
      "findfont: Font family 'NanumGothic' not found.\n",
      "findfont: Font family 'NanumGothic' not found.\n",
      "findfont: Font family 'NanumGothic' not found.\n",
      "findfont: Font family 'NanumGothic' not found.\n",
      "findfont: Font family 'NanumGothic' not found.\n",
      "findfont: Font family 'NanumGothic' not found.\n",
      "findfont: Font family 'NanumGothic' not found.\n",
      "findfont: Font family 'NanumGothic' not found.\n",
      "findfont: Font family 'NanumGothic' not found.\n",
      "findfont: Font family 'NanumGothic' not found.\n",
      "findfont: Font family 'NanumGothic' not found.\n",
      "findfont: Font family 'NanumGothic' not found.\n",
      "findfont: Font family 'NanumGothic' not found.\n",
      "findfont: Font family 'NanumGothic' not found.\n",
      "findfont: Font family 'NanumGothic' not found.\n",
      "findfont: Font family 'NanumGothic' not found.\n",
      "findfont: Font family 'NanumGothic' not found.\n",
      "findfont: Font family 'NanumGothic' not found.\n",
      "findfont: Font family 'NanumGothic' not found.\n",
      "findfont: Font family 'NanumGothic' not found.\n",
      "findfont: Font family 'NanumGothic' not found.\n",
      "findfont: Font family 'NanumGothic' not found.\n",
      "findfont: Font family 'NanumGothic' not found.\n",
      "findfont: Font family 'NanumGothic' not found.\n",
      "findfont: Font family 'NanumGothic' not found.\n",
      "findfont: Font family 'NanumGothic' not found.\n",
      "findfont: Font family 'NanumGothic' not found.\n",
      "findfont: Font family 'NanumGothic' not found.\n",
      "findfont: Font family 'NanumGothic' not found.\n",
      "findfont: Font family 'NanumGothic' not found.\n",
      "findfont: Font family 'NanumGothic' not found.\n",
      "findfont: Font family 'NanumGothic' not found.\n",
      "findfont: Font family 'NanumGothic' not found.\n",
      "findfont: Font family 'NanumGothic' not found.\n",
      "findfont: Font family 'NanumGothic' not found.\n",
      "findfont: Font family 'NanumGothic' not found.\n",
      "findfont: Font family 'NanumGothic' not found.\n",
      "findfont: Font family 'NanumGothic' not found.\n",
      "findfont: Font family 'NanumGothic' not found.\n",
      "findfont: Font family 'NanumGothic' not found.\n",
      "findfont: Font family 'NanumGothic' not found.\n",
      "findfont: Font family 'NanumGothic' not found.\n",
      "findfont: Font family 'NanumGothic' not found.\n",
      "findfont: Font family 'NanumGothic' not found.\n",
      "findfont: Font family 'NanumGothic' not found.\n",
      "findfont: Font family 'NanumGothic' not found.\n",
      "findfont: Font family 'NanumGothic' not found.\n",
      "findfont: Font family 'NanumGothic' not found.\n",
      "findfont: Font family 'NanumGothic' not found.\n",
      "findfont: Font family 'NanumGothic' not found.\n",
      "findfont: Font family 'NanumGothic' not found.\n",
      "findfont: Font family 'NanumGothic' not found.\n",
      "findfont: Font family 'NanumGothic' not found.\n",
      "findfont: Font family 'NanumGothic' not found.\n",
      "findfont: Font family 'NanumGothic' not found.\n",
      "findfont: Font family 'NanumGothic' not found.\n",
      "findfont: Font family 'NanumGothic' not found.\n",
      "findfont: Font family 'NanumGothic' not found.\n",
      "findfont: Font family 'NanumGothic' not found.\n",
      "findfont: Font family 'NanumGothic' not found.\n",
      "findfont: Font family 'NanumGothic' not found.\n",
      "findfont: Font family 'NanumGothic' not found.\n",
      "findfont: Font family 'NanumGothic' not found.\n",
      "findfont: Font family 'NanumGothic' not found.\n",
      "findfont: Font family 'NanumGothic' not found.\n",
      "findfont: Font family 'NanumGothic' not found.\n",
      "findfont: Font family 'NanumGothic' not found.\n",
      "findfont: Font family 'NanumGothic' not found.\n",
      "findfont: Font family 'NanumGothic' not found.\n",
      "findfont: Font family 'NanumGothic' not found.\n",
      "findfont: Font family 'NanumGothic' not found.\n",
      "findfont: Font family 'NanumGothic' not found.\n",
      "findfont: Font family 'NanumGothic' not found.\n",
      "findfont: Font family 'NanumGothic' not found.\n"
     ]
    },
    {
     "data": {
      "image/png": "[encoded data removed]",
      "text/plain": [
       "<Figure size 600x600 with 1 Axes>"
      ]
     },
     "metadata": {},
     "output_type": "display_data"
    }
   ],
   "source": [
    "pdCoRate.plot(kind = \"scatter\",\n",
    "              x = \"popu_density\",\n",
    "              y = \"qurRate\",\n",
    "              # xlim=(0, 8000),\n",
    "              ylim=(600, 2500),\n",
    "              figsize = (6, 6))"
   ]
  },
  {
   "cell_type": "markdown",
   "id": "f1518aa4-e988-4000-8dad-909910e99ae6",
   "metadata": {},
   "source": [
    "#### 백신 접종 현황 데이터\n",
    "- 지역별 3차 접종 현황 데이터와 인구대비 접종율 데이터\n",
    "    - DM DB에 저장"
   ]
  },
  {
   "cell_type": "code",
   "execution_count": 29,
   "id": "b7f5ed9e-cab9-4b14-a155-45487396cf42",
   "metadata": {},
   "outputs": [
    {
     "name": "stdout",
     "output_type": "stream",
     "text": [
      "+----+---------+---------+---------+\n",
      "| loc|    total|     male|   female|\n",
      "+----+---------+---------+---------+\n",
      "|전국|52739009 |26360035 |26378974 |\n",
      "|서울| 9736027 | 4721977 | 5014050 |\n",
      "|부산| 3396109 | 1663619 | 1732490 |\n",
      "|대구| 2412642 | 1189901 | 1222741 |\n",
      "|인천| 3014739 | 1513277 | 1501462 |\n",
      "|광주| 1462545 |  724178 |  738367 |\n",
      "|대전| 1469543 |  732593 |  736950 |\n",
      "|울산| 1138419 |  586031 |  552388 |\n",
      "|세종|  376779 |  188619 |  188160 |\n",
      "|경기|13925862 | 7038296 | 6887566 |\n",
      "|강원| 1555876 |  783743 |  772133 |\n",
      "|충북| 1633472 |  832743 |  800729 |\n",
      "|충남| 2181835 | 1120429 | 1061406 |\n",
      "|전북| 1817186 |  905672 |  911514 |\n",
      "|전남| 1865459 |  943018 |  922441 |\n",
      "|경북| 2677709 | 1355128 | 1322581 |\n",
      "|경남| 3377331 | 1709989 | 1667342 |\n",
      "|제주|  697476 |  350822 |  346654 |\n",
      "+----+---------+---------+---------+\n",
      "\n",
      "+----+--------+----------+----------+\n",
      "| loc|      v1|        v2|        v3|\n",
      "+----+--------+----------+----------+\n",
      "|광주| 1247764| 1220758.0|  682394.0|\n",
      "|울산|  956895|  933311.0|  476692.0|\n",
      "|인천| 2532911| 2484196.0| 1330273.0|\n",
      "|대전| 1231435| 1203724.0|  628469.0|\n",
      "|대구| 1997407| 1945813.0|  978794.0|\n",
      "|부산| 2849093| 2788089.0| 1554554.0|\n",
      "|서울| 8239400| 8090244.0| 4304485.0|\n",
      "|전국|44505276|43582128.0|23741205.0|\n",
      "|세종|  290455|  282507.0|  138100.0|\n",
      "|경기|11652853|11414202.0| 5970505.0|\n",
      "|제주|  580579|  566811.0|  295807.0|\n",
      "|경남| 2848083| 2783896.0| 1517240.0|\n",
      "|경북| 2260963| 2202814.0| 1247047.0|\n",
      "|전남| 1632045| 1602479.0| 1031459.0|\n",
      "|전북| 1574779| 1547262.0|  958100.0|\n",
      "|충남| 1870124| 1830143.0| 1048429.0|\n",
      "|충북| 1408620| 1379378.0|  783588.0|\n",
      "|강원| 1331870| 1306501.0|  795269.0|\n",
      "+----+--------+----------+----------+\n",
      "\n"
     ]
    }
   ],
   "source": [
    "# 인구 data\n",
    "popu.show()\n",
    "# vaccine data\n",
    "file_dir_vac = \"/corona_data/vaccine/\"\n",
    "file_name = \"corona_vaccine_\"+cal_std_day(365*3+3)+\".json\"\n",
    "fname = file_dir_vac + file_name\n",
    "\n",
    "vaccine = spark.read.json(fname)\n",
    "# vaccine.show()\n",
    "# vaccine.select(\"data\").first()[\"data\"]\n",
    "tmpVac = spark.createDataFrame(vaccine.select(\"data\").first()[\"data\"])\n",
    "tmpVac.show()"
   ]
  },
  {
   "cell_type": "code",
   "execution_count": 30,
   "id": "60d9f5dc-9884-49a2-97b2-f44925167129",
   "metadata": {},
   "outputs": [
    {
     "name": "stdout",
     "output_type": "stream",
     "text": [
      "+----+--------+----------+----------+---------+---------+---------+\n",
      "| loc|      v1|        v2|        v3|    total|     male|   female|\n",
      "+----+--------+----------+----------+---------+---------+---------+\n",
      "|광주| 1247764| 1220758.0|  682394.0| 1462545 |  724178 |  738367 |\n",
      "|울산|  956895|  933311.0|  476692.0| 1138419 |  586031 |  552388 |\n",
      "|인천| 2532911| 2484196.0| 1330273.0| 3014739 | 1513277 | 1501462 |\n",
      "|대전| 1231435| 1203724.0|  628469.0| 1469543 |  732593 |  736950 |\n",
      "|대구| 1997407| 1945813.0|  978794.0| 2412642 | 1189901 | 1222741 |\n",
      "|부산| 2849093| 2788089.0| 1554554.0| 3396109 | 1663619 | 1732490 |\n",
      "|서울| 8239400| 8090244.0| 4304485.0| 9736027 | 4721977 | 5014050 |\n",
      "|전국|44505276|43582128.0|23741205.0|52739009 |26360035 |26378974 |\n",
      "|세종|  290455|  282507.0|  138100.0|  376779 |  188619 |  188160 |\n",
      "|경기|11652853|11414202.0| 5970505.0|13925862 | 7038296 | 6887566 |\n",
      "|제주|  580579|  566811.0|  295807.0|  697476 |  350822 |  346654 |\n",
      "|경남| 2848083| 2783896.0| 1517240.0| 3377331 | 1709989 | 1667342 |\n",
      "|경북| 2260963| 2202814.0| 1247047.0| 2677709 | 1355128 | 1322581 |\n",
      "|전남| 1632045| 1602479.0| 1031459.0| 1865459 |  943018 |  922441 |\n",
      "|전북| 1574779| 1547262.0|  958100.0| 1817186 |  905672 |  911514 |\n",
      "|충남| 1870124| 1830143.0| 1048429.0| 2181835 | 1120429 | 1061406 |\n",
      "|충북| 1408620| 1379378.0|  783588.0| 1633472 |  832743 |  800729 |\n",
      "|강원| 1331870| 1306501.0|  795269.0| 1555876 |  783743 |  772133 |\n",
      "+----+--------+----------+----------+---------+---------+---------+\n",
      "\n"
     ]
    }
   ],
   "source": [
    "# 인구대비 3차 접종률 컬럼 추가\n",
    "popVac = tmpVac.join(popu, on=\"loc\")\n",
    "popVac.show()"
   ]
  },
  {
   "cell_type": "code",
   "execution_count": 32,
   "id": "3523093c-994d-42ff-ad95-2429c2cca162",
   "metadata": {},
   "outputs": [
    {
     "name": "stdout",
     "output_type": "stream",
     "text": [
      "+----+----------+----------+\n",
      "| loc|        v2|vacPopRate|\n",
      "+----+----------+----------+\n",
      "|광주| 1220758.0|        84|\n",
      "|울산|  933311.0|        82|\n",
      "|인천| 2484196.0|        83|\n",
      "|대전| 1203724.0|        82|\n",
      "|대구| 1945813.0|        81|\n",
      "|부산| 2788089.0|        83|\n",
      "|서울| 8090244.0|        84|\n",
      "|전국|43582128.0|        83|\n",
      "|세종|  282507.0|        75|\n",
      "|경기|11414202.0|        82|\n",
      "|제주|  566811.0|        82|\n",
      "|경남| 2783896.0|        83|\n",
      "|경북| 2202814.0|        83|\n",
      "|전남| 1602479.0|        86|\n",
      "|전북| 1547262.0|        86|\n",
      "|충남| 1830143.0|        84|\n",
      "|충북| 1379378.0|        85|\n",
      "|강원| 1306501.0|        84|\n",
      "+----+----------+----------+\n",
      "\n"
     ]
    }
   ],
   "source": [
    "# V2와 total 활용 가공 데이터 : V3 수집 잘못함 -> 변경 필요\n",
    "popVac2 = popVac.select(\"loc\", \"v2\",\n",
    "                       ceil((popVac.v2/popVac.total)*100).alias(\"vacPopRate\"))\n",
    "popVac2.show()\n",
    "# DM DB에 저장해야"
   ]
  },
  {
   "cell_type": "markdown",
   "id": "ea6e4582-2772-47be-9fd6-e5f81ab6a105",
   "metadata": {},
   "source": [
    "- 코로나 발생 현황 vs 접종률 관계 확인 위한 그래프\n",
    "    - 그래프 그리기 위한 data 구성\n",
    "    - 운영 db에 저장\n",
    "    - 지역별 코로나 발생률과 접종률"
   ]
  },
  {
   "cell_type": "code",
   "execution_count": 36,
   "id": "8bb35513-c1a0-4ed8-9c5d-d72f8e9934f0",
   "metadata": {},
   "outputs": [
    {
     "data": {
      "text/plain": [
       "['loc', 'popu_density', 'defCnt', 'qurRate']"
      ]
     },
     "execution_count": 36,
     "metadata": {},
     "output_type": "execute_result"
    },
    {
     "data": {
      "text/plain": [
       "['loc', 'v2', 'vacPopRate']"
      ]
     },
     "execution_count": 36,
     "metadata": {},
     "output_type": "execute_result"
    },
    {
     "name": "stdout",
     "output_type": "stream",
     "text": [
      "+----+-------+----------+\n",
      "| loc|qurRate|vacPopRate|\n",
      "+----+-------+----------+\n",
      "|강원|    899|        84|\n",
      "|경기|   1555|        82|\n",
      "|경남|    687|        83|\n",
      "|경북|    646|        83|\n",
      "|광주|    727|        84|\n",
      "|대구|   1055|        81|\n",
      "|대전|    913|        82|\n",
      "|부산|    839|        83|\n",
      "|서울|   2559|        84|\n",
      "|세종|    642|        75|\n",
      "|울산|    665|        82|\n",
      "|인천|   1378|        83|\n",
      "|전남|    433|        86|\n",
      "|전북|    629|        86|\n",
      "|제주|    724|        82|\n",
      "|충남|    950|        84|\n",
      "|충북|    786|        85|\n",
      "+----+-------+----------+\n",
      "\n"
     ]
    }
   ],
   "source": [
    "coRate.columns\n",
    "popVac2.columns\n",
    "coVacPact = coRate.join(popVac2, on=\"loc\") \\\n",
    "      .select(\"loc\", \"qurRate\", \"vacPopRate\")\n",
    "coVacPact.show()"
   ]
  },
  {
   "cell_type": "code",
   "execution_count": 39,
   "id": "dd459916-51f0-4666-8087-9c5e5b577baf",
   "metadata": {},
   "outputs": [
    {
     "name": "stdout",
     "output_type": "stream",
     "text": [
      "root\n",
      " |-- loc: string (nullable = true)\n",
      " |-- qurRate: string (nullable = true)\n",
      " |-- vacPopRate: long (nullable = true)\n",
      "\n"
     ]
    }
   ],
   "source": [
    "coVacPact.printSchema()\n",
    "pdVacPact = coVacPact.toPandas()"
   ]
  },
  {
   "cell_type": "code",
   "execution_count": 40,
   "id": "d8380a03-168a-4f23-9041-560b90988a32",
   "metadata": {},
   "outputs": [
    {
     "name": "stdout",
     "output_type": "stream",
     "text": [
      "<class 'pandas.core.frame.DataFrame'>\n",
      "RangeIndex: 17 entries, 0 to 16\n",
      "Data columns (total 3 columns):\n",
      " #   Column      Non-Null Count  Dtype \n",
      "---  ------      --------------  ----- \n",
      " 0   loc         17 non-null     object\n",
      " 1   qurRate     17 non-null     object\n",
      " 2   vacPopRate  17 non-null     int64 \n",
      "dtypes: int64(1), object(2)\n",
      "memory usage: 536.0+ bytes\n"
     ]
    }
   ],
   "source": [
    "pdVacPact.info()"
   ]
  },
  {
   "cell_type": "code",
   "execution_count": 42,
   "id": "0a6812aa-1f45-40ed-af7f-4da34ddc60dd",
   "metadata": {},
   "outputs": [
    {
     "name": "stdout",
     "output_type": "stream",
     "text": [
      "<class 'pandas.core.frame.DataFrame'>\n",
      "RangeIndex: 17 entries, 0 to 16\n",
      "Data columns (total 3 columns):\n",
      " #   Column      Non-Null Count  Dtype \n",
      "---  ------      --------------  ----- \n",
      " 0   loc         17 non-null     object\n",
      " 1   qurRate     17 non-null     int64 \n",
      " 2   vacPopRate  17 non-null     int64 \n",
      "dtypes: int64(2), object(1)\n",
      "memory usage: 536.0+ bytes\n"
     ]
    }
   ],
   "source": [
    "pdVacPact[\"qurRate\"] = pdVacPact[\"qurRate\"].astype(int)\n",
    "pdVacPact.info()"
   ]
  },
  {
   "cell_type": "code",
   "execution_count": 43,
   "id": "3ec2a308-8b39-4bdd-98b6-68d9ee70dda8",
   "metadata": {},
   "outputs": [
    {
     "data": {
      "text/plain": [
       "<Axes: xlabel='vacPopRate', ylabel='qurRate'>"
      ]
     },
     "execution_count": 43,
     "metadata": {},
     "output_type": "execute_result"
    },
    {
     "name": "stderr",
     "output_type": "stream",
     "text": [
      "findfont: Font family 'NanumGothic' not found.\n",
      "findfont: Font family 'NanumGothic' not found.\n",
      "findfont: Font family 'NanumGothic' not found.\n",
      "findfont: Font family 'NanumGothic' not found.\n",
      "findfont: Font family 'NanumGothic' not found.\n",
      "findfont: Font family 'NanumGothic' not found.\n",
      "findfont: Font family 'NanumGothic' not found.\n",
      "findfont: Font family 'NanumGothic' not found.\n",
      "findfont: Font family 'NanumGothic' not found.\n",
      "findfont: Font family 'NanumGothic' not found.\n",
      "findfont: Font family 'NanumGothic' not found.\n",
      "findfont: Font family 'NanumGothic' not found.\n",
      "findfont: Font family 'NanumGothic' not found.\n",
      "findfont: Font family 'NanumGothic' not found.\n",
      "findfont: Font family 'NanumGothic' not found.\n",
      "findfont: Font family 'NanumGothic' not found.\n",
      "findfont: Font family 'NanumGothic' not found.\n",
      "findfont: Font family 'NanumGothic' not found.\n",
      "findfont: Font family 'NanumGothic' not found.\n",
      "findfont: Font family 'NanumGothic' not found.\n",
      "findfont: Font family 'NanumGothic' not found.\n",
      "findfont: Font family 'NanumGothic' not found.\n",
      "findfont: Font family 'NanumGothic' not found.\n",
      "findfont: Font family 'NanumGothic' not found.\n",
      "findfont: Font family 'NanumGothic' not found.\n",
      "findfont: Font family 'NanumGothic' not found.\n",
      "findfont: Font family 'NanumGothic' not found.\n",
      "findfont: Font family 'NanumGothic' not found.\n",
      "findfont: Font family 'NanumGothic' not found.\n",
      "findfont: Font family 'NanumGothic' not found.\n",
      "findfont: Font family 'NanumGothic' not found.\n",
      "findfont: Font family 'NanumGothic' not found.\n",
      "findfont: Font family 'NanumGothic' not found.\n",
      "findfont: Font family 'NanumGothic' not found.\n",
      "findfont: Font family 'NanumGothic' not found.\n",
      "findfont: Font family 'NanumGothic' not found.\n",
      "findfont: Font family 'NanumGothic' not found.\n",
      "findfont: Font family 'NanumGothic' not found.\n",
      "findfont: Font family 'NanumGothic' not found.\n",
      "findfont: Font family 'NanumGothic' not found.\n",
      "findfont: Font family 'NanumGothic' not found.\n",
      "findfont: Font family 'NanumGothic' not found.\n",
      "findfont: Font family 'NanumGothic' not found.\n",
      "findfont: Font family 'NanumGothic' not found.\n",
      "findfont: Font family 'NanumGothic' not found.\n",
      "findfont: Font family 'NanumGothic' not found.\n",
      "findfont: Font family 'NanumGothic' not found.\n",
      "findfont: Font family 'NanumGothic' not found.\n",
      "findfont: Font family 'NanumGothic' not found.\n",
      "findfont: Font family 'NanumGothic' not found.\n",
      "findfont: Font family 'NanumGothic' not found.\n",
      "findfont: Font family 'NanumGothic' not found.\n",
      "findfont: Font family 'NanumGothic' not found.\n",
      "findfont: Font family 'NanumGothic' not found.\n"
     ]
    },
    {
     "data": {
      "image/png": "[encoded data removed]",
      "text/plain": [
       "<Figure size 700x700 with 1 Axes>"
      ]
     },
     "metadata": {},
     "output_type": "display_data"
    }
   ],
   "source": [
    "pdVacPact.plot(kind = \"scatter\",\n",
    "               x = \"vacPopRate\",\n",
    "               y = \"qurRate\",\n",
    "               figsize=(7, 7))"
   ]
  },
  {
   "cell_type": "markdown",
   "id": "a79dc5a0-a60d-4e57-a7fc-0476ca5bc4d0",
   "metadata": {},
   "source": [
    "### 지역별 다중 이용 시설 data와 인구와의 가공 데이터 구성\n",
    "- 지역별 다중이용시설과 코로나 발생현황에 대한 관계\n",
    "- 지역별 인구 10만명당 다중 이용 시설 개수"
   ]
  },
  {
   "cell_type": "code",
   "execution_count": 47,
   "id": "dc03a927-2b46-43c8-b630-52e3d7ddb8d7",
   "metadata": {},
   "outputs": [
    {
     "name": "stdout",
     "output_type": "stream",
     "text": [
      "+----+---------+---------+---------+\n",
      "| loc|    total|     male|   female|\n",
      "+----+---------+---------+---------+\n",
      "|전국|52739009 |26360035 |26378974 |\n",
      "+----+---------+---------+---------+\n",
      "only showing top 1 row\n",
      "\n",
      "+----+----+------+---------------------+--------------+----------------+\n",
      "|연도|광역|시군구|               시설명|사업자등록번호|          시설군|\n",
      "+----+----+------+---------------------+--------------+----------------+\n",
      "|2020|강원|강릉시|     (주)경포솔향온천|  127-86-57613|          목욕장|\n",
      "|2020|강원|강릉시|       24시황실사우나|  226-33-03247|          목욕장|\n",
      "|2020|강원|강릉시|         강릉고려병원|  226-82-03662|        의료기관|\n",
      "|2020|강원|강릉시|   강릉고속버스터미널|  219-81-01636|여객자동차터미널|\n",
      "|2020|강원|강릉시|       강릉교육문화관|  226-83-03107|          도서관|\n",
      "|2020|강원|강릉시|         강릉동인병원|  226-82-01835|        의료기관|\n",
      "|2020|강원|강릉시|         강릉동인병원|  226-82-01835|        장례식장|\n",
      "|2020|강원|강릉시|강릉동인병원 장례식장|  226-90-93776|        장례식장|\n",
      "|2020|강원|강릉시|   강릉빛나라어린이집|  226-82-12841|        어린이집|\n",
      "|2020|강원|강릉시|     강릉삼성어린이집|  226-80-04288|        어린이집|\n",
      "|2020|강원|강릉시|          강릉시 기관|  226-83-00245|          도서관|\n",
      "|2020|강원|강릉시|          강릉시 기관|  226-83-00245|        어린이집|\n",
      "|2020|강원|강릉시|          강릉시 기관|  226-83-00245|          박물관|\n",
      "|2020|강원|강릉시|         강릉시보건소|  226-83-00264|        의료기관|\n",
      "|2020|강원|강릉시|   강릉시외버스터미널|  226-81-00066|여객자동차터미널|\n",
      "|2020|강원|강릉시|         강릉아나병원|  226-82-12614|        의료기관|\n",
      "|2020|강원|강릉시|         강릉아산병원|  226-82-04297|        의료기관|\n",
      "|2020|강원|강릉시|         강릉아산병원|  226-82-04297|        장례식장|\n",
      "|2020|강원|강릉시|         강릉어린이집|  226-82-02246|        어린이집|\n",
      "|2020|강원|강릉시|     강릉연세요양병원|  226-90-52421|        의료기관|\n",
      "+----+----+------+---------------------+--------------+----------------+\n",
      "only showing top 20 rows\n",
      "\n"
     ]
    }
   ],
   "source": [
    "# 인구\n",
    "popu.show(1)\n",
    "# 다중이용시설\n",
    "fasc = spark.read.csv(\"/corona_data/tmp/전국다중이용시설.csv\", encoding = \"CP949\", header = True)\n",
    "fasc.show()"
   ]
  },
  {
   "cell_type": "code",
   "execution_count": 48,
   "id": "86bb80ac-7de7-43a9-931d-401449a6b444",
   "metadata": {
    "collapsed": true,
    "jupyter": {
     "outputs_hidden": true
    }
   },
   "outputs": [
    {
     "name": "stderr",
     "output_type": "stream",
     "text": [
      "[Stage 88:>                                                         (0 + 1) / 1]"
     ]
    },
    {
     "name": "stdout",
     "output_type": "stream",
     "text": [
      "+----+-------+\n",
      "| loc|fascCnt|\n",
      "+----+-------+\n",
      "|경북|    944|\n",
      "|대전|    767|\n",
      "|전북|    759|\n",
      "|충북|    617|\n",
      "|울산|    431|\n",
      "|경남|   1357|\n",
      "|제주|    310|\n",
      "|충남|    824|\n",
      "|전남|    825|\n",
      "|인천|   1386|\n",
      "|부산|   1462|\n",
      "|대구|   1015|\n",
      "|경기|   6303|\n",
      "|서울|   5224|\n",
      "|광주|    732|\n",
      "|세종|    243|\n",
      "|강원|    584|\n",
      "+----+-------+\n",
      "\n"
     ]
    },
    {
     "name": "stderr",
     "output_type": "stream",
     "text": [
      "                                                                                "
     ]
    }
   ],
   "source": [
    "# 광역시 시군구별, 다중이용시설 영업소로 데이터가 구성되어 있음\n",
    "# 광역시 행을 세서 광역시별 다중이용시설의 수를 연산 // 인구대비 다중이용시설수\n",
    "fascV1 = fasc.groupby(col(\"광역\").alias(\"loc\")).agg(count(\"*\").alias(\"fascCnt\"))\n",
    "fascV1.show()"
   ]
  },
  {
   "cell_type": "code",
   "execution_count": 55,
   "id": "fbc4dae0-ff4b-4018-b20d-6c56fe00bd42",
   "metadata": {},
   "outputs": [
    {
     "name": "stdout",
     "output_type": "stream",
     "text": [
      "+----+---------+-------+------+\n",
      "| loc|    total|fascCnt|facPop|\n",
      "+----+---------+-------+------+\n",
      "|경북| 2677709 |    944|    36|\n",
      "|대전| 1469543 |    767|    53|\n",
      "|전북| 1817186 |    759|    42|\n",
      "|충북| 1633472 |    617|    38|\n",
      "|울산| 1138419 |    431|    38|\n",
      "|경남| 3377331 |   1357|    41|\n",
      "|제주|  697476 |    310|    45|\n",
      "|충남| 2181835 |    824|    38|\n",
      "|전남| 1865459 |    825|    45|\n",
      "|인천| 3014739 |   1386|    46|\n",
      "|부산| 3396109 |   1462|    44|\n",
      "|대구| 2412642 |   1015|    43|\n",
      "|경기|13925862 |   6303|    46|\n",
      "|서울| 9736027 |   5224|    54|\n",
      "|광주| 1462545 |    732|    51|\n",
      "|세종|  376779 |    243|    65|\n",
      "|강원| 1555876 |    584|    38|\n",
      "+----+---------+-------+------+\n",
      "\n"
     ]
    }
   ],
   "source": [
    "popFac = popu.join(fascV1, on=\"loc\") \\\n",
    "    .select(\"loc\", \"total\", \"fascCnt\", \n",
    "            ceil(col(\"fascCnt\")/col(\"total\")*100000).alias(\"facPop\"))\n",
    "popFac.show()"
   ]
  },
  {
   "cell_type": "code",
   "execution_count": 57,
   "id": "a6d8f45b-60cb-4acf-8269-f59097fab55f",
   "metadata": {},
   "outputs": [
    {
     "name": "stdout",
     "output_type": "stream",
     "text": [
      "+----+------------+------+-------+\n",
      "| loc|popu_density|defCnt|qurRate|\n",
      "+----+------------+------+-------+\n",
      "|강원|          93| 13838|    899|\n",
      "+----+------------+------+-------+\n",
      "only showing top 1 row\n",
      "\n",
      "+----+--------+-------+------+\n",
      "| loc|   total|fascCnt|facPop|\n",
      "+----+--------+-------+------+\n",
      "|경북|2677709 |    944|    36|\n",
      "+----+--------+-------+------+\n",
      "only showing top 1 row\n",
      "\n"
     ]
    }
   ],
   "source": [
    "coRate.show(1)\n",
    "popFac.show(1)"
   ]
  },
  {
   "cell_type": "code",
   "execution_count": 60,
   "id": "916d4d8c-4065-4c57-9068-304a47e61de0",
   "metadata": {},
   "outputs": [
    {
     "name": "stdout",
     "output_type": "stream",
     "text": [
      "+----+-------+------+\n",
      "| loc|qurRate|facPop|\n",
      "+----+-------+------+\n",
      "|인천|   1378|    46|\n",
      "|충북|    786|    38|\n",
      "|강원|    899|    38|\n",
      "|부산|    839|    44|\n",
      "|울산|    665|    38|\n",
      "|광주|    727|    51|\n",
      "|세종|    642|    65|\n",
      "|대구|   1055|    43|\n",
      "|경북|    646|    36|\n",
      "|경남|    687|    41|\n",
      "|서울|   2559|    54|\n",
      "|전남|    433|    45|\n",
      "|제주|    724|    45|\n",
      "|경기|   1555|    46|\n",
      "|전북|    629|    42|\n",
      "|충남|    950|    38|\n",
      "|대전|    913|    53|\n",
      "+----+-------+------+\n",
      "\n"
     ]
    }
   ],
   "source": [
    "# 최종 운영 DB에 저장할 데이터는\n",
    "coFac = coRate.join(popFac, on=\"loc\").select(\"loc\", \"qurRate\", \"facPop\")\n",
    "coFac.show()"
   ]
  },
  {
   "cell_type": "code",
   "execution_count": 62,
   "id": "d4a94b16-c1c9-4b12-abc6-29ed59532aa5",
   "metadata": {},
   "outputs": [
    {
     "name": "stdout",
     "output_type": "stream",
     "text": [
      "<class 'pandas.core.frame.DataFrame'>\n",
      "RangeIndex: 17 entries, 0 to 16\n",
      "Data columns (total 3 columns):\n",
      " #   Column   Non-Null Count  Dtype \n",
      "---  ------   --------------  ----- \n",
      " 0   loc      17 non-null     object\n",
      " 1   qurRate  17 non-null     int64 \n",
      " 2   facPop   17 non-null     int64 \n",
      "dtypes: int64(2), object(1)\n",
      "memory usage: 536.0+ bytes\n"
     ]
    }
   ],
   "source": [
    "pdCoFac = coFac.toPandas()\n",
    "pdCoFac[\"qurRate\"] = pdCoFac[\"qurRate\"].astype(int)\n",
    "pdCoFac.info()"
   ]
  },
  {
   "cell_type": "code",
   "execution_count": 64,
   "id": "e8bcb5c0-d8e0-453c-afce-aba42c4a7454",
   "metadata": {},
   "outputs": [
    {
     "data": {
      "text/plain": [
       "<Axes: xlabel='facPop', ylabel='qurRate'>"
      ]
     },
     "execution_count": 64,
     "metadata": {},
     "output_type": "execute_result"
    },
    {
     "name": "stderr",
     "output_type": "stream",
     "text": [
      "findfont: Font family 'NanumGothic' not found.\n",
      "findfont: Font family 'NanumGothic' not found.\n",
      "findfont: Font family 'NanumGothic' not found.\n",
      "findfont: Font family 'NanumGothic' not found.\n",
      "findfont: Font family 'NanumGothic' not found.\n",
      "findfont: Font family 'NanumGothic' not found.\n",
      "findfont: Font family 'NanumGothic' not found.\n",
      "findfont: Font family 'NanumGothic' not found.\n",
      "findfont: Font family 'NanumGothic' not found.\n",
      "findfont: Font family 'NanumGothic' not found.\n",
      "findfont: Font family 'NanumGothic' not found.\n",
      "findfont: Font family 'NanumGothic' not found.\n",
      "findfont: Font family 'NanumGothic' not found.\n",
      "findfont: Font family 'NanumGothic' not found.\n",
      "findfont: Font family 'NanumGothic' not found.\n",
      "findfont: Font family 'NanumGothic' not found.\n",
      "findfont: Font family 'NanumGothic' not found.\n",
      "findfont: Font family 'NanumGothic' not found.\n",
      "findfont: Font family 'NanumGothic' not found.\n",
      "findfont: Font family 'NanumGothic' not found.\n",
      "findfont: Font family 'NanumGothic' not found.\n",
      "findfont: Font family 'NanumGothic' not found.\n",
      "findfont: Font family 'NanumGothic' not found.\n",
      "findfont: Font family 'NanumGothic' not found.\n",
      "findfont: Font family 'NanumGothic' not found.\n",
      "findfont: Font family 'NanumGothic' not found.\n",
      "findfont: Font family 'NanumGothic' not found.\n",
      "findfont: Font family 'NanumGothic' not found.\n",
      "findfont: Font family 'NanumGothic' not found.\n",
      "findfont: Font family 'NanumGothic' not found.\n",
      "findfont: Font family 'NanumGothic' not found.\n",
      "findfont: Font family 'NanumGothic' not found.\n",
      "findfont: Font family 'NanumGothic' not found.\n",
      "findfont: Font family 'NanumGothic' not found.\n",
      "findfont: Font family 'NanumGothic' not found.\n",
      "findfont: Font family 'NanumGothic' not found.\n",
      "findfont: Font family 'NanumGothic' not found.\n",
      "findfont: Font family 'NanumGothic' not found.\n",
      "findfont: Font family 'NanumGothic' not found.\n",
      "findfont: Font family 'NanumGothic' not found.\n",
      "findfont: Font family 'NanumGothic' not found.\n",
      "findfont: Font family 'NanumGothic' not found.\n",
      "findfont: Font family 'NanumGothic' not found.\n",
      "findfont: Font family 'NanumGothic' not found.\n",
      "findfont: Font family 'NanumGothic' not found.\n",
      "findfont: Font family 'NanumGothic' not found.\n",
      "findfont: Font family 'NanumGothic' not found.\n",
      "findfont: Font family 'NanumGothic' not found.\n",
      "findfont: Font family 'NanumGothic' not found.\n",
      "findfont: Font family 'NanumGothic' not found.\n",
      "findfont: Font family 'NanumGothic' not found.\n",
      "findfont: Font family 'NanumGothic' not found.\n",
      "findfont: Font family 'NanumGothic' not found.\n",
      "findfont: Font family 'NanumGothic' not found.\n",
      "findfont: Font family 'NanumGothic' not found.\n",
      "findfont: Font family 'NanumGothic' not found.\n",
      "findfont: Font family 'NanumGothic' not found.\n",
      "findfont: Font family 'NanumGothic' not found.\n",
      "findfont: Font family 'NanumGothic' not found.\n",
      "findfont: Font family 'NanumGothic' not found.\n",
      "findfont: Font family 'NanumGothic' not found.\n",
      "findfont: Font family 'NanumGothic' not found.\n",
      "findfont: Font family 'NanumGothic' not found.\n",
      "findfont: Font family 'NanumGothic' not found.\n",
      "findfont: Font family 'NanumGothic' not found.\n",
      "findfont: Font family 'NanumGothic' not found.\n",
      "findfont: Font family 'NanumGothic' not found.\n",
      "findfont: Font family 'NanumGothic' not found.\n",
      "findfont: Font family 'NanumGothic' not found.\n",
      "findfont: Font family 'NanumGothic' not found.\n",
      "findfont: Font family 'NanumGothic' not found.\n",
      "findfont: Font family 'NanumGothic' not found.\n",
      "findfont: Font family 'NanumGothic' not found.\n",
      "findfont: Font family 'NanumGothic' not found.\n"
     ]
    },
    {
     "data": {
      "image/png": "[encoded data removed]",
      "text/plain": [
       "<Figure size 600x600 with 1 Axes>"
      ]
     },
     "metadata": {},
     "output_type": "display_data"
    }
   ],
   "source": [
    "pdCoFac.plot(kind = \"scatter\",\n",
    "             x = \"facPop\",\n",
    "             y = \"qurRate\",\n",
    "             xlim=(35, 70),\n",
    "             ylim=(600, 2600),\n",
    "             figsize=(6, 6))"
   ]
  },
  {
   "cell_type": "code",
   "execution_count": null,
   "id": "8b1c2371-fee1-4876-bb0c-1a4e2829553f",
   "metadata": {},
   "outputs": [],
   "source": []
  }
 ],
 "metadata": {
  "kernelspec": {
   "display_name": "Python 3 (ipykernel)",
   "language": "python",
   "name": "python3"
  },
  "language_info": {
   "codemirror_mode": {
    "name": "ipython",
    "version": 3
   },
   "file_extension": ".py",
   "mimetype": "text/x-python",
   "name": "python",
   "nbconvert_exporter": "python",
   "pygments_lexer": "ipython3",
   "version": "3.10.12"
  }
 },
 "nbformat": 4,
 "nbformat_minor": 5
}
