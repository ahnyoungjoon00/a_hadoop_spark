{
 "cells": [
  {
   "cell_type": "code",
   "execution_count": 18,
   "id": "9e054fb7",
   "metadata": {},
   "outputs": [],
   "source": [
    "from IPython.core.interactiveshell import InteractiveShell\n",
    "\n",
    "InteractiveShell.ast_node_interactivity = \"all\""
   ]
  },
  {
   "cell_type": "code",
   "execution_count": 19,
   "id": "42e97f23-935e-46b3-abd8-8ac90272b5ba",
   "metadata": {},
   "outputs": [
    {
     "name": "stdout",
     "output_type": "stream",
     "text": [
      "11\n"
     ]
    }
   ],
   "source": [
    "a = 10\n",
    "def afunc():\n",
    "    global a # 공유변수로 지정,, 이거 안해주면 인식 못함\n",
    "    a+=1 # 참조해서 값을 읽어 다시 참조변수에 저장할때는 지역변수에서만 찾는다.\n",
    "    print(a) # a는 afunc() 입장에서는 전역 변수\n",
    "afunc()"
   ]
  },
  {
   "cell_type": "markdown",
   "id": "c564ce46",
   "metadata": {},
   "source": [
    "# Shared Variables"
   ]
  },
  {
   "cell_type": "markdown",
   "id": "ab721049",
   "metadata": {},
   "source": [
    "- 모든 노드에서 사용하기 위한 공유변수\n",
    "\n",
    "\n",
    "- 공유변수로 지정한 값은 모든 노드에 중복되어 캐시된다.\n",
    "\n",
    "\n",
    "- 반복적으로 사용해야하는 변수라면,  \n",
    "  스파크의 노드는 네트워크를 통해 통신 하기 때문에 모든 노드에 중복 캐시하는 시스템적 비용보다  \n",
    "  네트워크 과정에서 발생하는 오버헤드 비용이 더 많이 발생하게 된다."
   ]
  },
  {
   "cell_type": "markdown",
   "id": "fddb3590",
   "metadata": {},
   "source": [
    "## Broadcast Variables"
   ]
  },
  {
   "cell_type": "markdown",
   "id": "8b8f1695",
   "metadata": {},
   "source": [
    "- 각 노드에 공유되는 읽기 전용 변수"
   ]
  },
  {
   "cell_type": "code",
   "execution_count": 31,
   "id": "3b910ad9",
   "metadata": {},
   "outputs": [],
   "source": [
    "# 학생별 수업카테고리코드로 지정되어있는 값을 카테고리 전체이름으로 변경한다고 가정 해보자\n",
    "\n",
    "data = [(\"홍길동\",\"DE\"),\n",
    "    (\"이제동\",\"DS\"),\n",
    "    (\"김철수\",\"DE\"),\n",
    "    (\"변현재\",\"WD\")]\n",
    "\n",
    "code_desc = {\"DE\":\"Data Engineer\", \"DS\":\"Data Science\", \"WD\":\"Web Developer\"}    "
   ]
  },
  {
   "cell_type": "code",
   "execution_count": 32,
   "id": "cbffe7c4-f304-4d0f-9949-9ded553deda6",
   "metadata": {},
   "outputs": [
    {
     "data": {
      "text/plain": [
       "[('홍길동', 'DE'), ('이제동', 'DS'), ('김철수', 'DE'), ('변현재', 'WD')]"
      ]
     },
     "execution_count": 32,
     "metadata": {},
     "output_type": "execute_result"
    }
   ],
   "source": [
    "student_rdd = sc.parallelize(data, 3)\n",
    "student_rdd.collect()"
   ]
  },
  {
   "cell_type": "code",
   "execution_count": 33,
   "id": "2987d6aa-59b2-4227-afa5-6f1f6651c08a",
   "metadata": {},
   "outputs": [],
   "source": [
    "# student_rdd.mapValues(lambda x : code_desc[x]).collect()"
   ]
  },
  {
   "cell_type": "markdown",
   "id": "2d0e2687-3df3-4e85-9939-8ad8c72129a9",
   "metadata": {},
   "source": [
    "### 학생 전공명 변경\n",
    "- 학생 data는 여러 rdd 객체로 구성되어 있음\n",
    "- 변경할 전공명은 code_desc변수로 구성해놓았음\n",
    "- code_desc는 모든 rdd가 접근 가능해야하고, 내용이 변경되면 안됨\n",
    "    - 공유변수로 등록, 변경 불가능한 readonly로 등록해서 사용할 필요가 있음 : Broadcast_var로 생성해서 사용\n",
    "### Broadcast var\n",
    "- sc(spark_context)가 아닌 spark(spark_session) 객체 변수로 제공\n",
    "- spark_session, spark_context, broadcast --> 변수로 사용할 값이나 변수"
   ]
  },
  {
   "cell_type": "code",
   "execution_count": 37,
   "id": "fcbf31fb",
   "metadata": {},
   "outputs": [
    {
     "data": {
      "text/plain": [
       "{'DS': 'PROCESS', 'WD': 'Web Developer'}"
      ]
     },
     "execution_count": 37,
     "metadata": {},
     "output_type": "execute_result"
    },
    {
     "data": {
      "text/plain": [
       "[('홍길동', 'Data Engineer'),\n",
       " ('이제동', 'PROCESS'),\n",
       " ('김철수', 'Data Engineer'),\n",
       " ('변현재', 'Web Developer')]"
      ]
     },
     "execution_count": 37,
     "metadata": {},
     "output_type": "execute_result"
    },
    {
     "data": {
      "text/plain": [
       "[('홍길동', 'Data Engineer'),\n",
       " ('이제동', 'Data Science'),\n",
       " ('김철수', 'Data Engineer'),\n",
       " ('변현재', 'Web Developer')]"
      ]
     },
     "execution_count": 37,
     "metadata": {},
     "output_type": "execute_result"
    }
   ],
   "source": [
    "# Broadcast_variables 사용하기\n",
    "code_desc = {\"DE\":\"Data Engineer\", \"DS\":\"Data Science\", \"WD\":\"Web Developer\"} # 등록할 변수    \n",
    "broadcast_S = spark.sparkContext.broadcast(code_desc) # 세션에 변수 등록하면 객체 반환\n",
    "# 읽기전용 변수, 수정을 하면\n",
    "code_desc[\"DS\"] = \"PROCESS\"\n",
    "broadcast_S.value[\"DS\"] = \"PROCESS\"\n",
    "# code_desc\n",
    "# broadcast_S.value\n",
    "\n",
    "del(broadcast_S.value[\"DE\"])# 삭제를 해도\n",
    "broadcast_S.value # action 연산이므로 rdd 내부에는 반영되지 않음\n",
    "\n",
    "student_rdd.mapValues(lambda e :code_desc[e]).collect()\n",
    "student_rdd.mapValues(lambda e :broadcast_S.value[e]).collect() # 사용 시점에는 삭제되지 않는다.\n",
    "\n",
    "# 아무일도 발생하지 않았다.\n",
    "# broadcast 함수를 사용해 생성하는 시점에 이미 SparkContext에 등록\n",
    "\n"
   ]
  },
  {
   "cell_type": "markdown",
   "id": "3957f291",
   "metadata": {},
   "source": [
    "## Accumulator"
   ]
  },
  {
   "cell_type": "markdown",
   "id": "2fcea8c2",
   "metadata": {},
   "source": [
    "- 각 노드에 공유되는 누산기 함수\n",
    "- 저장 속성과 add() 메소드 갖고 있는 특수한 형태의 클래스\n",
    "- sc.accumulator(수치형(정수형) // 기본값 :0)\n",
    "    - 각 노드에서 필요하다면 + 변경은 가능함"
   ]
  },
  {
   "cell_type": "code",
   "execution_count": 45,
   "id": "9177ba9b",
   "metadata": {
    "scrolled": true
   },
   "outputs": [
    {
     "data": {
      "text/plain": [
       "15"
      ]
     },
     "execution_count": 45,
     "metadata": {},
     "output_type": "execute_result"
    }
   ],
   "source": [
    "accum = sc.accumulator(0) # accum.value == 0으로 초기화\n",
    "rdd = sc.parallelize([1, 2, 3, 4, 5])\n",
    "\n",
    "# accum 누산기 클래스 활용해서 rdd data를 더하는 작업\n",
    "# foreach(f) : 전달되는 rdd 요소 각각에 대하여 f를 실행해주는 함수, f는 return값이 없어야함\n",
    "    # 주로 accumulator에 누적 저장하거나 외부 시스템에 출력용도로 사용함\n",
    "rdd.foreach(lambda x : accum.add(x))\n",
    "# rdd.foreach(lambda x : accum.add(x)).collect() # --> error가 발생 : 반환값이 없어서\n",
    "accum.value # 여기다가 저장해버림"
   ]
  },
  {
   "cell_type": "markdown",
   "id": "6b0eec5c-327e-472c-a1c9-2e59d6d503b2",
   "metadata": {},
   "source": [
    "### 잘못된 데이터 수 counting\n",
    "- 누적연산 필요\n",
    "- 누산기(accum) 활용"
   ]
  },
  {
   "cell_type": "code",
   "execution_count": 48,
   "id": "6d762276-a703-4f8a-96e4-6bd3d57a1432",
   "metadata": {},
   "outputs": [],
   "source": [
    "# 정상 데이터 : key:value\n",
    "# 비정상 데이터 수 확인\n",
    "accum1 = sc.accumulator(0) # 초기값 0으로 초기화\n",
    "\n",
    "rdd = sc.parallelize([\"A1:V1\",\"A2:V2\",\"A3\",\"A4:V4\",\"A5;V5\",\"A6::A6\"])"
   ]
  },
  {
   "cell_type": "code",
   "execution_count": 49,
   "id": "ecebfbbd-f9e8-478f-b3c2-3f3494632f87",
   "metadata": {},
   "outputs": [
    {
     "name": "stdout",
     "output_type": "stream",
     "text": [
      "잘못된 데이터 수 : 3\n"
     ]
    }
   ],
   "source": [
    "def f(x) :\n",
    "    global accum1\n",
    "    if len(x.split(\":\")) != 2:\n",
    "        accum1.add(1) # accum1.value += 1 // 특정 조건일 경우 누산기에 누적 연산을 진행하는 함수\n",
    "rdd.foreach(f)\n",
    "\n",
    "print(\"잘못된 데이터 수 : \" + str(accum1.value))"
   ]
  },
  {
   "cell_type": "code",
   "execution_count": 3,
   "id": "54dc9064",
   "metadata": {},
   "outputs": [],
   "source": [
    "# # accumulator를 사용하지 않는다면?\n",
    "# a = 0\n",
    "\n",
    "# # 모든 노드에서 발생하는 데이터 횟수를 확인해보자\n",
    "# def change_cate(e):\n",
    "#      a = a + 1\n",
    "#      return broadcastStates.value[e]\n",
    "    \n",
    "# students_rdd.mapValues(lambda e : change_cate(e)).collect()\n",
    "\n",
    "# # 횟수 확인\n",
    "# # local variable 'a' referenced before assignment 발생\n",
    "# a\n",
    "\n",
    "\n"
   ]
  },
  {
   "cell_type": "code",
   "execution_count": 4,
   "id": "beaedc73",
   "metadata": {},
   "outputs": [],
   "source": [
    "\n",
    "\n",
    "# 모든 노드에서 발생하는 데이터 횟수를 확인해보자\n",
    "\n",
    "\n",
    "# 횟수 확인\n",
    "# local variable 'a' referenced before assignment 발생\n"
   ]
  }
 ],
 "metadata": {
  "kernelspec": {
   "display_name": "Python 3 (ipykernel)",
   "language": "python",
   "name": "python3"
  },
  "language_info": {
   "codemirror_mode": {
    "name": "ipython",
    "version": 3
   },
   "file_extension": ".py",
   "mimetype": "text/x-python",
   "name": "python",
   "nbconvert_exporter": "python",
   "pygments_lexer": "ipython3",
   "version": "3.10.12"
  }
 },
 "nbformat": 4,
 "nbformat_minor": 5
}
