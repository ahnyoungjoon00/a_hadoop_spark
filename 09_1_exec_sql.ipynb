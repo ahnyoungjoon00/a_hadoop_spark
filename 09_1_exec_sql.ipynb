{
 "cells": [
  {
   "cell_type": "code",
   "execution_count": null,
   "id": "103488ec-8b09-40ae-8f12-408a7f17d77f",
   "metadata": {},
   "outputs": [],
   "source": [
    "from IPython.core.interactiveshell import InteractiveShell\n",
    "InteractiveShell.ast_node_interactivity = \"all\""
   ]
  },
  {
   "cell_type": "code",
   "execution_count": null,
   "id": "eacd18a1-6fa9-4054-b221-4ad35239f805",
   "metadata": {},
   "outputs": [],
   "source": [
    "from datetime import date, datetime\n",
    "from pyspark.sql import *\n",
    "from pyspark.sql.types import *\n",
    "from pyspark.sql.functions import *"
   ]
  },
  {
   "cell_type": "code",
   "execution_count": null,
   "id": "9b5d5348-3b4e-4b7b-9e08-56b296306675",
   "metadata": {},
   "outputs": [],
   "source": [
    "stocks = [\n",
    "    ('Google', 'GOOGL', 'USA', 2984, 'USD'), \n",
    "    ('Netflix', 'NFLX', 'USA', 645, 'USD'),\n",
    "    ('Amazon', 'AMZN', 'USA', 3518, 'USD'),\n",
    "    ('Tesla', 'TSLA', 'USA', 1222, 'USD'),\n",
    "    ('Tencent', '0700', 'Hong Kong', 483, 'HKD'),\n",
    "    ('Toyota', '7203', 'Japan', 2006, 'JPY'),\n",
    "    ('Samsung', '005930', 'Korea', 70600, 'KRW'),\n",
    "    ('Kakao', '035720', 'Korea', 125000, 'KRW'),\n",
    "]\n",
    "stockSchema = [\"name\", \"ticker\", \"country\", \"price\", \"currency\"]\n",
    "df = spark.createDataFrame(data=stocks, schema=stockSchema)"
   ]
  },
  {
   "cell_type": "code",
   "execution_count": null,
   "id": "9cf7f02b-7c9d-4f41-aafe-05fee1d87822",
   "metadata": {},
   "outputs": [],
   "source": [
    "df.show()\n",
    "df.printSchema()"
   ]
  },
  {
   "cell_type": "code",
   "execution_count": null,
   "id": "db0d7f21-279f-43b5-8161-7f2304af95d2",
   "metadata": {},
   "outputs": [],
   "source": [
    "# 1. df에서 name, ticker를 추출하시오\n",
    "ans1 = df.select(\"name\", \"ticker\")\n",
    "ans1.show()"
   ]
  },
  {
   "cell_type": "code",
   "execution_count": null,
   "id": "30df5af5-4562-4ffc-8c63-7379984508ff",
   "metadata": {},
   "outputs": [],
   "source": [
    "# 2. df를 stocks 라는 view로 생성하시오\n",
    "df.createOrReplaceTempView(\"stocks\")"
   ]
  },
  {
   "cell_type": "code",
   "execution_count": null,
   "id": "7d86ab06-823c-41ef-b887-3ebf7761158b",
   "metadata": {},
   "outputs": [],
   "source": [
    "# 3. view stocks를 사용하여 stocks view의 모든 컬럼을 추출하시오\n",
    "ans3 = spark.sql(\"select * from stocks\")\n",
    "ans3.show()"
   ]
  },
  {
   "cell_type": "code",
   "execution_count": null,
   "id": "6b991df1-ea4a-4b0b-a397-9dfe6a839234",
   "metadata": {},
   "outputs": [],
   "source": [
    "# 4. stocks view에서 country가 Korea인 data만 추출하시오\n",
    "ans4 = spark.sql('''select * \n",
    "                    from stocks\n",
    "                    where country = \"Korea\"\n",
    "                    ''')\n",
    "ans4.show()"
   ]
  },
  {
   "cell_type": "code",
   "execution_count": null,
   "id": "e5114fdf-0648-4f06-9550-68e15dbcf62b",
   "metadata": {},
   "outputs": [],
   "source": [
    "# 5. df에서 country가 Korea인 data를 추출하시오\n",
    "ans5 = df.select(\"*\") \\\n",
    "        .filter(df.country == \"Korea\")\n",
    "ans5.show()"
   ]
  },
  {
   "cell_type": "code",
   "execution_count": null,
   "id": "94462fbb-0147-4844-8abf-1032b5cbd24c",
   "metadata": {},
   "outputs": [],
   "source": [
    "# 6. stocks view에서 price 갸 2000 초과하고 country가  USA인 데이터의 name과 price를 출력하시오\n",
    "ans6 = spark.sql('''select name, price \n",
    "                    from stocks\n",
    "                    where price > 2000\n",
    "                    and country = \"USA\"\n",
    "                    ''')\n",
    "ans6.show()"
   ]
  },
  {
   "cell_type": "code",
   "execution_count": null,
   "id": "59a53c4a-e81b-41f2-a7ba-4d1e0642cddb",
   "metadata": {},
   "outputs": [],
   "source": [
    "# 7. df에서 price 가 2000 초과하고 country가  USA인 데이터의 name과 price를 출력하시오\n",
    "ans7 = df.select(\"name\", \"price\") \\\n",
    "        .filter((df.price > 2000) &\n",
    "               (df.country == \"USA\"))\n",
    "ans7.show()"
   ]
  },
  {
   "cell_type": "code",
   "execution_count": null,
   "id": "86ef499a-38a7-41e3-8898-4ac558a3b2bf",
   "metadata": {},
   "outputs": [],
   "source": [
    "# 8. sotocks view에서 country가 U로 시작하는 데이터의 name과 price를 추출하시오\n",
    "ans8 = spark.sql('''select name, price \n",
    "                    from stocks\n",
    "                    where country like \"U%\"\n",
    "                    ''')\n",
    "ans8.show()"
   ]
  },
  {
   "cell_type": "code",
   "execution_count": null,
   "id": "4bd6bfd1-a74b-49d2-a296-5d6bf0e3023c",
   "metadata": {},
   "outputs": [],
   "source": [
    "# 9. df에서 country가 U로 시작하는 데이터의 name과 price를 추출하시오\n",
    "ans9 = df.select(\"name\", \"price\") \\\n",
    "        .filter(df.country.like(\"U%\"))\n",
    "ans9.show()"
   ]
  },
  {
   "cell_type": "code",
   "execution_count": null,
   "id": "481abdd9-92a2-4f82-9616-b7cbe3802641",
   "metadata": {},
   "outputs": [],
   "source": [
    "# 10. stocks view에서 country가 'U'로 시작하고 이름에 'e'가 포함되지 않은 데이터의 name과 price를 추출하시오.\n",
    "ans10 = spark.sql('''select name, price \n",
    "                    from stocks\n",
    "                    where (country like 'U%')\n",
    "                    and NOT (name like '%e%')\n",
    "                    ''')\n",
    "ans10.show()"
   ]
  },
  {
   "cell_type": "code",
   "execution_count": null,
   "id": "6d5deabf-9589-46e8-ae63-ebf2dcb89b1d",
   "metadata": {},
   "outputs": [],
   "source": [
    "# 11. df에서 country가 'U'로 시작하고 이름에 'e'가 포함되지 않은 데이터의 name과 price를 추출하시오.\n",
    "\n",
    "ans11 = df.select(\"name\", \"price\") \\\n",
    "        .filter((df.country.startswith(\"U\")) &\n",
    "               ~(df.name.like(\"%e%\")))\n",
    "ans11.show()"
   ]
  },
  {
   "cell_type": "code",
   "execution_count": null,
   "id": "d1a5534e-b9c1-4fa7-a95b-8b3870802c74",
   "metadata": {},
   "outputs": [],
   "source": [
    "# 12. stocks view에서 price가 1000~10000인 데이터를 추출하시오\n",
    "ans12 = spark.sql('''select * \n",
    "                    from stocks\n",
    "                    where price between 1000 and 10000\n",
    "                    ''')\n",
    "ans12.show()"
   ]
  }
 ],
 "metadata": {
  "kernelspec": {
   "display_name": "Python 3 (ipykernel)",
   "language": "python",
   "name": "python3"
  },
  "language_info": {
   "codemirror_mode": {
    "name": "ipython",
    "version": 3
   },
   "file_extension": ".py",
   "mimetype": "text/x-python",
   "name": "python",
   "nbconvert_exporter": "python",
   "pygments_lexer": "ipython3",
   "version": "3.10.12"
  }
 },
 "nbformat": 4,
 "nbformat_minor": 5
}
